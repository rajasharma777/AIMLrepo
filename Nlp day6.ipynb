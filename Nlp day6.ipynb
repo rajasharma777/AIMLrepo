{
 "cells": [
  {
   "cell_type": "markdown",
   "id": "aad9e9c6",
   "metadata": {},
   "source": [
    "Build a NLP Language model for text generation involves train a neural network to predict the next word in a sequence of words."
   ]
  },
  {
   "cell_type": "code",
   "execution_count": 1,
   "id": "2bab6d77",
   "metadata": {},
   "outputs": [],
   "source": [
    "#import libraries\n",
    "import numpy as np\n",
    "import tensorflow as tf\n",
    "from tensorflow.keras.models import Sequential\n",
    "from tensorflow.keras.layers import Embedding,LSTM,Dense"
   ]
  },
  {
   "cell_type": "code",
   "execution_count": 2,
   "id": "3b10d670",
   "metadata": {},
   "outputs": [
    {
     "data": {
      "text/plain": [
       "['The lion is king of the jungle.', 'Ms Dhoni is my favourite cricket player']"
      ]
     },
     "execution_count": 2,
     "metadata": {},
     "output_type": "execute_result"
    }
   ],
   "source": [
    "#Sample Data\n",
    "text_data=[\"The lion is king of the jungle.\",\"Ms Dhoni is my favourite cricket player\"]\n",
    "text_data\n"
   ]
  },
  {
   "cell_type": "code",
   "execution_count": null,
   "id": "63fe6cb1",
   "metadata": {},
   "outputs": [],
   "source": []
  },
  {
   "cell_type": "code",
   "execution_count": 3,
   "id": "13e9a5be",
   "metadata": {},
   "outputs": [
    {
     "name": "stdout",
     "output_type": "stream",
     "text": [
      "13\n"
     ]
    }
   ],
   "source": [
    "#Tokenization\n",
    "tokenizer=tf.keras.preprocessing.text.Tokenizer()\n",
    "tokenizer.fit_on_texts(text_data)\n",
    "total_words=len(tokenizer.word_index)+1\n",
    "print(total_words)"
   ]
  },
  {
   "cell_type": "code",
   "execution_count": 4,
   "id": "361ce467",
   "metadata": {},
   "outputs": [],
   "source": [
    "\n",
    "#Create input sequences and targets\n",
    "input_sequences=[]\n",
    "for line in text_data:\n",
    "     token_list=tokenizer.texts_to_sequences([line])[0]\n",
    "     for i in range(1,len(token_list)):\n",
    "         n_gram_sequence=token_list[:i+1]\n",
    "         input_sequences.append(n_gram_sequence)\n",
    "max_sequence_length=max([len(seq) for seq in input_sequences])\n",
    "input_sequences=tf.keras.preprocessing.sequence.pad_sequences(input_sequences,maxlen=max_sequence_length, padding='pre')\n",
    "x,y=input_sequences[:,:-1],input_sequences[:,-1]\n",
    "y=tf.keras.utils.to_categorical(y,num_classes=total_words)\n"
   ]
  },
  {
   "cell_type": "code",
   "execution_count": null,
   "id": "5a3e2688",
   "metadata": {},
   "outputs": [],
   "source": []
  },
  {
   "cell_type": "code",
   "execution_count": 5,
   "id": "fc31871d",
   "metadata": {},
   "outputs": [
    {
     "name": "stdout",
     "output_type": "stream",
     "text": [
      "Epoch 1/100\n",
      "1/1 - 2s - loss: 2.5637 - accuracy: 0.0000e+00 - 2s/epoch - 2s/step\n",
      "Epoch 2/100\n",
      "1/1 - 0s - loss: 2.5542 - accuracy: 0.3333 - 8ms/epoch - 8ms/step\n",
      "Epoch 3/100\n",
      "1/1 - 0s - loss: 2.5446 - accuracy: 0.2500 - 12ms/epoch - 12ms/step\n",
      "Epoch 4/100\n",
      "1/1 - 0s - loss: 2.5350 - accuracy: 0.1667 - 8ms/epoch - 8ms/step\n",
      "Epoch 5/100\n",
      "1/1 - 0s - loss: 2.5250 - accuracy: 0.1667 - 12ms/epoch - 12ms/step\n",
      "Epoch 6/100\n",
      "1/1 - 0s - loss: 2.5145 - accuracy: 0.1667 - 10ms/epoch - 10ms/step\n",
      "Epoch 7/100\n",
      "1/1 - 0s - loss: 2.5035 - accuracy: 0.1667 - 6ms/epoch - 6ms/step\n",
      "Epoch 8/100\n",
      "1/1 - 0s - loss: 2.4916 - accuracy: 0.1667 - 10ms/epoch - 10ms/step\n",
      "Epoch 9/100\n",
      "1/1 - 0s - loss: 2.4788 - accuracy: 0.1667 - 8ms/epoch - 8ms/step\n",
      "Epoch 10/100\n",
      "1/1 - 0s - loss: 2.4649 - accuracy: 0.1667 - 7ms/epoch - 7ms/step\n",
      "Epoch 11/100\n",
      "1/1 - 0s - loss: 2.4495 - accuracy: 0.1667 - 8ms/epoch - 8ms/step\n",
      "Epoch 12/100\n",
      "1/1 - 0s - loss: 2.4326 - accuracy: 0.1667 - 7ms/epoch - 7ms/step\n",
      "Epoch 13/100\n",
      "1/1 - 0s - loss: 2.4139 - accuracy: 0.1667 - 7ms/epoch - 7ms/step\n",
      "Epoch 14/100\n",
      "1/1 - 0s - loss: 2.3931 - accuracy: 0.1667 - 6ms/epoch - 6ms/step\n",
      "Epoch 15/100\n",
      "1/1 - 0s - loss: 2.3700 - accuracy: 0.1667 - 8ms/epoch - 8ms/step\n",
      "Epoch 16/100\n",
      "1/1 - 0s - loss: 2.3447 - accuracy: 0.1667 - 8ms/epoch - 8ms/step\n",
      "Epoch 17/100\n",
      "1/1 - 0s - loss: 2.3170 - accuracy: 0.1667 - 7ms/epoch - 7ms/step\n",
      "Epoch 18/100\n",
      "1/1 - 0s - loss: 2.2874 - accuracy: 0.1667 - 8ms/epoch - 8ms/step\n",
      "Epoch 19/100\n",
      "1/1 - 0s - loss: 2.2569 - accuracy: 0.1667 - 5ms/epoch - 5ms/step\n",
      "Epoch 20/100\n",
      "1/1 - 0s - loss: 2.2271 - accuracy: 0.1667 - 10ms/epoch - 10ms/step\n",
      "Epoch 21/100\n",
      "1/1 - 0s - loss: 2.2000 - accuracy: 0.1667 - 8ms/epoch - 8ms/step\n",
      "Epoch 22/100\n",
      "1/1 - 0s - loss: 2.1767 - accuracy: 0.1667 - 8ms/epoch - 8ms/step\n",
      "Epoch 23/100\n",
      "1/1 - 0s - loss: 2.1547 - accuracy: 0.1667 - 9ms/epoch - 9ms/step\n",
      "Epoch 24/100\n",
      "1/1 - 0s - loss: 2.1292 - accuracy: 0.2500 - 6ms/epoch - 6ms/step\n",
      "Epoch 25/100\n",
      "1/1 - 0s - loss: 2.0974 - accuracy: 0.2500 - 9ms/epoch - 9ms/step\n",
      "Epoch 26/100\n",
      "1/1 - 0s - loss: 2.0597 - accuracy: 0.3333 - 7ms/epoch - 7ms/step\n",
      "Epoch 27/100\n",
      "1/1 - 0s - loss: 2.0188 - accuracy: 0.3333 - 8ms/epoch - 8ms/step\n",
      "Epoch 28/100\n",
      "1/1 - 0s - loss: 1.9772 - accuracy: 0.3333 - 10ms/epoch - 10ms/step\n",
      "Epoch 29/100\n",
      "1/1 - 0s - loss: 1.9365 - accuracy: 0.3333 - 6ms/epoch - 6ms/step\n",
      "Epoch 30/100\n",
      "1/1 - 0s - loss: 1.8967 - accuracy: 0.3333 - 8ms/epoch - 8ms/step\n",
      "Epoch 31/100\n",
      "1/1 - 0s - loss: 1.8567 - accuracy: 0.3333 - 7ms/epoch - 7ms/step\n",
      "Epoch 32/100\n",
      "1/1 - 0s - loss: 1.8154 - accuracy: 0.5000 - 7ms/epoch - 7ms/step\n",
      "Epoch 33/100\n",
      "1/1 - 0s - loss: 1.7715 - accuracy: 0.5000 - 8ms/epoch - 8ms/step\n",
      "Epoch 34/100\n",
      "1/1 - 0s - loss: 1.7245 - accuracy: 0.5000 - 7ms/epoch - 7ms/step\n",
      "Epoch 35/100\n",
      "1/1 - 0s - loss: 1.6740 - accuracy: 0.6667 - 11ms/epoch - 11ms/step\n",
      "Epoch 36/100\n",
      "1/1 - 0s - loss: 1.6206 - accuracy: 0.7500 - 8ms/epoch - 8ms/step\n",
      "Epoch 37/100\n",
      "1/1 - 0s - loss: 1.5654 - accuracy: 0.7500 - 8ms/epoch - 8ms/step\n",
      "Epoch 38/100\n",
      "1/1 - 0s - loss: 1.5096 - accuracy: 0.6667 - 9ms/epoch - 9ms/step\n",
      "Epoch 39/100\n",
      "1/1 - 0s - loss: 1.4534 - accuracy: 0.6667 - 7ms/epoch - 7ms/step\n",
      "Epoch 40/100\n",
      "1/1 - 0s - loss: 1.3961 - accuracy: 0.6667 - 10ms/epoch - 10ms/step\n",
      "Epoch 41/100\n",
      "1/1 - 0s - loss: 1.3364 - accuracy: 0.8333 - 6ms/epoch - 6ms/step\n",
      "Epoch 42/100\n",
      "1/1 - 0s - loss: 1.2747 - accuracy: 0.8333 - 8ms/epoch - 8ms/step\n",
      "Epoch 43/100\n",
      "1/1 - 0s - loss: 1.2129 - accuracy: 0.8333 - 8ms/epoch - 8ms/step\n",
      "Epoch 44/100\n",
      "1/1 - 0s - loss: 1.1518 - accuracy: 0.8333 - 6ms/epoch - 6ms/step\n",
      "Epoch 45/100\n",
      "1/1 - 0s - loss: 1.0906 - accuracy: 0.8333 - 12ms/epoch - 12ms/step\n",
      "Epoch 46/100\n",
      "1/1 - 0s - loss: 1.0284 - accuracy: 0.8333 - 9ms/epoch - 9ms/step\n",
      "Epoch 47/100\n",
      "1/1 - 0s - loss: 0.9674 - accuracy: 0.8333 - 9ms/epoch - 9ms/step\n",
      "Epoch 48/100\n",
      "1/1 - 0s - loss: 0.9095 - accuracy: 0.8333 - 6ms/epoch - 6ms/step\n",
      "Epoch 49/100\n",
      "1/1 - 0s - loss: 0.8536 - accuracy: 0.8333 - 7ms/epoch - 7ms/step\n",
      "Epoch 50/100\n",
      "1/1 - 0s - loss: 0.7983 - accuracy: 0.8333 - 6ms/epoch - 6ms/step\n",
      "Epoch 51/100\n",
      "1/1 - 0s - loss: 0.7456 - accuracy: 0.8333 - 6ms/epoch - 6ms/step\n",
      "Epoch 52/100\n",
      "1/1 - 0s - loss: 0.6978 - accuracy: 0.8333 - 5ms/epoch - 5ms/step\n",
      "Epoch 53/100\n",
      "1/1 - 0s - loss: 0.6538 - accuracy: 0.8333 - 6ms/epoch - 6ms/step\n",
      "Epoch 54/100\n",
      "1/1 - 0s - loss: 0.6134 - accuracy: 0.8333 - 5ms/epoch - 5ms/step\n",
      "Epoch 55/100\n",
      "1/1 - 0s - loss: 0.5770 - accuracy: 0.8333 - 5ms/epoch - 5ms/step\n",
      "Epoch 56/100\n",
      "1/1 - 0s - loss: 0.5433 - accuracy: 0.8333 - 5ms/epoch - 5ms/step\n",
      "Epoch 57/100\n",
      "1/1 - 0s - loss: 0.5117 - accuracy: 0.8333 - 5ms/epoch - 5ms/step\n",
      "Epoch 58/100\n",
      "1/1 - 0s - loss: 0.4832 - accuracy: 0.9167 - 5ms/epoch - 5ms/step\n",
      "Epoch 59/100\n",
      "1/1 - 0s - loss: 0.4572 - accuracy: 0.9167 - 6ms/epoch - 6ms/step\n",
      "Epoch 60/100\n",
      "1/1 - 0s - loss: 0.4331 - accuracy: 0.9167 - 5ms/epoch - 5ms/step\n",
      "Epoch 61/100\n",
      "1/1 - 0s - loss: 0.4110 - accuracy: 1.0000 - 5ms/epoch - 5ms/step\n",
      "Epoch 62/100\n",
      "1/1 - 0s - loss: 0.3898 - accuracy: 1.0000 - 5ms/epoch - 5ms/step\n",
      "Epoch 63/100\n",
      "1/1 - 0s - loss: 0.3705 - accuracy: 1.0000 - 5ms/epoch - 5ms/step\n",
      "Epoch 64/100\n",
      "1/1 - 0s - loss: 0.3528 - accuracy: 1.0000 - 6ms/epoch - 6ms/step\n",
      "Epoch 65/100\n",
      "1/1 - 0s - loss: 0.3367 - accuracy: 1.0000 - 7ms/epoch - 7ms/step\n",
      "Epoch 66/100\n",
      "1/1 - 0s - loss: 0.3218 - accuracy: 1.0000 - 7ms/epoch - 7ms/step\n",
      "Epoch 67/100\n",
      "1/1 - 0s - loss: 0.3075 - accuracy: 1.0000 - 6ms/epoch - 6ms/step\n",
      "Epoch 68/100\n",
      "1/1 - 0s - loss: 0.2942 - accuracy: 1.0000 - 6ms/epoch - 6ms/step\n",
      "Epoch 69/100\n",
      "1/1 - 0s - loss: 0.2815 - accuracy: 1.0000 - 8ms/epoch - 8ms/step\n",
      "Epoch 70/100\n",
      "1/1 - 0s - loss: 0.2697 - accuracy: 1.0000 - 6ms/epoch - 6ms/step\n",
      "Epoch 71/100\n",
      "1/1 - 0s - loss: 0.2585 - accuracy: 1.0000 - 7ms/epoch - 7ms/step\n",
      "Epoch 72/100\n",
      "1/1 - 0s - loss: 0.2479 - accuracy: 1.0000 - 7ms/epoch - 7ms/step\n",
      "Epoch 73/100\n",
      "1/1 - 0s - loss: 0.2374 - accuracy: 1.0000 - 10ms/epoch - 10ms/step\n",
      "Epoch 74/100\n",
      "1/1 - 0s - loss: 0.2273 - accuracy: 1.0000 - 6ms/epoch - 6ms/step\n",
      "Epoch 75/100\n",
      "1/1 - 0s - loss: 0.2177 - accuracy: 1.0000 - 7ms/epoch - 7ms/step\n",
      "Epoch 76/100\n",
      "1/1 - 0s - loss: 0.2086 - accuracy: 1.0000 - 7ms/epoch - 7ms/step\n",
      "Epoch 77/100\n",
      "1/1 - 0s - loss: 0.2000 - accuracy: 1.0000 - 7ms/epoch - 7ms/step\n",
      "Epoch 78/100\n",
      "1/1 - 0s - loss: 0.1918 - accuracy: 1.0000 - 7ms/epoch - 7ms/step\n",
      "Epoch 79/100\n",
      "1/1 - 0s - loss: 0.1840 - accuracy: 1.0000 - 7ms/epoch - 7ms/step\n",
      "Epoch 80/100\n",
      "1/1 - 0s - loss: 0.1764 - accuracy: 1.0000 - 10ms/epoch - 10ms/step\n",
      "Epoch 81/100\n",
      "1/1 - 0s - loss: 0.1692 - accuracy: 1.0000 - 8ms/epoch - 8ms/step\n",
      "Epoch 82/100\n",
      "1/1 - 0s - loss: 0.1622 - accuracy: 1.0000 - 7ms/epoch - 7ms/step\n",
      "Epoch 83/100\n",
      "1/1 - 0s - loss: 0.1554 - accuracy: 1.0000 - 7ms/epoch - 7ms/step\n",
      "Epoch 84/100\n",
      "1/1 - 0s - loss: 0.1489 - accuracy: 1.0000 - 7ms/epoch - 7ms/step\n",
      "Epoch 85/100\n",
      "1/1 - 0s - loss: 0.1426 - accuracy: 1.0000 - 7ms/epoch - 7ms/step\n",
      "Epoch 86/100\n",
      "1/1 - 0s - loss: 0.1366 - accuracy: 1.0000 - 7ms/epoch - 7ms/step\n",
      "Epoch 87/100\n",
      "1/1 - 0s - loss: 0.1309 - accuracy: 1.0000 - 7ms/epoch - 7ms/step\n",
      "Epoch 88/100\n",
      "1/1 - 0s - loss: 0.1253 - accuracy: 1.0000 - 8ms/epoch - 8ms/step\n",
      "Epoch 89/100\n",
      "1/1 - 0s - loss: 0.1200 - accuracy: 1.0000 - 7ms/epoch - 7ms/step\n",
      "Epoch 90/100\n",
      "1/1 - 0s - loss: 0.1149 - accuracy: 1.0000 - 7ms/epoch - 7ms/step\n",
      "Epoch 91/100\n",
      "1/1 - 0s - loss: 0.1099 - accuracy: 1.0000 - 7ms/epoch - 7ms/step\n",
      "Epoch 92/100\n",
      "1/1 - 0s - loss: 0.1052 - accuracy: 1.0000 - 7ms/epoch - 7ms/step\n",
      "Epoch 93/100\n",
      "1/1 - 0s - loss: 0.1007 - accuracy: 1.0000 - 8ms/epoch - 8ms/step\n",
      "Epoch 94/100\n",
      "1/1 - 0s - loss: 0.0963 - accuracy: 1.0000 - 8ms/epoch - 8ms/step\n",
      "Epoch 95/100\n",
      "1/1 - 0s - loss: 0.0922 - accuracy: 1.0000 - 7ms/epoch - 7ms/step\n",
      "Epoch 96/100\n",
      "1/1 - 0s - loss: 0.0882 - accuracy: 1.0000 - 7ms/epoch - 7ms/step\n",
      "Epoch 97/100\n",
      "1/1 - 0s - loss: 0.0845 - accuracy: 1.0000 - 7ms/epoch - 7ms/step\n",
      "Epoch 98/100\n",
      "1/1 - 0s - loss: 0.0809 - accuracy: 1.0000 - 7ms/epoch - 7ms/step\n",
      "Epoch 99/100\n",
      "1/1 - 0s - loss: 0.0776 - accuracy: 1.0000 - 7ms/epoch - 7ms/step\n",
      "Epoch 100/100\n",
      "1/1 - 0s - loss: 0.0743 - accuracy: 1.0000 - 7ms/epoch - 7ms/step\n"
     ]
    },
    {
     "data": {
      "text/plain": [
       "<keras.src.callbacks.History at 0x1a1f0460c10>"
      ]
     },
     "execution_count": 5,
     "metadata": {},
     "output_type": "execute_result"
    }
   ],
   "source": [
    "from sys import meta_path\n",
    "#Build the model\n",
    "model=Sequential()\n",
    "model.add(Embedding(total_words,100,input_length=max_sequence_length-1)) # input embedd\n",
    "model.add(LSTM(100)) #hidden layer\n",
    "model.add(Dense(total_words,activation='softmax')) #output layer\n",
    "#Compile the model\n",
    "model.compile(optimizer='adam',loss='categorical_crossentropy',metrics=['accuracy'])\n",
    "#Train\n",
    "model.fit(x,y,epochs=100,verbose=2)\n"
   ]
  },
  {
   "cell_type": "code",
   "execution_count": 6,
   "id": "967d77b7",
   "metadata": {},
   "outputs": [
    {
     "name": "stdout",
     "output_type": "stream",
     "text": [
      "1/1 - 0s - 397ms/epoch - 397ms/step\n",
      "1/1 - 0s - 20ms/epoch - 20ms/step\n",
      "1/1 - 0s - 19ms/epoch - 19ms/step\n",
      "1/1 - 0s - 20ms/epoch - 20ms/step\n",
      "1/1 - 0s - 20ms/epoch - 20ms/step\n",
      "1/1 - 0s - 17ms/epoch - 17ms/step\n",
      "1/1 - 0s - 18ms/epoch - 18ms/step\n",
      "1/1 - 0s - 18ms/epoch - 18ms/step\n",
      "1/1 - 0s - 18ms/epoch - 18ms/step\n",
      "1/1 - 0s - 17ms/epoch - 17ms/step\n",
      "Dhoni is my favourite favourite cricket player player player player player the the the\n"
     ]
    }
   ],
   "source": [
    "#Generate text completion\n",
    "seed_text=\"Dhoni is my favourite\"\n",
    "next_words=10\n",
    "for _ in range(next_words):\n",
    "     token_list=tokenizer.texts_to_sequences([seed_text])[0]\n",
    "     token_list=tf.keras.preprocessing.sequence.pad_sequences([token_list],maxlen=max_sequence_length-1, padding='pre')\n",
    "     predicted=np.argmax(model.predict(token_list,verbose=2))\n",
    "     output_word=\"\"\n",
    "     for word,index in tokenizer.word_index.items():\n",
    "         if index==predicted:\n",
    "             output_word=word\n",
    "             break\n",
    "     seed_text +=\" \"+output_word\n",
    "print(seed_text)\n"
   ]
  },
  {
   "cell_type": "code",
   "execution_count": 7,
   "id": "770f9ab1",
   "metadata": {},
   "outputs": [
    {
     "name": "stdout",
     "output_type": "stream",
     "text": [
      "1/1 - 0s - 19ms/epoch - 19ms/step\n",
      "1/1 - 0s - 16ms/epoch - 16ms/step\n",
      "1/1 - 0s - 16ms/epoch - 16ms/step\n",
      "lion is  is king of\n"
     ]
    }
   ],
   "source": [
    "#Generate text completion\n",
    "seed_text=\"lion is \"\n",
    "next_words=3\n",
    "for _ in range(next_words):\n",
    "     token_list=tokenizer.texts_to_sequences([seed_text])[0]\n",
    "     token_list=tf.keras.preprocessing.sequence.pad_sequences([token_list],maxlen=max_sequence_length-1, padding='pre')\n",
    "     predicted=np.argmax(model.predict(token_list,verbose=2))\n",
    "     output_word=\"\"\n",
    "     for word,index in tokenizer.word_index.items():\n",
    "         if index==predicted:\n",
    "             output_word=word\n",
    "             break\n",
    "     seed_text +=\" \"+output_word\n",
    "print(seed_text)\n"
   ]
  },
  {
   "cell_type": "markdown",
   "id": "5faf9d56",
   "metadata": {},
   "source": [
    "Build a Speech to Text model."
   ]
  },
  {
   "cell_type": "code",
   "execution_count": 8,
   "id": "f7d07820",
   "metadata": {},
   "outputs": [],
   "source": [
    "import speech_recognition as sr\n",
    "\n"
   ]
  },
  {
   "cell_type": "code",
   "execution_count": 9,
   "id": "2c3794c9",
   "metadata": {},
   "outputs": [],
   "source": [
    "recog=sr.Recognizer()"
   ]
  },
  {
   "cell_type": "code",
   "execution_count": 10,
   "id": "3a65ff2f",
   "metadata": {},
   "outputs": [],
   "source": [
    "?recog.record"
   ]
  },
  {
   "cell_type": "code",
   "execution_count": 11,
   "id": "13a952c2",
   "metadata": {},
   "outputs": [
    {
     "data": {
      "text/plain": [
       "['__class__',\n",
       " '__delattr__',\n",
       " '__dict__',\n",
       " '__dir__',\n",
       " '__doc__',\n",
       " '__enter__',\n",
       " '__eq__',\n",
       " '__exit__',\n",
       " '__format__',\n",
       " '__ge__',\n",
       " '__getattribute__',\n",
       " '__getstate__',\n",
       " '__gt__',\n",
       " '__hash__',\n",
       " '__init__',\n",
       " '__init_subclass__',\n",
       " '__le__',\n",
       " '__lt__',\n",
       " '__module__',\n",
       " '__ne__',\n",
       " '__new__',\n",
       " '__reduce__',\n",
       " '__reduce_ex__',\n",
       " '__repr__',\n",
       " '__setattr__',\n",
       " '__sizeof__',\n",
       " '__str__',\n",
       " '__subclasshook__',\n",
       " '__weakref__',\n",
       " 'adjust_for_ambient_noise',\n",
       " 'dynamic_energy_adjustment_damping',\n",
       " 'dynamic_energy_ratio',\n",
       " 'dynamic_energy_threshold',\n",
       " 'energy_threshold',\n",
       " 'lasttfgraph',\n",
       " 'listen',\n",
       " 'listen_in_background',\n",
       " 'non_speaking_duration',\n",
       " 'operation_timeout',\n",
       " 'pause_threshold',\n",
       " 'phrase_threshold',\n",
       " 'recognize_amazon',\n",
       " 'recognize_api',\n",
       " 'recognize_assemblyai',\n",
       " 'recognize_azure',\n",
       " 'recognize_bing',\n",
       " 'recognize_google',\n",
       " 'recognize_google_cloud',\n",
       " 'recognize_houndify',\n",
       " 'recognize_ibm',\n",
       " 'recognize_lex',\n",
       " 'recognize_sphinx',\n",
       " 'recognize_tensorflow',\n",
       " 'recognize_vosk',\n",
       " 'recognize_whisper',\n",
       " 'recognize_whisper_api',\n",
       " 'recognize_wit',\n",
       " 'record',\n",
       " 'snowboy_wait_for_hot_word',\n",
       " 'tflabels']"
      ]
     },
     "execution_count": 11,
     "metadata": {},
     "output_type": "execute_result"
    }
   ],
   "source": [
    "\n",
    "dir(recog)"
   ]
  },
  {
   "cell_type": "code",
   "execution_count": 12,
   "id": "3487e7b6",
   "metadata": {},
   "outputs": [
    {
     "data": {
      "text/plain": [
       "<speech_recognition.AudioFile at 0x1a1f15e1010>"
      ]
     },
     "execution_count": 12,
     "metadata": {},
     "output_type": "execute_result"
    }
   ],
   "source": [
    "samp=sr.AudioFile(\"one12.wav\")\n",
    "samp"
   ]
  },
  {
   "cell_type": "code",
   "execution_count": 13,
   "id": "cad5bacd",
   "metadata": {},
   "outputs": [],
   "source": [
    "with samp as source:\n",
    "  audio=recog.record(samp)"
   ]
  },
  {
   "cell_type": "code",
   "execution_count": 14,
   "id": "506d368c",
   "metadata": {},
   "outputs": [
    {
     "name": "stdout",
     "output_type": "stream",
     "text": [
      "Text for the Audio:\n",
      "\n",
      "lion is the king of jungle MS Dhoni is a bad\n"
     ]
    }
   ],
   "source": [
    "res=recog.recognize_google(audio)\n",
    "print('Text for the Audio:\\n')\n",
    "print(res)\n"
   ]
  },
  {
   "cell_type": "code",
   "execution_count": 15,
   "id": "b4315eda",
   "metadata": {},
   "outputs": [],
   "source": [
    "def speech_to_text(file):\n",
    "     samp=sr.AudioFile(file)\n",
    "     with samp as source:\n",
    "         audio=recog.record(samp)\n",
    "     return recog.recognize_google(audio)"
   ]
  },
  {
   "cell_type": "code",
   "execution_count": 16,
   "id": "8d4bf147",
   "metadata": {},
   "outputs": [
    {
     "name": "stdout",
     "output_type": "stream",
     "text": [
      "I love this little bluetooth speaker the Bluetooth connectivity is good the sound quality is amazing I listen to music all the time and I use spotify\n"
     ]
    }
   ],
   "source": [
    "op_text=speech_to_text(\"two12.wav\")\n",
    "print(op_text)\n"
   ]
  },
  {
   "cell_type": "markdown",
   "id": "9cedfbae",
   "metadata": {},
   "source": [
    "Build a Text to Speech model."
   ]
  },
  {
   "cell_type": "code",
   "execution_count": 17,
   "id": "be910583",
   "metadata": {},
   "outputs": [
    {
     "name": "stdout",
     "output_type": "stream",
     "text": [
      "Requirement already satisfied: gtts in c:\\users\\dell\\anaconda3\\lib\\site-packages (2.4.0)\n",
      "Requirement already satisfied: requests<3,>=2.27 in c:\\users\\dell\\appdata\\roaming\\python\\python311\\site-packages (from gtts) (2.31.0)\n",
      "Requirement already satisfied: click<8.2,>=7.1 in c:\\users\\dell\\appdata\\roaming\\python\\python311\\site-packages (from gtts) (8.1.7)\n",
      "Requirement already satisfied: colorama in c:\\users\\dell\\appdata\\roaming\\python\\python311\\site-packages (from click<8.2,>=7.1->gtts) (0.4.6)\n",
      "Requirement already satisfied: charset-normalizer<4,>=2 in c:\\users\\dell\\appdata\\roaming\\python\\python311\\site-packages (from requests<3,>=2.27->gtts) (3.3.0)\n",
      "Requirement already satisfied: idna<4,>=2.5 in c:\\users\\dell\\appdata\\roaming\\python\\python311\\site-packages (from requests<3,>=2.27->gtts) (3.4)\n",
      "Requirement already satisfied: urllib3<3,>=1.21.1 in c:\\users\\dell\\appdata\\roaming\\python\\python311\\site-packages (from requests<3,>=2.27->gtts) (1.26.18)\n",
      "Requirement already satisfied: certifi>=2017.4.17 in c:\\users\\dell\\appdata\\roaming\\python\\python311\\site-packages (from requests<3,>=2.27->gtts) (2023.7.22)\n",
      "Note: you may need to restart the kernel to use updated packages.\n"
     ]
    }
   ],
   "source": [
    "#pip install gtts"
   ]
  },
  {
   "cell_type": "code",
   "execution_count": 18,
   "id": "f0e5c4ff",
   "metadata": {},
   "outputs": [
    {
     "name": "stdout",
     "output_type": "stream",
     "text": [
      "User text pl >>:I am a software engineer working in bangalore.\n"
     ]
    }
   ],
   "source": [
    "from gtts import gTTS\n",
    "import os\n",
    "def text_to_speech(text,language='en',filename='output.mp3'):\n",
    "  tts=gTTS(text=text,lang=language,slow=False)\n",
    "  tts.save(filename)\n",
    "  os.system(f\"start {filename}\")\n",
    " \n",
    "if __name__==\"__main__\":\n",
    "  input_text=input('User text pl >>:')\n",
    "  text_to_speech(input_text)"
   ]
  }
 ],
 "metadata": {
  "kernelspec": {
   "display_name": "Python 3 (ipykernel)",
   "language": "python",
   "name": "python3"
  },
  "language_info": {
   "codemirror_mode": {
    "name": "ipython",
    "version": 3
   },
   "file_extension": ".py",
   "mimetype": "text/x-python",
   "name": "python",
   "nbconvert_exporter": "python",
   "pygments_lexer": "ipython3",
   "version": "3.11.4"
  }
 },
 "nbformat": 4,
 "nbformat_minor": 5
}
