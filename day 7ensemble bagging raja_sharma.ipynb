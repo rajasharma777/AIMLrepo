{
 "cells": [
  {
   "cell_type": "code",
   "execution_count": 31,
   "id": "b8de27a9",
   "metadata": {},
   "outputs": [],
   "source": [
    "import numpy as np\n",
    "import pandas as pd\n",
    "import matplotlib.pyplot as plt\n",
    "import seaborn as sns\n"
   ]
  },
  {
   "cell_type": "code",
   "execution_count": 37,
   "id": "1bfd3992",
   "metadata": {},
   "outputs": [],
   "source": [
    "data= pd.read_csv('diabetes_with_names.csv')"
   ]
  },
  {
   "cell_type": "code",
   "execution_count": 38,
   "id": "d63c6306",
   "metadata": {},
   "outputs": [
    {
     "data": {
      "text/html": [
       "<div>\n",
       "<style scoped>\n",
       "    .dataframe tbody tr th:only-of-type {\n",
       "        vertical-align: middle;\n",
       "    }\n",
       "\n",
       "    .dataframe tbody tr th {\n",
       "        vertical-align: top;\n",
       "    }\n",
       "\n",
       "    .dataframe thead th {\n",
       "        text-align: right;\n",
       "    }\n",
       "</style>\n",
       "<table border=\"1\" class=\"dataframe\">\n",
       "  <thead>\n",
       "    <tr style=\"text-align: right;\">\n",
       "      <th></th>\n",
       "      <th>Pregnancies</th>\n",
       "      <th>Glucose</th>\n",
       "      <th>BloodPressure</th>\n",
       "      <th>SkinThickness</th>\n",
       "      <th>Insulin</th>\n",
       "      <th>BMI</th>\n",
       "      <th>DiabetesPedigreeFunction</th>\n",
       "      <th>Age</th>\n",
       "      <th>Outcome</th>\n",
       "    </tr>\n",
       "  </thead>\n",
       "  <tbody>\n",
       "    <tr>\n",
       "      <th>0</th>\n",
       "      <td>6.0</td>\n",
       "      <td>148</td>\n",
       "      <td>72</td>\n",
       "      <td>35.0</td>\n",
       "      <td>0</td>\n",
       "      <td>33.6</td>\n",
       "      <td>0.627</td>\n",
       "      <td>50.0</td>\n",
       "      <td>1</td>\n",
       "    </tr>\n",
       "    <tr>\n",
       "      <th>1</th>\n",
       "      <td>NaN</td>\n",
       "      <td>85</td>\n",
       "      <td>66</td>\n",
       "      <td>29.0</td>\n",
       "      <td>0</td>\n",
       "      <td>26.6</td>\n",
       "      <td>0.351</td>\n",
       "      <td>NaN</td>\n",
       "      <td>0</td>\n",
       "    </tr>\n",
       "    <tr>\n",
       "      <th>2</th>\n",
       "      <td>8.0</td>\n",
       "      <td>183</td>\n",
       "      <td>64</td>\n",
       "      <td>0.0</td>\n",
       "      <td>0</td>\n",
       "      <td>NaN</td>\n",
       "      <td>0.672</td>\n",
       "      <td>32.0</td>\n",
       "      <td>1</td>\n",
       "    </tr>\n",
       "    <tr>\n",
       "      <th>3</th>\n",
       "      <td>1.0</td>\n",
       "      <td>89</td>\n",
       "      <td>66</td>\n",
       "      <td>23.0</td>\n",
       "      <td>94</td>\n",
       "      <td>28.1</td>\n",
       "      <td>0.167</td>\n",
       "      <td>21.0</td>\n",
       "      <td>0</td>\n",
       "    </tr>\n",
       "    <tr>\n",
       "      <th>4</th>\n",
       "      <td>0.0</td>\n",
       "      <td>137</td>\n",
       "      <td>40</td>\n",
       "      <td>35.0</td>\n",
       "      <td>168</td>\n",
       "      <td>43.1</td>\n",
       "      <td>2.288</td>\n",
       "      <td>33.0</td>\n",
       "      <td>1</td>\n",
       "    </tr>\n",
       "  </tbody>\n",
       "</table>\n",
       "</div>"
      ],
      "text/plain": [
       "   Pregnancies  Glucose  BloodPressure  SkinThickness  Insulin   BMI  \\\n",
       "0          6.0      148             72           35.0        0  33.6   \n",
       "1          NaN       85             66           29.0        0  26.6   \n",
       "2          8.0      183             64            0.0        0   NaN   \n",
       "3          1.0       89             66           23.0       94  28.1   \n",
       "4          0.0      137             40           35.0      168  43.1   \n",
       "\n",
       "   DiabetesPedigreeFunction   Age  Outcome  \n",
       "0                     0.627  50.0        1  \n",
       "1                     0.351   NaN        0  \n",
       "2                     0.672  32.0        1  \n",
       "3                     0.167  21.0        0  \n",
       "4                     2.288  33.0        1  "
      ]
     },
     "execution_count": 38,
     "metadata": {},
     "output_type": "execute_result"
    }
   ],
   "source": [
    "data.head()"
   ]
  },
  {
   "cell_type": "markdown",
   "id": "1168dede",
   "metadata": {},
   "source": [
    "# EDA"
   ]
  },
  {
   "cell_type": "code",
   "execution_count": 39,
   "id": "1d0c8b01",
   "metadata": {},
   "outputs": [
    {
     "data": {
      "text/plain": [
       "Pregnancies                 2\n",
       "Glucose                     0\n",
       "BloodPressure               0\n",
       "SkinThickness               1\n",
       "Insulin                     0\n",
       "BMI                         1\n",
       "DiabetesPedigreeFunction    0\n",
       "Age                         1\n",
       "Outcome                     0\n",
       "dtype: int64"
      ]
     },
     "execution_count": 39,
     "metadata": {},
     "output_type": "execute_result"
    }
   ],
   "source": [
    "#CHECKING FOR MISSING VALUES\n",
    "data.isna().sum()"
   ]
  },
  {
   "cell_type": "code",
   "execution_count": 40,
   "id": "c5f62168",
   "metadata": {},
   "outputs": [
    {
     "name": "stderr",
     "output_type": "stream",
     "text": [
      "C:\\Users\\Dell\\AppData\\Local\\Temp\\ipykernel_6272\\4059266483.py:1: FutureWarning: DataFrame.fillna with 'method' is deprecated and will raise in a future version. Use obj.ffill() or obj.bfill() instead.\n",
      "  df = data.fillna(method='bfill')\n"
     ]
    }
   ],
   "source": [
    "df = data.fillna(method='bfill')"
   ]
  },
  {
   "cell_type": "code",
   "execution_count": 41,
   "id": "d786e081",
   "metadata": {},
   "outputs": [
    {
     "data": {
      "text/plain": [
       "Pregnancies                 0\n",
       "Glucose                     0\n",
       "BloodPressure               0\n",
       "SkinThickness               0\n",
       "Insulin                     0\n",
       "BMI                         0\n",
       "DiabetesPedigreeFunction    0\n",
       "Age                         0\n",
       "Outcome                     0\n",
       "dtype: int64"
      ]
     },
     "execution_count": 41,
     "metadata": {},
     "output_type": "execute_result"
    }
   ],
   "source": [
    "df.isna().sum()"
   ]
  },
  {
   "cell_type": "code",
   "execution_count": 42,
   "id": "4e43ce4f",
   "metadata": {},
   "outputs": [
    {
     "name": "stdout",
     "output_type": "stream",
     "text": [
      "<class 'pandas.core.frame.DataFrame'>\n",
      "RangeIndex: 768 entries, 0 to 767\n",
      "Data columns (total 9 columns):\n",
      " #   Column                    Non-Null Count  Dtype  \n",
      "---  ------                    --------------  -----  \n",
      " 0   Pregnancies               768 non-null    float64\n",
      " 1   Glucose                   768 non-null    int64  \n",
      " 2   BloodPressure             768 non-null    int64  \n",
      " 3   SkinThickness             768 non-null    float64\n",
      " 4   Insulin                   768 non-null    int64  \n",
      " 5   BMI                       768 non-null    float64\n",
      " 6   DiabetesPedigreeFunction  768 non-null    float64\n",
      " 7   Age                       768 non-null    float64\n",
      " 8   Outcome                   768 non-null    int64  \n",
      "dtypes: float64(5), int64(4)\n",
      "memory usage: 54.1 KB\n"
     ]
    }
   ],
   "source": [
    "df.info()"
   ]
  },
  {
   "cell_type": "code",
   "execution_count": 43,
   "id": "0ca382b6",
   "metadata": {},
   "outputs": [
    {
     "data": {
      "text/html": [
       "<div>\n",
       "<style scoped>\n",
       "    .dataframe tbody tr th:only-of-type {\n",
       "        vertical-align: middle;\n",
       "    }\n",
       "\n",
       "    .dataframe tbody tr th {\n",
       "        vertical-align: top;\n",
       "    }\n",
       "\n",
       "    .dataframe thead th {\n",
       "        text-align: right;\n",
       "    }\n",
       "</style>\n",
       "<table border=\"1\" class=\"dataframe\">\n",
       "  <thead>\n",
       "    <tr style=\"text-align: right;\">\n",
       "      <th></th>\n",
       "      <th>count</th>\n",
       "      <th>mean</th>\n",
       "      <th>std</th>\n",
       "      <th>min</th>\n",
       "      <th>25%</th>\n",
       "      <th>50%</th>\n",
       "      <th>75%</th>\n",
       "      <th>max</th>\n",
       "    </tr>\n",
       "  </thead>\n",
       "  <tbody>\n",
       "    <tr>\n",
       "      <th>Pregnancies</th>\n",
       "      <td>768.0</td>\n",
       "      <td>3.863281</td>\n",
       "      <td>3.378482</td>\n",
       "      <td>0.000</td>\n",
       "      <td>1.00000</td>\n",
       "      <td>3.0000</td>\n",
       "      <td>6.00000</td>\n",
       "      <td>17.00</td>\n",
       "    </tr>\n",
       "    <tr>\n",
       "      <th>Glucose</th>\n",
       "      <td>768.0</td>\n",
       "      <td>120.894531</td>\n",
       "      <td>31.972618</td>\n",
       "      <td>0.000</td>\n",
       "      <td>99.00000</td>\n",
       "      <td>117.0000</td>\n",
       "      <td>140.25000</td>\n",
       "      <td>199.00</td>\n",
       "    </tr>\n",
       "    <tr>\n",
       "      <th>BloodPressure</th>\n",
       "      <td>768.0</td>\n",
       "      <td>69.105469</td>\n",
       "      <td>19.355807</td>\n",
       "      <td>0.000</td>\n",
       "      <td>62.00000</td>\n",
       "      <td>72.0000</td>\n",
       "      <td>80.00000</td>\n",
       "      <td>122.00</td>\n",
       "    </tr>\n",
       "    <tr>\n",
       "      <th>SkinThickness</th>\n",
       "      <td>768.0</td>\n",
       "      <td>20.533854</td>\n",
       "      <td>15.950016</td>\n",
       "      <td>0.000</td>\n",
       "      <td>0.00000</td>\n",
       "      <td>23.0000</td>\n",
       "      <td>32.00000</td>\n",
       "      <td>99.00</td>\n",
       "    </tr>\n",
       "    <tr>\n",
       "      <th>Insulin</th>\n",
       "      <td>768.0</td>\n",
       "      <td>79.799479</td>\n",
       "      <td>115.244002</td>\n",
       "      <td>0.000</td>\n",
       "      <td>0.00000</td>\n",
       "      <td>30.5000</td>\n",
       "      <td>127.25000</td>\n",
       "      <td>846.00</td>\n",
       "    </tr>\n",
       "    <tr>\n",
       "      <th>BMI</th>\n",
       "      <td>768.0</td>\n",
       "      <td>31.998828</td>\n",
       "      <td>7.879161</td>\n",
       "      <td>0.000</td>\n",
       "      <td>27.30000</td>\n",
       "      <td>32.0000</td>\n",
       "      <td>36.60000</td>\n",
       "      <td>67.10</td>\n",
       "    </tr>\n",
       "    <tr>\n",
       "      <th>DiabetesPedigreeFunction</th>\n",
       "      <td>768.0</td>\n",
       "      <td>0.471876</td>\n",
       "      <td>0.331329</td>\n",
       "      <td>0.078</td>\n",
       "      <td>0.24375</td>\n",
       "      <td>0.3725</td>\n",
       "      <td>0.62625</td>\n",
       "      <td>2.42</td>\n",
       "    </tr>\n",
       "    <tr>\n",
       "      <th>Age</th>\n",
       "      <td>768.0</td>\n",
       "      <td>33.242188</td>\n",
       "      <td>11.760038</td>\n",
       "      <td>21.000</td>\n",
       "      <td>24.00000</td>\n",
       "      <td>29.0000</td>\n",
       "      <td>41.00000</td>\n",
       "      <td>81.00</td>\n",
       "    </tr>\n",
       "    <tr>\n",
       "      <th>Outcome</th>\n",
       "      <td>768.0</td>\n",
       "      <td>0.348958</td>\n",
       "      <td>0.476951</td>\n",
       "      <td>0.000</td>\n",
       "      <td>0.00000</td>\n",
       "      <td>0.0000</td>\n",
       "      <td>1.00000</td>\n",
       "      <td>1.00</td>\n",
       "    </tr>\n",
       "  </tbody>\n",
       "</table>\n",
       "</div>"
      ],
      "text/plain": [
       "                          count        mean         std     min       25%  \\\n",
       "Pregnancies               768.0    3.863281    3.378482   0.000   1.00000   \n",
       "Glucose                   768.0  120.894531   31.972618   0.000  99.00000   \n",
       "BloodPressure             768.0   69.105469   19.355807   0.000  62.00000   \n",
       "SkinThickness             768.0   20.533854   15.950016   0.000   0.00000   \n",
       "Insulin                   768.0   79.799479  115.244002   0.000   0.00000   \n",
       "BMI                       768.0   31.998828    7.879161   0.000  27.30000   \n",
       "DiabetesPedigreeFunction  768.0    0.471876    0.331329   0.078   0.24375   \n",
       "Age                       768.0   33.242188   11.760038  21.000  24.00000   \n",
       "Outcome                   768.0    0.348958    0.476951   0.000   0.00000   \n",
       "\n",
       "                               50%        75%     max  \n",
       "Pregnancies                 3.0000    6.00000   17.00  \n",
       "Glucose                   117.0000  140.25000  199.00  \n",
       "BloodPressure              72.0000   80.00000  122.00  \n",
       "SkinThickness              23.0000   32.00000   99.00  \n",
       "Insulin                    30.5000  127.25000  846.00  \n",
       "BMI                        32.0000   36.60000   67.10  \n",
       "DiabetesPedigreeFunction    0.3725    0.62625    2.42  \n",
       "Age                        29.0000   41.00000   81.00  \n",
       "Outcome                     0.0000    1.00000    1.00  "
      ]
     },
     "execution_count": 43,
     "metadata": {},
     "output_type": "execute_result"
    }
   ],
   "source": [
    "df.describe().T"
   ]
  },
  {
   "cell_type": "code",
   "execution_count": 44,
   "id": "2a8a6879",
   "metadata": {},
   "outputs": [
    {
     "data": {
      "text/plain": [
       "Pregnancies                 float64\n",
       "Glucose                       int64\n",
       "BloodPressure                 int64\n",
       "SkinThickness               float64\n",
       "Insulin                       int64\n",
       "BMI                         float64\n",
       "DiabetesPedigreeFunction    float64\n",
       "Age                         float64\n",
       "Outcome                       int64\n",
       "dtype: object"
      ]
     },
     "execution_count": 44,
     "metadata": {},
     "output_type": "execute_result"
    }
   ],
   "source": [
    "df.dtypes"
   ]
  },
  {
   "cell_type": "code",
   "execution_count": 45,
   "id": "4446f4a5",
   "metadata": {},
   "outputs": [
    {
     "data": {
      "text/plain": [
       "(768, 9)"
      ]
     },
     "execution_count": 45,
     "metadata": {},
     "output_type": "execute_result"
    }
   ],
   "source": [
    "df.shape"
   ]
  },
  {
   "cell_type": "code",
   "execution_count": 47,
   "id": "076a29df",
   "metadata": {},
   "outputs": [
    {
     "data": {
      "text/plain": [
       "array([1, 0], dtype=int64)"
      ]
     },
     "execution_count": 47,
     "metadata": {},
     "output_type": "execute_result"
    }
   ],
   "source": [
    "df['Outcome'].unique()"
   ]
  },
  {
   "cell_type": "code",
   "execution_count": 48,
   "id": "6c782fe4",
   "metadata": {},
   "outputs": [
    {
     "data": {
      "text/plain": [
       "<Axes: xlabel='Outcome', ylabel='count'>"
      ]
     },
     "execution_count": 48,
     "metadata": {},
     "output_type": "execute_result"
    },
    {
     "data": {
      "image/png": "[encoded data removed]",
      "text/plain": [
       "<Figure size 640x480 with 1 Axes>"
      ]
     },
     "metadata": {},
     "output_type": "display_data"
    }
   ],
   "source": [
    "sns.countplot(df,x='Outcome')"
   ]
  },
  {
   "cell_type": "code",
   "execution_count": 49,
   "id": "6c85615f",
   "metadata": {},
   "outputs": [
    {
     "data": {
      "text/plain": [
       "<Axes: >"
      ]
     },
     "execution_count": 49,
     "metadata": {},
     "output_type": "execute_result"
    },
    {
     "data": {
      "image/png": "[encoded data removed]",
      "text/plain": [
       "<Figure size 1000x1000 with 2 Axes>"
      ]
     },
     "metadata": {},
     "output_type": "display_data"
    }
   ],
   "source": [
    "fig=plt.figure(figsize=(10,10))\n",
    "sns.heatmap(df.corr(),annot=True)"
   ]
  },
  {
   "cell_type": "code",
   "execution_count": 50,
   "id": "1eb6e5bf",
   "metadata": {},
   "outputs": [
    {
     "data": {
      "text/plain": [
       "<Axes: >"
      ]
     },
     "execution_count": 50,
     "metadata": {},
     "output_type": "execute_result"
    },
    {
     "data": {
      "image/png": "[encoded data removed]",
      "text/plain": [
       "<Figure size 1000x800 with 1 Axes>"
      ]
     },
     "metadata": {},
     "output_type": "display_data"
    }
   ],
   "source": [
    "df.boxplot(figsize=(10,8))"
   ]
  },
  {
   "cell_type": "markdown",
   "id": "97b5cb09",
   "metadata": {},
   "source": [
    "# Assign x and y"
   ]
  },
  {
   "cell_type": "code",
   "execution_count": 51,
   "id": "2061ae06",
   "metadata": {},
   "outputs": [
    {
     "name": "stdout",
     "output_type": "stream",
     "text": [
      "X shape:\t (768, 8)\n",
      "\n",
      "Y shape:\t (768, 1)\n"
     ]
    }
   ],
   "source": [
    "x=df.iloc[:,:-1]\n",
    "y=df.iloc[:,-1:]\n",
    "print('X shape:\\t',x.shape)\n",
    "print()\n",
    "print('Y shape:\\t',y.shape)\n",
    "\n"
   ]
  },
  {
   "cell_type": "markdown",
   "id": "2f0cadfd",
   "metadata": {},
   "source": [
    "Spliting the data between test and training"
   ]
  },
  {
   "cell_type": "code",
   "execution_count": 52,
   "id": "f2426182",
   "metadata": {},
   "outputs": [],
   "source": [
    "from sklearn.model_selection import train_test_split\n",
    "xtrain,xtest,ytrain,ytest=train_test_split(x,y,test_size=0.2,random_state=2)"
   ]
  },
  {
   "cell_type": "markdown",
   "id": "edebe519",
   "metadata": {},
   "source": [
    "Build NB - Gaussian Model"
   ]
  },
  {
   "cell_type": "code",
   "execution_count": 53,
   "id": "f6f35990",
   "metadata": {},
   "outputs": [
    {
     "name": "stdout",
     "output_type": "stream",
     "text": [
      "\n",
      "Predicted value is : \t [0 0 0 0 1 0 0 0 0 0 0 0 1 0 0 1 1 0 0 1 1 1 0 1 0 0 1 1 0 0 0 1 0 0 1 1 0\n",
      " 1 0 0 0 0 0 0 0 0 0 0 0 0 1 0 0 1 0 1 1 0 1 0 0 1 1 1 0 0 1 0 0 0 0 0 0 0\n",
      " 0 0 0 0 0 0 0 0 0 0 1 0 0 0 0 1 0 0 0 0 0 1 0 1 1 0 0 1 0 0 0 0 1 0 0 0 0\n",
      " 0 1 0 0 1 0 0 0 0 0 0 0 0 0 1 0 0 0 0 0 0 1 0 1 1 0 0 0 1 0 1 0 0 0 0 0 1\n",
      " 0 0 0 0 1 0]\n",
      "\n",
      "Testing completed\n",
      "===========================================================================\n",
      "***************Performance Measures on Gaussian Navie Bayes****************\n",
      "Accuracy score:\t\n",
      " 0.7597402597402597\n",
      "\n",
      "===========================================================================\n",
      "\n",
      "Confusion matrix:\t\n",
      " [[93 16]\n",
      " [21 24]]\n",
      "\n",
      "===========================================================================\n",
      "\n",
      "Classification report is:\t\n",
      "               precision    recall  f1-score   support\n",
      "\n",
      "           0       0.82      0.85      0.83       109\n",
      "           1       0.60      0.53      0.56        45\n",
      "\n",
      "    accuracy                           0.76       154\n",
      "   macro avg       0.71      0.69      0.70       154\n",
      "weighted avg       0.75      0.76      0.76       154\n",
      "\n",
      "\n",
      "===========================================================================\n"
     ]
    },
    {
     "name": "stderr",
     "output_type": "stream",
     "text": [
      "C:\\Users\\Dell\\anaconda3\\Lib\\site-packages\\sklearn\\utils\\validation.py:1183: DataConversionWarning: A column-vector y was passed when a 1d array was expected. Please change the shape of y to (n_samples, ), for example using ravel().\n",
      "  y = column_or_1d(y, warn=True)\n"
     ]
    }
   ],
   "source": [
    "from sklearn.naive_bayes import GaussianNB\n",
    "gauss_nb=GaussianNB()\n",
    "#train\n",
    "gauss_nb.fit(xtrain,ytrain)\n",
    "print()\n",
    "#testing\n",
    "ypred_gauss=gauss_nb.predict(xtest)\n",
    "print('Predicted value is : \\t',ypred_gauss)\n",
    "print()\n",
    "print('Testing completed')\n",
    "print('='*75)\n",
    "#performance Measure\n",
    "from sklearn.metrics import accuracy_score,confusion_matrix,classification_report\n",
    "accuracy_gauss=accuracy_score(ytest,ypred_gauss)\n",
    "print('*'*15 + 'Performance Measures on Gaussian Navie Bayes' + '*'*16)\n",
    "print('Accuracy score:\\t\\n',accuracy_score(ytest,ypred_gauss))\n",
    "print()\n",
    "print('='*75)\n",
    "print()\n",
    "print('Confusion matrix:\\t\\n',confusion_matrix(ytest,ypred_gauss))\n",
    "print()\n",
    "print('='*75)\n",
    "print()\n",
    "print('Classification report is:\\t\\n',classification_report(ytest,ypred_gauss))\n",
    "print()\n",
    "print('='*75)"
   ]
  },
  {
   "cell_type": "markdown",
   "id": "fecf6d34",
   "metadata": {},
   "source": [
    "MultinomialNB"
   ]
  },
  {
   "cell_type": "code",
   "execution_count": 54,
   "id": "3d628774",
   "metadata": {},
   "outputs": [
    {
     "name": "stdout",
     "output_type": "stream",
     "text": [
      "Training Completed\n",
      "\n",
      "Predicted value is: \t [0 0 0 0 1 1 0 0 0 1 0 0 1 1 0 1 0 0 1 1 1 0 1 1 0 0 1 1 1 0 0 1 1 0 0 0 1\n",
      " 0 1 1 0 0 0 1 0 0 1 0 1 1 0 0 0 1 0 1 0 0 0 0 1 0 0 0 0 0 0 0 1 0 0 0 1 0\n",
      " 0 0 0 0 0 0 0 0 0 0 1 1 0 1 1 0 0 1 0 0 1 0 1 0 0 0 0 1 1 0 1 1 0 1 0 0 0\n",
      " 0 1 1 1 0 0 0 1 0 0 0 0 1 0 1 0 0 1 0 0 1 1 0 0 0 0 0 1 0 0 1 1 0 0 0 0 0\n",
      " 0 1 0 0 0 0]\n",
      "\n",
      "Testing completed\n",
      "===========================================================================\n",
      "**************Performance Measures on Multinomial Navie Bayes**************\n",
      "Accuracy score:\t\n",
      " 0.5584415584415584\n",
      "\n",
      "===========================================================================\n",
      "\n",
      "Confusion matrix:\t\n",
      " [[71 38]\n",
      " [30 15]]\n",
      "\n",
      "===========================================================================\n",
      "\n",
      "Classification report is:\t\n",
      "               precision    recall  f1-score   support\n",
      "\n",
      "           0       0.70      0.65      0.68       109\n",
      "           1       0.28      0.33      0.31        45\n",
      "\n",
      "    accuracy                           0.56       154\n",
      "   macro avg       0.49      0.49      0.49       154\n",
      "weighted avg       0.58      0.56      0.57       154\n",
      "\n",
      "\n",
      "===========================================================================\n"
     ]
    },
    {
     "name": "stderr",
     "output_type": "stream",
     "text": [
      "C:\\Users\\Dell\\anaconda3\\Lib\\site-packages\\sklearn\\utils\\validation.py:1183: DataConversionWarning: A column-vector y was passed when a 1d array was expected. Please change the shape of y to (n_samples, ), for example using ravel().\n",
      "  y = column_or_1d(y, warn=True)\n"
     ]
    }
   ],
   "source": [
    "from sklearn.naive_bayes import MultinomialNB\n",
    "mul_nb = MultinomialNB()\n",
    "mul_nb.fit(xtrain,ytrain)\n",
    "print('Training Completed')\n",
    "print()\n",
    "ypred_mul_nb = mul_nb.predict(xtest)\n",
    "print('Predicted value is: \\t',ypred_mul_nb)\n",
    "print()\n",
    "print('Testing completed')\n",
    "print('='*75)\n",
    "#Performance Measure\n",
    "accuracy_mul_nb=accuracy_score(ytest,ypred_mul_nb)\n",
    "print('*'*14 + 'Performance Measures on Multinomial Navie Bayes' + '*'*14)\n",
    "print('Accuracy score:\\t\\n',accuracy_score(ytest,ypred_mul_nb))\n",
    "print()\n",
    "print('='*75)\n",
    "print()\n",
    "print('Confusion matrix:\\t\\n',confusion_matrix(ytest,ypred_mul_nb))\n",
    "print()\n",
    "print('='*75)\n",
    "print()\n",
    "print('Classification report is:\\t\\n',classification_report(ytest,ypred_mul_nb))\n",
    "print()\n",
    "print('='*75)"
   ]
  },
  {
   "cell_type": "markdown",
   "id": "fc42c11a",
   "metadata": {},
   "source": [
    "Build NB - Bernoulli Model\n"
   ]
  },
  {
   "cell_type": "code",
   "execution_count": 55,
   "id": "396ae4b0",
   "metadata": {},
   "outputs": [
    {
     "name": "stdout",
     "output_type": "stream",
     "text": [
      "Training Completed\n",
      "\n",
      "Predicted value is: \t [0 0 0 0 0 0 0 0 0 0 0 0 0 0 0 0 0 0 0 0 0 0 0 0 0 0 0 0 0 0 0 0 0 0 0 0 0\n",
      " 0 0 0 0 0 0 0 0 0 0 0 0 0 0 0 0 0 0 0 0 0 0 0 0 0 0 0 0 0 0 0 0 0 0 0 0 0\n",
      " 0 0 0 0 0 0 0 0 0 0 0 0 0 0 0 0 0 0 0 0 0 0 0 0 0 0 0 0 0 0 0 0 0 0 0 0 0\n",
      " 0 0 0 0 0 0 0 0 0 0 0 0 0 0 0 0 0 0 0 0 0 0 0 0 0 0 0 0 0 0 0 0 0 0 0 0 0\n",
      " 0 0 0 0 0 0]\n",
      "\n",
      "Testing completed\n",
      "===========================================================================\n",
      "***************Performance Measures on Bernoulli Navie Bayes***************\n",
      "Accuracy score:\t\n",
      " 0.7077922077922078\n",
      "\n",
      "===========================================================================\n",
      "\n",
      "Confusion matrix:\t\n",
      " [[109   0]\n",
      " [ 45   0]]\n",
      "\n",
      "===========================================================================\n",
      "\n",
      "Classification report is:\t\n",
      "               precision    recall  f1-score   support\n",
      "\n",
      "           0       0.71      1.00      0.83       109\n",
      "           1       0.00      0.00      0.00        45\n",
      "\n",
      "    accuracy                           0.71       154\n",
      "   macro avg       0.35      0.50      0.41       154\n",
      "weighted avg       0.50      0.71      0.59       154\n",
      "\n",
      "\n",
      "===========================================================================\n"
     ]
    },
    {
     "name": "stderr",
     "output_type": "stream",
     "text": [
      "C:\\Users\\Dell\\anaconda3\\Lib\\site-packages\\sklearn\\utils\\validation.py:1183: DataConversionWarning: A column-vector y was passed when a 1d array was expected. Please change the shape of y to (n_samples, ), for example using ravel().\n",
      "  y = column_or_1d(y, warn=True)\n",
      "C:\\Users\\Dell\\anaconda3\\Lib\\site-packages\\sklearn\\metrics\\_classification.py:1471: UndefinedMetricWarning: Precision and F-score are ill-defined and being set to 0.0 in labels with no predicted samples. Use `zero_division` parameter to control this behavior.\n",
      "  _warn_prf(average, modifier, msg_start, len(result))\n",
      "C:\\Users\\Dell\\anaconda3\\Lib\\site-packages\\sklearn\\metrics\\_classification.py:1471: UndefinedMetricWarning: Precision and F-score are ill-defined and being set to 0.0 in labels with no predicted samples. Use `zero_division` parameter to control this behavior.\n",
      "  _warn_prf(average, modifier, msg_start, len(result))\n",
      "C:\\Users\\Dell\\anaconda3\\Lib\\site-packages\\sklearn\\metrics\\_classification.py:1471: UndefinedMetricWarning: Precision and F-score are ill-defined and being set to 0.0 in labels with no predicted samples. Use `zero_division` parameter to control this behavior.\n",
      "  _warn_prf(average, modifier, msg_start, len(result))\n"
     ]
    }
   ],
   "source": [
    "from sklearn.naive_bayes import BernoulliNB\n",
    "ber_nb = BernoulliNB()\n",
    "ber_nb.fit(xtrain,ytrain)\n",
    "print('Training Completed')\n",
    "print()\n",
    "ypred_ber_nb = ber_nb.predict(xtest)\n",
    "print('Predicted value is: \\t',ypred_ber_nb)\n",
    "print()\n",
    "print('Testing completed')\n",
    "print('='*75)\n",
    "#Performace Measure\n",
    "accuracy_ber_nb=accuracy_score(ytest,ypred_ber_nb)\n",
    "print('*'*15 + 'Performance Measures on Bernoulli Navie Bayes' + '*'*15)\n",
    "print('Accuracy score:\\t\\n',accuracy_score(ytest,ypred_ber_nb))\n",
    "print()\n",
    "print('='*75)\n",
    "print()\n",
    "print('Confusion matrix:\\t\\n',confusion_matrix(ytest,ypred_ber_nb))\n",
    "print()\n",
    "print('='*75)\n",
    "print()\n",
    "print('Classification report is:\\t\\n',classification_report(ytest,ypred_ber_nb))\n",
    "print()\n",
    "print('='*75)\n"
   ]
  },
  {
   "cell_type": "code",
   "execution_count": 56,
   "id": "5aa6768f",
   "metadata": {},
   "outputs": [
    {
     "name": "stdout",
     "output_type": "stream",
     "text": [
      "GaussianNB() = 0.7597402597402597\n",
      "MultinomialNB() = 0.5584415584415584\n",
      "BernoulliNB() = 0.7077922077922078\n"
     ]
    }
   ],
   "source": [
    "print(gauss_nb,'=',accuracy_gauss)\n",
    "print(mul_nb,'=',accuracy_mul_nb)\n",
    "print(ber_nb,'=',accuracy_ber_nb)"
   ]
  },
  {
   "cell_type": "code",
   "execution_count": 57,
   "id": "ae200cc1",
   "metadata": {},
   "outputs": [
    {
     "data": {
      "text/plain": [
       "(768, 8)"
      ]
     },
     "execution_count": 57,
     "metadata": {},
     "output_type": "execute_result"
    }
   ],
   "source": [
    "x.shape\n"
   ]
  },
  {
   "cell_type": "markdown",
   "id": "bf9c8700",
   "metadata": {},
   "source": [
    "# Ensemble Model\n",
    "1. Bagging Classifier"
   ]
  },
  {
   "cell_type": "code",
   "execution_count": 58,
   "id": "ae3eaaa9",
   "metadata": {},
   "outputs": [
    {
     "name": "stdout",
     "output_type": "stream",
     "text": [
      "****************************************************************************************************\n",
      "Confusion Matrix:\n",
      " [[91 18]\n",
      " [21 24]]\n",
      "----------------------------------------------------------------------------------------------------\n",
      "Accuracy Score:\t 0.7467532467532467\n",
      "----------------------------------------------------------------------------------------------------\n",
      "Classification Report               precision    recall  f1-score   support\n",
      "\n",
      "           0       0.81      0.83      0.82       109\n",
      "           1       0.57      0.53      0.55        45\n",
      "\n",
      "    accuracy                           0.75       154\n",
      "   macro avg       0.69      0.68      0.69       154\n",
      "weighted avg       0.74      0.75      0.74       154\n",
      "\n",
      "====================================================================================================\n"
     ]
    },
    {
     "name": "stderr",
     "output_type": "stream",
     "text": [
      "C:\\Users\\Dell\\anaconda3\\Lib\\site-packages\\sklearn\\ensemble\\_bagging.py:802: DataConversionWarning: A column-vector y was passed when a 1d array was expected. Please change the shape of y to (n_samples, ), for example using ravel().\n",
      "  y = column_or_1d(y, warn=True)\n",
      "C:\\Users\\Dell\\anaconda3\\Lib\\site-packages\\sklearn\\ensemble\\_base.py:156: FutureWarning: `base_estimator` was renamed to `estimator` in version 1.2 and will be removed in 1.4.\n",
      "  warnings.warn(\n"
     ]
    }
   ],
   "source": [
    "#Baggingclassifier\n",
    "from sklearn.ensemble import BaggingClassifier\n",
    "bagc=BaggingClassifier(base_estimator=gauss_nb,n_estimators=5,random_state=2)\n",
    "bagc.fit(xtrain,ytrain) #train model\n",
    "ypred_bagc=bagc.predict(xtest)\n",
    "print(\"*\"*100)\n",
    "print('Confusion Matrix:\\n',confusion_matrix(ytest,ypred_bagc))\n",
    "print('-'*100)\n",
    "accuracy_bagc=accuracy_score(ytest,ypred_bagc)\n",
    "print('Accuracy Score:\\t',accuracy_bagc)\n",
    "print('-'*100)\n",
    "print('Classification Report',classification_report(ytest,ypred_bagc))\n",
    "print('='*100)"
   ]
  },
  {
   "cell_type": "markdown",
   "id": "2ce153ca",
   "metadata": {},
   "source": [
    "2. RandomForestClassifier model"
   ]
  },
  {
   "cell_type": "code",
   "execution_count": 30,
   "id": "ec19832e",
   "metadata": {},
   "outputs": [
    {
     "name": "stdout",
     "output_type": "stream",
     "text": [
      "****************************************************************************************************\n",
      "Confusion Matrix:\n",
      " [[105   0]\n",
      " [  0 100]]\n",
      "----------------------------------------------------------------------------------------------------\n",
      "Accuracy Score:\t 1.0\n",
      "----------------------------------------------------------------------------------------------------\n",
      "Classification Report:\n",
      "               precision    recall  f1-score   support\n",
      "\n",
      "           0       1.00      1.00      1.00       105\n",
      "           1       1.00      1.00      1.00       100\n",
      "\n",
      "    accuracy                           1.00       205\n",
      "   macro avg       1.00      1.00      1.00       205\n",
      "weighted avg       1.00      1.00      1.00       205\n",
      "\n",
      "====================================================================================================\n"
     ]
    },
    {
     "name": "stderr",
     "output_type": "stream",
     "text": [
      "C:\\Users\\Dell\\anaconda3\\Lib\\site-packages\\sklearn\\base.py:1152: DataConversionWarning: A column-vector y was passed when a 1d array was expected. Please change the shape of y to (n_samples,), for example using ravel().\n",
      "  return fit_method(estimator, *args, **kwargs)\n"
     ]
    }
   ],
   "source": [
    "#RandomForestClassifier\n",
    "from sklearn.ensemble import RandomForestClassifier\n",
    "rand_for=RandomForestClassifier(n_estimators=5,random_state=1)\n",
    "rand_for.fit(xtrain,ytrain)#train the model\n",
    "#test the model\n",
    "ypred_rand=rand_for.predict(xtest)\n",
    "print('*'*100)\n",
    "print('Confusion Matrix:\\n',confusion_matrix(ytest,ypred_rand))\n",
    "print('-'*100)\n",
    "accuracy_rand=accuracy_score(ytest,ypred_rand)\n",
    "print('Accuracy Score:\\t',accuracy_rand)\n",
    "print('-'*100)\n",
    "print('Classification Report:\\n',classification_report(ytest,ypred_rand))\n",
    "print('='*100)"
   ]
  },
  {
   "cell_type": "code",
   "execution_count": 60,
   "id": "74c4c076",
   "metadata": {},
   "outputs": [
    {
     "name": "stdout",
     "output_type": "stream",
     "text": [
      "****************************************************************************************************\n",
      "Confusion Matrix:\n",
      " [[96 13]\n",
      " [20 25]]\n",
      "----------------------------------------------------------------------------------------------------\n",
      "Accuracy Score:\t 0.7857142857142857\n",
      "----------------------------------------------------------------------------------------------------\n",
      "Classification Report:\n",
      "               precision    recall  f1-score   support\n",
      "\n",
      "           0       0.83      0.88      0.85       109\n",
      "           1       0.66      0.56      0.60        45\n",
      "\n",
      "    accuracy                           0.79       154\n",
      "   macro avg       0.74      0.72      0.73       154\n",
      "weighted avg       0.78      0.79      0.78       154\n",
      "\n",
      "====================================================================================================\n"
     ]
    },
    {
     "name": "stderr",
     "output_type": "stream",
     "text": [
      "C:\\Users\\Dell\\anaconda3\\Lib\\site-packages\\sklearn\\base.py:1152: DataConversionWarning: A column-vector y was passed when a 1d array was expected. Please change the shape of y to (n_samples,), for example using ravel().\n",
      "  return fit_method(estimator, *args, **kwargs)\n"
     ]
    }
   ],
   "source": [
    "#RandomForestClassifier\n",
    "from sklearn.ensemble import RandomForestClassifier\n",
    "rand_for_1=RandomForestClassifier(n_estimators=10,random_state=1,max_depth=5)\n",
    "rand_for_1.fit(xtrain,ytrain)#train the model\n",
    "#test the model\n",
    "ypred_rand_1=rand_for_1.predict(xtest)\n",
    "print('*'*100)\n",
    "print('Confusion Matrix:\\n',confusion_matrix(ytest,ypred_rand_1))\n",
    "print('-'*100)\n",
    "accuracy_rand_1=accuracy_score(ytest,ypred_rand_1)\n",
    "print('Accuracy Score:\\t',accuracy_rand_1)\n",
    "print('-'*100)\n",
    "print('Classification Report:\\n',classification_report(ytest,ypred_rand_1))\n",
    "print('='*100)"
   ]
  },
  {
   "cell_type": "markdown",
   "id": "25b1936e",
   "metadata": {},
   "source": [
    "3. ExtraTrees model"
   ]
  },
  {
   "cell_type": "code",
   "execution_count": 64,
   "id": "bcbc5f3e",
   "metadata": {},
   "outputs": [
    {
     "name": "stdout",
     "output_type": "stream",
     "text": [
      "building tree 1 of 10\n",
      "building tree 2 of 10\n",
      "building tree 3 of 10\n",
      "building tree 4 of 10\n",
      "building tree 5 of 10\n",
      "building tree 6 of 10\n",
      "building tree 7 of 10\n",
      "building tree 8 of 10\n",
      "building tree 9 of 10\n",
      "building tree 10 of 10\n",
      "****************************************************************************************************\n",
      "Confusion Matrix:\n",
      " [[96 13]\n",
      " [24 21]]\n",
      "----------------------------------------------------------------------------------------------------\n",
      "Accuracy Score:\t 0.7597402597402597\n",
      "----------------------------------------------------------------------------------------------------\n",
      "Classification Report:\n",
      "               precision    recall  f1-score   support\n",
      "\n",
      "           0       0.80      0.88      0.84       109\n",
      "           1       0.62      0.47      0.53        45\n",
      "\n",
      "    accuracy                           0.76       154\n",
      "   macro avg       0.71      0.67      0.69       154\n",
      "weighted avg       0.75      0.76      0.75       154\n",
      "\n",
      "====================================================================================================\n"
     ]
    },
    {
     "name": "stderr",
     "output_type": "stream",
     "text": [
      "C:\\Users\\Dell\\anaconda3\\Lib\\site-packages\\sklearn\\base.py:1152: DataConversionWarning: A column-vector y was passed when a 1d array was expected. Please change the shape of y to (n_samples,), for example using ravel().\n",
      "  return fit_method(estimator, *args, **kwargs)\n"
     ]
    }
   ],
   "source": [
    "from sklearn.ensemble import ExtraTreesClassifier\n",
    "extra_tree=ExtraTreesClassifier(n_estimators=10,bootstrap=True,verbose=2)\n",
    "extra_tree.fit(xtrain,ytrain)#train the model\n",
    "#test the model\n",
    "ypred_extra=extra_tree.predict(xtest)\n",
    "print('*'*100)\n",
    "print('Confusion Matrix:\\n',confusion_matrix(ytest,ypred_extra))\n",
    "print('-'*100)\n",
    "accuracy_extra=accuracy_score(ytest,ypred_extra)\n",
    "print('Accuracy Score:\\t',accuracy_extra)\n",
    "print('-'*100)\n",
    "print('Classification Report:\\n',classification_report(ytest,ypred_extra))\n",
    "print('='*100)"
   ]
  },
  {
   "cell_type": "markdown",
   "id": "296b1200",
   "metadata": {},
   "source": [
    "Model with Accuracy scores"
   ]
  },
  {
   "cell_type": "code",
   "execution_count": 65,
   "id": "71175962",
   "metadata": {},
   "outputs": [
    {
     "name": "stdout",
     "output_type": "stream",
     "text": [
      "                                  Model  Accuracy_score\n",
      "4               RandomForest Classifier        1.000000\n",
      "5  RandomForest Classifier with pruning        0.785714\n",
      "0                           Gaussian_NB        0.759740\n",
      "6                 ExtraTrees Classifier        0.759740\n",
      "3                    Bagging_classifier        0.746753\n",
      "2                          Bernoulli_NB        0.707792\n",
      "1                        Multinomial_NB        0.558442\n"
     ]
    }
   ],
   "source": [
    "scores=[('Gaussian_NB',accuracy_gauss),\n",
    " ('Multinomial_NB',accuracy_mul_nb),\n",
    " ('Bernoulli_NB',accuracy_ber_nb),\n",
    " ('Bagging_classifier',accuracy_bagc),\n",
    " ('RandomForest Classifier',accuracy_rand),\n",
    " ('RandomForest Classifier with pruning',accuracy_rand_1),\n",
    " ('ExtraTrees Classifier',accuracy_extra)\n",
    " \n",
    " ]\n",
    "Acc_scores=pd.DataFrame(scores,columns=['Model','Accuracy_score'])\n",
    "print(Acc_scores.sort_values(by='Accuracy_score',ascending=False))"
   ]
  },
  {
   "cell_type": "code",
   "execution_count": 67,
   "id": "5f634449",
   "metadata": {},
   "outputs": [
    {
     "data": {
      "text/plain": [
       "([0, 1, 2, 3, 4, 5, 6],\n",
       " [Text(0, 0, 'Gaussian_NB'),\n",
       "  Text(1, 0, 'Multinomial_NB'),\n",
       "  Text(2, 0, 'Bernoulli_NB'),\n",
       "  Text(3, 0, 'Bagging_classifier'),\n",
       "  Text(4, 0, 'RandomForest Classifier'),\n",
       "  Text(5, 0, 'RandomForest Classifier with pruning'),\n",
       "  Text(6, 0, 'ExtraTrees Classifier')])"
      ]
     },
     "execution_count": 67,
     "metadata": {},
     "output_type": "execute_result"
    },
    {
     "data": {
      "image/png": "[encoded data removed]",
      "text/plain": [
       "<Figure size 640x480 with 1 Axes>"
      ]
     },
     "metadata": {},
     "output_type": "display_data"
    }
   ],
   "source": [
    "sns.lineplot(x=Acc_scores['Model'],y=Acc_scores['Accuracy_score'],data=Acc_scores)\n",
    "plt.xticks(rotation=90)"
   ]
  },
  {
   "cell_type": "code",
   "execution_count": null,
   "id": "3b339367",
   "metadata": {},
   "outputs": [],
   "source": []
  }
 ],
 "metadata": {
  "kernelspec": {
   "display_name": "Python 3 (ipykernel)",
   "language": "python",
   "name": "python3"
  },
  "language_info": {
   "codemirror_mode": {
    "name": "ipython",
    "version": 3
   },
   "file_extension": ".py",
   "mimetype": "text/x-python",
   "name": "python",
   "nbconvert_exporter": "python",
   "pygments_lexer": "ipython3",
   "version": "3.11.4"
  }
 },
 "nbformat": 4,
 "nbformat_minor": 5
}
