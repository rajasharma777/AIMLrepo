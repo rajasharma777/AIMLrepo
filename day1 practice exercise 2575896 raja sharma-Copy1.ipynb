{
 "cells": [
  {
   "cell_type": "markdown",
   "id": "a33d72b0",
   "metadata": {},
   "source": [
    "# 1manipulate using list"
   ]
  },
  {
   "cell_type": "code",
   "execution_count": null,
   "id": "e05a68b1",
   "metadata": {},
   "outputs": [],
   "source": [
    "# 1a) add new elements at end of list"
   ]
  },
  {
   "cell_type": "code",
   "execution_count": 2,
   "id": "de360e7c",
   "metadata": {},
   "outputs": [
    {
     "data": {
      "text/plain": [
       "['apple', 'banana', 'cherry']"
      ]
     },
     "execution_count": 2,
     "metadata": {},
     "output_type": "execute_result"
    }
   ],
   "source": [
    "mylist = [\"apple\", \"banana\", \"cherry\"]\n",
    "mylist"
   ]
  },
  {
   "cell_type": "code",
   "execution_count": 3,
   "id": "0317d2f4",
   "metadata": {},
   "outputs": [
    {
     "data": {
      "text/plain": [
       "['apple', 'banana', 'cherry', 'orange']"
      ]
     },
     "execution_count": 3,
     "metadata": {},
     "output_type": "execute_result"
    }
   ],
   "source": [
    "mylist.append('orange')\n",
    "mylist"
   ]
  },
  {
   "cell_type": "code",
   "execution_count": null,
   "id": "84ff5cae",
   "metadata": {},
   "outputs": [],
   "source": [
    "#1b) to reverse elements in list"
   ]
  },
  {
   "cell_type": "code",
   "execution_count": 4,
   "id": "25ca4407",
   "metadata": {},
   "outputs": [
    {
     "data": {
      "text/plain": [
       "['orange', 'cherry', 'banana', 'apple']"
      ]
     },
     "execution_count": 4,
     "metadata": {},
     "output_type": "execute_result"
    }
   ],
   "source": [
    "mylist.reverse();\n",
    "mylist"
   ]
  },
  {
   "cell_type": "code",
   "execution_count": null,
   "id": "fbb4f92b",
   "metadata": {},
   "outputs": [],
   "source": [
    "# 1cto display the same list of items multiple items"
   ]
  },
  {
   "cell_type": "code",
   "execution_count": 6,
   "id": "a5662b7d",
   "metadata": {},
   "outputs": [
    {
     "data": {
      "text/plain": [
       "['orange', 'cherry', 'banana', 'apple']"
      ]
     },
     "execution_count": 6,
     "metadata": {},
     "output_type": "execute_result"
    }
   ],
   "source": [
    "mylist\n"
   ]
  },
  {
   "cell_type": "code",
   "execution_count": 2,
   "id": "d312175b",
   "metadata": {},
   "outputs": [
    {
     "name": "stdout",
     "output_type": "stream",
     "text": [
      "['apple', 'apple', 'banana', 'banana', 'cherry', 'cherry']\n"
     ]
    }
   ],
   "source": [
    "mylist = [\"apple\", \"banana\", \"cherry\"]\n",
    "res = []\n",
    "# repeat elements K times\n",
    "for i in mylist:\n",
    "    res.extend([i]*2)\n",
    "    \n",
    "print(res)  "
   ]
  },
  {
   "cell_type": "code",
   "execution_count": 6,
   "id": "e7ff296f",
   "metadata": {},
   "outputs": [
    {
     "name": "stdout",
     "output_type": "stream",
     "text": [
      "[1, 4, 5, 6, 5, 3, 5, 7, 2, 5]\n"
     ]
    }
   ],
   "source": [
    "#1d to conacate two list\n",
    "test_list1 = [1, 4, 5, 6, 5]\n",
    "test_list2 = [3, 5, 7, 2, 5]\n",
    "    # using + operator to concat\n",
    "test_list1= test_list1 + test_list2\n",
    "print(test_list1) \n"
   ]
  },
  {
   "cell_type": "code",
   "execution_count": 7,
   "id": "0b08f7a1",
   "metadata": {},
   "outputs": [
    {
     "name": "stdout",
     "output_type": "stream",
     "text": [
      "[1, 2, 3, 4, 5, 5, 5, 5, 6, 7]\n"
     ]
    }
   ],
   "source": [
    "#1e sort the list\n",
    "test_list1.sort();\n",
    "print(test_list1)"
   ]
  },
  {
   "cell_type": "markdown",
   "id": "4938f359",
   "metadata": {},
   "source": [
    "# 2tuples"
   ]
  },
  {
   "cell_type": "code",
   "execution_count": 8,
   "id": "70e566ab",
   "metadata": {},
   "outputs": [
    {
     "data": {
      "text/plain": [
       "('apple', 'banana', 'cherry')"
      ]
     },
     "execution_count": 8,
     "metadata": {},
     "output_type": "execute_result"
    }
   ],
   "source": [
    "#2a) manipulate using tuples\n",
    "mytuple = (\"apple\", \"banana\", \"cherry\")\n",
    "mytuple"
   ]
  },
  {
   "cell_type": "code",
   "execution_count": 10,
   "id": "c6e9c3af",
   "metadata": {},
   "outputs": [
    {
     "name": "stdout",
     "output_type": "stream",
     "text": [
      "('apple', 'banana', 'cherry', 'orange')\n"
     ]
    }
   ],
   "source": [
    "#2b) add new elements at end of tuple\n",
    "thistuple = (\"apple\", \"banana\", \"cherry\")\n",
    "y = (\"orange\",)\n",
    "thistuple += y\n",
    "\n",
    "print(thistuple)\n"
   ]
  },
  {
   "cell_type": "code",
   "execution_count": 17,
   "id": "3621727a",
   "metadata": {},
   "outputs": [
    {
     "name": "stdout",
     "output_type": "stream",
     "text": [
      "('k', 'e', 'e', 'g', 'f', 'd', 'a', 'z')\n"
     ]
    }
   ],
   "source": [
    "#2c Reverse items in list\n",
    "def Reverse(tuples):\n",
    "    new_tup = tuples[::-1]\n",
    "    return new_tup\n",
    "    \n",
    "\n",
    "tuples = ('z','a','d','f','g','e','e','k')\n",
    "print(Reverse(tuples))\n",
    "\n",
    "\n"
   ]
  },
  {
   "cell_type": "code",
   "execution_count": 20,
   "id": "70e2200f",
   "metadata": {},
   "outputs": [
    {
     "name": "stdout",
     "output_type": "stream",
     "text": [
      "((32, 8), (32, 8), (32, 8), (32, 8))\n"
     ]
    }
   ],
   "source": [
    "#2d)to display the items of same tuple multiple times\n",
    "  \n",
    "# Initializing and printing tuple \n",
    "myTup = (32, 8)\n",
    "N = 4  \n",
    "repeatTuple = ((myTup, ) * N)\n",
    "  \n",
    "# printing result\n",
    "print(repeatTuple)\n",
    "\n"
   ]
  },
  {
   "cell_type": "code",
   "execution_count": 21,
   "id": "0716c322",
   "metadata": {},
   "outputs": [
    {
     "name": "stdout",
     "output_type": "stream",
     "text": [
      "(1, 3, 5, 4, 6)\n"
     ]
    }
   ],
   "source": [
    "#2e)to conact two tuples\n",
    "\n",
    "\n",
    "# initialize tuples\n",
    "test_tup1 = (1, 3, 5)\n",
    "test_tup2 = (4, 6)\n",
    "res = test_tup1 + test_tup2\n",
    "\n",
    "\n",
    "print(res)\n"
   ]
  },
  {
   "cell_type": "code",
   "execution_count": 23,
   "id": "b35492e8",
   "metadata": {},
   "outputs": [
    {
     "name": "stdout",
     "output_type": "stream",
     "text": [
      "('Itika', 'Arshia', 'Peter', 'Parker')\n",
      "<class 'tuple'>\n"
     ]
    }
   ],
   "source": [
    "#2f) sort the the elements in ascending order\n",
    "tuple = ('Itika', 'Arshia', 'Peter', 'Parker')  \n",
    "list(tuple).sort()   \n",
    "print(tuple)  \n",
    "print(type(tuple))  "
   ]
  },
  {
   "cell_type": "markdown",
   "id": "0df70aa8",
   "metadata": {},
   "source": [
    "# 3 list"
   ]
  },
  {
   "cell_type": "code",
   "execution_count": 24,
   "id": "7710d702",
   "metadata": {},
   "outputs": [
    {
     "data": {
      "text/plain": [
       "[1, 2, 3, 4, 5, 6, 7, 8, 876, 121]"
      ]
     },
     "execution_count": 24,
     "metadata": {},
     "output_type": "execute_result"
    }
   ],
   "source": [
    "#3a)create a list with min 10 numbers\n",
    "a=[1,2,3,4,5,6,7,8,876,121]\n",
    "a"
   ]
  },
  {
   "cell_type": "code",
   "execution_count": 26,
   "id": "52c182c5",
   "metadata": {},
   "outputs": [
    {
     "name": "stdout",
     "output_type": "stream",
     "text": [
      "121\n"
     ]
    }
   ],
   "source": [
    "#3b) display the last numbaer in the list\n",
    "\n",
    "a=[1,2,3,4,5,6,7,8,876,121]\n",
    "\n",
    "# using pop() to print last list element\n",
    "print(a.pop())\n"
   ]
  },
  {
   "cell_type": "code",
   "execution_count": 27,
   "id": "8a7ea50f",
   "metadata": {},
   "outputs": [
    {
     "data": {
      "text/plain": [
       "[1, 2, 3, 4, 5]"
      ]
     },
     "execution_count": 27,
     "metadata": {},
     "output_type": "execute_result"
    }
   ],
   "source": [
    "#3e)command to  display from the list [0:4] \n",
    "a[0:5]"
   ]
  },
  {
   "cell_type": "code",
   "execution_count": 28,
   "id": "fccb2546",
   "metadata": {},
   "outputs": [
    {
     "data": {
      "text/plain": [
       "[3, 4, 5, 6, 7, 8, 876]"
      ]
     },
     "execution_count": 28,
     "metadata": {},
     "output_type": "execute_result"
    }
   ],
   "source": [
    "#3f) command to  display from the list [2:] \n",
    "a[2:]"
   ]
  },
  {
   "cell_type": "code",
   "execution_count": 29,
   "id": "474996fa",
   "metadata": {},
   "outputs": [
    {
     "data": {
      "text/plain": [
       "[1, 2, 3, 4, 5, 6, 7]"
      ]
     },
     "execution_count": 29,
     "metadata": {},
     "output_type": "execute_result"
    }
   ],
   "source": [
    "#3e) command to  display from the list [:6]\n",
    "a[:7]"
   ]
  },
  {
   "cell_type": "markdown",
   "id": "f88b497e",
   "metadata": {},
   "source": [
    "# 4tuple"
   ]
  },
  {
   "cell_type": "code",
   "execution_count": 32,
   "id": "6944b9a9",
   "metadata": {},
   "outputs": [
    {
     "name": "stdout",
     "output_type": "stream",
     "text": [
      "[10, 50, 20, 40, 30]\n",
      "<class 'list'>\n"
     ]
    },
    {
     "data": {
      "text/plain": [
       "[10, 50]"
      ]
     },
     "execution_count": 32,
     "metadata": {},
     "output_type": "execute_result"
    }
   ],
   "source": [
    "#4a) display from 10 and 50 from tupl1\n",
    "tupl1=(10,50,20,40,30)\n",
    "mylist = list(tupl1)\n",
    "print(mylist)\n",
    "print(type(mylist))\n",
    "mylist[0:2]"
   ]
  },
  {
   "cell_type": "code",
   "execution_count": 33,
   "id": "af3e9e1a",
   "metadata": {},
   "outputs": [
    {
     "data": {
      "text/plain": [
       "5"
      ]
     },
     "execution_count": 33,
     "metadata": {},
     "output_type": "execute_result"
    }
   ],
   "source": [
    "#4b)length of tupl1\n",
    "len(tupl1)"
   ]
  },
  {
   "cell_type": "code",
   "execution_count": 34,
   "id": "5f464796",
   "metadata": {},
   "outputs": [
    {
     "data": {
      "text/plain": [
       "10"
      ]
     },
     "execution_count": 34,
     "metadata": {},
     "output_type": "execute_result"
    }
   ],
   "source": [
    "#4c minimum element from tupl1\n",
    "min(tupl1)"
   ]
  },
  {
   "cell_type": "code",
   "execution_count": 62,
   "id": "df5b1abf",
   "metadata": {},
   "outputs": [
    {
     "name": "stdout",
     "output_type": "stream",
     "text": [
      "150\n"
     ]
    }
   ],
   "source": [
    "#4d) summ of aall elemets \n",
    "tes=list(tupl1)\n",
    "sum = 0\n",
    "for i in tes:\n",
    "    sum +=i;\n",
    "    \n",
    "print(sum)    \n",
    "    "
   ]
  },
  {
   "cell_type": "code",
   "execution_count": 36,
   "id": "b5de9c6f",
   "metadata": {},
   "outputs": [
    {
     "name": "stdout",
     "output_type": "stream",
     "text": [
      "((10, 50, 20, 40, 30), (10, 50, 20, 40, 30), (10, 50, 20, 40, 30), (10, 50, 20, 40, 30))\n"
     ]
    }
   ],
   "source": [
    "#4e) to display the same tuple multiple times\n",
    "\n",
    "N = 4  \n",
    "repeatTuple = ((tupl1, ) * N)\n",
    "  \n",
    "# printing result\n",
    "print(repeatTuple)\n"
   ]
  },
  {
   "cell_type": "markdown",
   "id": "bb7a1ab7",
   "metadata": {},
   "source": [
    "# 5 python programs\n"
   ]
  },
  {
   "cell_type": "code",
   "execution_count": 37,
   "id": "9331c876",
   "metadata": {},
   "outputs": [
    {
     "data": {
      "text/plain": [
       "5"
      ]
     },
     "execution_count": 37,
     "metadata": {},
     "output_type": "execute_result"
    }
   ],
   "source": [
    "#5a cal lenght of string\n",
    "s= \"geeks\"\n",
    "len(s)"
   ]
  },
  {
   "cell_type": "code",
   "execution_count": 39,
   "id": "6dce9da8",
   "metadata": {},
   "outputs": [
    {
     "name": "stdout",
     "output_type": "stream",
     "text": [
      "redoc a ma i \n"
     ]
    }
   ],
   "source": [
    "#5b reverse words in a string \n",
    "s=\" i am a coder\"\n",
    "# initial string\n",
    "stringlength=len(s) # calculate length of the list\n",
    "slicedString=s[stringlength::-1] # slicing \n",
    "print (slicedString) # print the reversed string"
   ]
  },
  {
   "cell_type": "code",
   "execution_count": 42,
   "id": "41c57f37",
   "metadata": {},
   "outputs": [
    {
     "name": "stdout",
     "output_type": "stream",
     "text": [
      "i am a coder \n",
      "i am a coder \n",
      "i am a coder \n",
      "\n"
     ]
    }
   ],
   "source": [
    "#5c) to display a string multiple times\n",
    "print(\"i am a coder \\n\"*3)\n"
   ]
  },
  {
   "cell_type": "code",
   "execution_count": null,
   "id": "7af61979",
   "metadata": {},
   "outputs": [],
   "source": [
    "#5d concat two strings"
   ]
  },
  {
   "cell_type": "markdown",
   "id": "8a9a5f06",
   "metadata": {},
   "source": [
    "\n",
    "s1=\"Hello\"\n",
    "s2=\"world\"\n",
    "s1=s1+s2\n",
    "\n",
    "print(s1)"
   ]
  },
  {
   "cell_type": "code",
   "execution_count": 48,
   "id": "426009b7",
   "metadata": {
    "scrolled": true
   },
   "outputs": [
    {
     "name": "stdout",
     "output_type": "stream",
     "text": [
      "India\n"
     ]
    }
   ],
   "source": [
    "#5e \n",
    "str1=\"South India\"\n",
    "s= slice(6,11,1)\n",
    "print(str1[s])"
   ]
  },
  {
   "cell_type": "markdown",
   "id": "874a85bd",
   "metadata": {},
   "source": [
    "# 6 dictionary"
   ]
  },
  {
   "cell_type": "code",
   "execution_count": 49,
   "id": "bc56e8b6",
   "metadata": {},
   "outputs": [
    {
     "name": "stdout",
     "output_type": "stream",
     "text": [
      "{'name': 'raja', 'age': 24, 'city': 'ranchi'}\n"
     ]
    }
   ],
   "source": [
    "#6a create dictionary\n",
    "Dict = {'name':'raja', 'age': 24, 'city': 'ranchi'}\n",
    "\n",
    "print(Dict)\n",
    "\n"
   ]
  },
  {
   "cell_type": "code",
   "execution_count": 51,
   "id": "b02cf671",
   "metadata": {},
   "outputs": [
    {
     "name": "stdout",
     "output_type": "stream",
     "text": [
      "name raja\n",
      "age 24\n",
      "city ranchi\n"
     ]
    }
   ],
   "source": [
    "#6b) accessing values and keys \n",
    "for i in Dict:\n",
    "    print(i, Dict[i])"
   ]
  },
  {
   "cell_type": "code",
   "execution_count": 52,
   "id": "39e5a167",
   "metadata": {},
   "outputs": [
    {
     "name": "stdout",
     "output_type": "stream",
     "text": [
      "{'brand': 'Ford', 'model': 'Mustang', 'year': 1964, 'color': 'White'}\n"
     ]
    }
   ],
   "source": [
    "#6c update dictionary using a function \n",
    "car = {\n",
    "  \"brand\": \"Ford\",\n",
    " \"model\": \"Mustang\",\n",
    " \"year\": 1964\n",
    "}\n",
    "\n",
    "car.update({\"color\": \"White\"})\n",
    "\n",
    "print(car)"
   ]
  },
  {
   "cell_type": "code",
   "execution_count": 53,
   "id": "1c4b186d",
   "metadata": {},
   "outputs": [
    {
     "name": "stdout",
     "output_type": "stream",
     "text": [
      "{}\n"
     ]
    }
   ],
   "source": [
    "#6d clear and delete dictonary values in python\n",
    "car =\t{\n",
    "  \"brand\": \"Ford\",\n",
    "  \"model\": \"Mustang\",\n",
    "  \n",
    "}\n",
    "\n",
    "car.clear()\n",
    "\n",
    "print(car)"
   ]
  },
  {
   "cell_type": "code",
   "execution_count": null,
   "id": "cf486335",
   "metadata": {},
   "outputs": [],
   "source": [
    "#7 wap to insert a number to any postion in list\n"
   ]
  },
  {
   "cell_type": "code",
   "execution_count": 57,
   "id": "7949f9b6",
   "metadata": {},
   "outputs": [
    {
     "name": "stdout",
     "output_type": "stream",
     "text": [
      "['Hello', 20, 'boys', 'code']\n",
      "['Hello', 20, 'sample', 'boys', 'code']\n"
     ]
    }
   ],
   "source": [
    "# input list\n",
    "lst = [\"Hello\",20, \"boys\", \"code\"]\n",
    "print(lst)\n",
    "\n",
    "insertItem = \"sample\"\n",
    "\n",
    "index = 2\n",
    "lst.insert(index, insertItem)\n",
    "\n",
    "print(lst)"
   ]
  },
  {
   "cell_type": "code",
   "execution_count": null,
   "id": "fcea3f98",
   "metadata": {},
   "outputs": [],
   "source": []
  },
  {
   "cell_type": "code",
   "execution_count": 59,
   "id": "3e62dfe4",
   "metadata": {},
   "outputs": [
    {
     "name": "stdout",
     "output_type": "stream",
     "text": [
      "List after deleting specified list item: ['Welcome', 'to']\n"
     ]
    }
   ],
   "source": [
    "#8 wap to delete an element from list by index\n",
    "List = [\"Welcome\", \"to\", \"manchester\"]\n",
    "\n",
    "idx = 2\n",
    "\n",
    "\n",
    "del List[idx]\n",
    "\n",
    "\n",
    "print(\"List after deleting specified list item:\", List)"
   ]
  },
  {
   "cell_type": "code",
   "execution_count": 61,
   "id": "0035a867",
   "metadata": {},
   "outputs": [
    {
     "name": "stdout",
     "output_type": "stream",
     "text": [
      "1\n",
      "2\n",
      "3\n",
      "4\n",
      "5\n",
      "6\n",
      "7\n",
      "8\n",
      "9\n",
      "10\n",
      "11\n",
      "12\n",
      "13\n",
      "14\n",
      "15\n",
      "16\n",
      "17\n",
      "18\n",
      "19\n",
      "20\n",
      "21\n",
      "22\n",
      "23\n",
      "24\n",
      "25\n",
      "26\n",
      "27\n",
      "28\n",
      "29\n",
      "30\n",
      "31\n",
      "32\n",
      "33\n",
      "34\n",
      "35\n",
      "36\n",
      "37\n",
      "38\n",
      "39\n",
      "40\n",
      "41\n",
      "42\n",
      "43\n",
      "44\n",
      "45\n",
      "46\n",
      "47\n",
      "48\n",
      "49\n",
      "50\n",
      "51\n",
      "52\n",
      "53\n",
      "54\n",
      "55\n",
      "56\n",
      "57\n",
      "58\n",
      "59\n",
      "60\n",
      "61\n",
      "62\n",
      "63\n",
      "64\n",
      "65\n",
      "66\n",
      "67\n",
      "68\n",
      "69\n",
      "70\n",
      "71\n",
      "72\n",
      "73\n",
      "74\n",
      "75\n",
      "76\n",
      "77\n",
      "78\n",
      "79\n",
      "80\n",
      "81\n",
      "82\n",
      "83\n",
      "84\n",
      "85\n",
      "86\n",
      "87\n",
      "88\n",
      "89\n",
      "90\n",
      "91\n",
      "92\n",
      "93\n",
      "94\n",
      "95\n",
      "96\n",
      "97\n",
      "98\n",
      "99\n",
      "100\n"
     ]
    }
   ],
   "source": [
    "#9 wap to diaplay a number from 1 to 100\n",
    "for i in range(1,101):\n",
    "    print(i);\n",
    "    "
   ]
  },
  {
   "cell_type": "code",
   "execution_count": 74,
   "id": "d7563035",
   "metadata": {},
   "outputs": [
    {
     "name": "stdout",
     "output_type": "stream",
     "text": [
      " Tuple Items =  (11, 22, 33, 44, 55, 66, 77, 88, 99)\n",
      "495\n"
     ]
    }
   ],
   "source": [
    "#10 to display sum of all items in tuple\n",
    "numTuple = (11, 22, 33, 44, 55, 66, 77, 88, 99)\n",
    "print(\" Tuple Items = \", numTuple)\n",
    "\n",
    "tupleSum = 0\n",
    "for i in numTuple:\n",
    "    tupleSum = tupleSum + i\n",
    "\n",
    "print(tupleSum)"
   ]
  },
  {
   "cell_type": "code",
   "execution_count": null,
   "id": "252304a2",
   "metadata": {},
   "outputs": [],
   "source": [
    "#11 create a dictionary conating three lambda functions square,cube,squareroot\n"
   ]
  },
  {
   "cell_type": "code",
   "execution_count": 76,
   "id": "5a7628b6",
   "metadata": {},
   "outputs": [
    {
     "name": "stdout",
     "output_type": "stream",
     "text": [
      "1103.1622776601685\n"
     ]
    }
   ],
   "source": [
    "#11\n",
    "def addi(n):\n",
    "    dict = { 'Square': lambda a : a**2, \n",
    "         'Cube': lambda a : a**3, \n",
    "         'Squareroot': lambda a : a**(1/2)\n",
    "         }\n",
    "    sum = 0\n",
    "    for key in dict.keys():\n",
    "        sum += dict[key](n)\n",
    "    return sum\n",
    "    \n",
    "print(addi(10))"
   ]
  },
  {
   "cell_type": "code",
   "execution_count": null,
   "id": "b8f5a8b1",
   "metadata": {},
   "outputs": [],
   "source": [
    "#12 find the words from list whoe that have second charachter in upper case"
   ]
  },
  {
   "cell_type": "code",
   "execution_count": 81,
   "id": "a2547dd5",
   "metadata": {},
   "outputs": [
    {
     "ename": "SyntaxError",
     "evalue": "incomplete input (484060421.py, line 4)",
     "output_type": "error",
     "traceback": [
      "\u001b[1;36m  Cell \u001b[1;32mIn[81], line 4\u001b[1;36m\u001b[0m\n\u001b[1;33m    \u001b[0m\n\u001b[1;37m    ^\u001b[0m\n\u001b[1;31mSyntaxError\u001b[0m\u001b[1;31m:\u001b[0m incomplete input\n"
     ]
    }
   ],
   "source": [
    "ls=['hello','Dear','hOw','Are','You']\n",
    "\n",
    "\n",
    "    "
   ]
  },
  {
   "cell_type": "code",
   "execution_count": null,
   "id": "4bf71012",
   "metadata": {},
   "outputs": [],
   "source": [
    "#13"
   ]
  },
  {
   "cell_type": "markdown",
   "id": "6d1bc132",
   "metadata": {},
   "source": [
    "# control structures"
   ]
  },
  {
   "cell_type": "code",
   "execution_count": 108,
   "id": "67a244e9",
   "metadata": {},
   "outputs": [
    {
     "name": "stdout",
     "output_type": "stream",
     "text": [
      "Please, Enter the Lowest Range Value: 1\n",
      "Please, Enter the Upper Range Value: 100\n",
      "The Prime Numbers in the range are: \n",
      "2\n",
      "3\n",
      "5\n",
      "7\n",
      "11\n",
      "13\n",
      "17\n",
      "19\n",
      "23\n",
      "29\n",
      "31\n",
      "37\n",
      "41\n",
      "43\n",
      "47\n",
      "53\n",
      "59\n",
      "61\n",
      "67\n",
      "71\n",
      "73\n",
      "79\n",
      "83\n",
      "89\n",
      "97\n"
     ]
    }
   ],
   "source": [
    "#1 wap to find the first N prime numbers\n",
    "lower_value = int(input (\"Please, Enter the Lowest Range Value: \"))  \n",
    "upper_value = int(input (\"Please, Enter the Upper Range Value: \"))  \n",
    "  \n",
    "print (\"The Prime Numbers in the range are: \")  \n",
    "for number in range (lower_value, upper_value + 1):  \n",
    "    if number > 1:  \n",
    "        for i in range (2, number):  \n",
    "            if (number % i) == 0:  \n",
    "                break  \n",
    "        else:  \n",
    "            print (number)  "
   ]
  },
  {
   "cell_type": "code",
   "execution_count": null,
   "id": "522dd3a2",
   "metadata": {},
   "outputs": [],
   "source": [
    "#2 "
   ]
  },
  {
   "cell_type": "code",
   "execution_count": 109,
   "id": "11212e0e",
   "metadata": {},
   "outputs": [
    {
     "name": "stdout",
     "output_type": "stream",
     "text": [
      "leg is present in the list\n"
     ]
    }
   ],
   "source": [
    "#3 wap to search a for string in a list \n",
    "# assign list\n",
    "l = [1, 2.0, 'have', 'a', 'leg', 'day']\n",
    "\n",
    "# assign string\n",
    "s = 'leg'\n",
    "\n",
    "# check if string is present in the list\n",
    "if s in l:\n",
    "    print(f'{s} is present in the list')\n",
    "else:\n",
    "    print(f'{s} is not present in the list')\n"
   ]
  },
  {
   "cell_type": "code",
   "execution_count": 129,
   "id": "d69a0d05",
   "metadata": {},
   "outputs": [
    {
     "name": "stdout",
     "output_type": "stream",
     "text": [
      "The number of lowercase characters is: 10\n",
      "The number of uppercase characters is: 3\n"
     ]
    }
   ],
   "source": [
    "#4 wap python fucntion that accepts a string and cal no upper case and no of lower case letters\n",
    "Str=\"GeeksForGeeks\"\n",
    "lower=0\n",
    "upper=0\n",
    "for i in Str:\n",
    "    if(i.islower()):\n",
    "            lower+=1\n",
    "    else:\n",
    "            upper+=1\n",
    "print(\"The number of lowercase characters is:\",lower)\n",
    "print(\"The number of uppercase characters is:\",upper)\n"
   ]
  },
  {
   "cell_type": "code",
   "execution_count": 131,
   "id": "13f431f4",
   "metadata": {},
   "outputs": [
    {
     "name": "stdout",
     "output_type": "stream",
     "text": [
      "325\n"
     ]
    }
   ],
   "source": [
    "#5 wap to display the sum of oddnumber from 12 to 37\n",
    "sum=0;\n",
    "for i in range(12,38):\n",
    "    if(i%2!=0):\n",
    "        sum+=i\n",
    "print(sum)        "
   ]
  },
  {
   "cell_type": "code",
   "execution_count": 133,
   "id": "bda2deec",
   "metadata": {},
   "outputs": [
    {
     "name": "stdout",
     "output_type": "stream",
     "text": [
      "7 \n",
      "\n",
      "14 \n",
      "\n",
      "21 \n",
      "\n",
      "28 \n",
      "\n",
      "35 \n",
      "\n",
      "42 \n",
      "\n",
      "49 \n",
      "\n",
      "56 \n",
      "\n",
      "63 \n",
      "\n",
      "70 \n",
      "\n"
     ]
    }
   ],
   "source": [
    "#6 wap to print table any number\n",
    "n=7;\n",
    "i=10;\n",
    "for i in range(1,11):\n",
    "    print(n*i ,\"\\n\")"
   ]
  },
  {
   "cell_type": "code",
   "execution_count": 137,
   "id": "2ca700bd",
   "metadata": {},
   "outputs": [
    {
     "name": "stdout",
     "output_type": "stream",
     "text": [
      "Please, Enter the Lowest Range Value: 1\n",
      "Please, Enter the Upper Range Value: 10\n",
      "The Prime Numbers in the range are: \n",
      "17\n"
     ]
    }
   ],
   "source": [
    "#7 wap print of sum frst 1o prime no\n",
    "\n",
    "lower_value = int(input (\"Please, Enter the Lowest Range Value: \"))  \n",
    "upper_value = int(input (\"Please, Enter the Upper Range Value: \"))  \n",
    "sum=0\n",
    "print (\"The Prime Numbers in the range are: \")  \n",
    "for number in range (lower_value, upper_value + 1):  \n",
    "    if number > 1:  \n",
    "        for i in range (2, number):  \n",
    "            if (number % i) == 0:  \n",
    "                break  \n",
    "        else:\n",
    "            sum+=number\n",
    "\n",
    "       \n",
    "    \n",
    "    \n",
    "print(sum)         "
   ]
  },
  {
   "cell_type": "code",
   "execution_count": 145,
   "id": "4defdc64",
   "metadata": {},
   "outputs": [
    {
     "name": "stdout",
     "output_type": "stream",
     "text": [
      "Enter first value: 4\n",
      "Enter second value: 5\n",
      "Press 1 for Addittion \n",
      "Press 2 for Subtraction \n",
      "Press 3 for Multiplication \n",
      "Press 4 for Division\n",
      "Enter your option: 2\n",
      "Subtraction :  -1\n"
     ]
    }
   ],
   "source": [
    "#8 wap to implement airthmatic operations\n",
    "a = int(input(\"Enter first value: \"))\n",
    "b = int(input(\"Enter second value: \"))\n",
    "print(\"Press 1 for Addittion \\nPress 2 for Subtraction \\nPress 3 for Multiplication \\nPress 4 for Division\")\n",
    "option = int(input(\"Enter your option: \"))\n",
    "if option == 1:\n",
    "    result = a+b\n",
    "    print(\"Addition : \", result)\n",
    "    \n",
    "elif option == 2:\n",
    "        result = a-b\n",
    "        print(\"Subtraction : \",result)\n",
    "elif option == 3:\n",
    "        result = a*b\n",
    "        print(\"Multiplication : \", result)\n",
    "elif option == 4:\n",
    "        result = a/b\n",
    "        print(\"Division : \",result)\n",
    "else:\n",
    "    print(\"Invalid Value\")"
   ]
  },
  {
   "cell_type": "code",
   "execution_count": 147,
   "id": "877bd2a3",
   "metadata": {},
   "outputs": [
    {
     "name": "stdout",
     "output_type": "stream",
     "text": [
      "enter the temp: 45\n",
      "the temp in farenheit :  113.0\n"
     ]
    }
   ],
   "source": [
    "#9 celecius to farenheit\n",
    "c= int(input(\"enter the temp: \"))\n",
    "faren= c*1.8+32\n",
    "print(\"the temp in farenheit : \", faren)"
   ]
  },
  {
   "cell_type": "code",
   "execution_count": 149,
   "id": "ae3a7ae5",
   "metadata": {},
   "outputs": [
    {
     "name": "stdout",
     "output_type": "stream",
     "text": [
      "99\n",
      "-2\n"
     ]
    }
   ],
   "source": [
    "#10 max, min without using inbuilt\n",
    "l=[45,54,-2,54,99]\n",
    "max= l[0];\n",
    "for i in range(len(l)):\n",
    "    if l[i]>max:\n",
    "        max=l[i]\n",
    "        \n",
    "        \n",
    "print(max) \n",
    "\n",
    "min=l[0];\n",
    "for i in range(len(l)):\n",
    "    if l[i]<min:\n",
    "        min=l[i]\n",
    "        \n",
    "print(min)        "
   ]
  },
  {
   "cell_type": "code",
   "execution_count": 151,
   "id": "1bb49858",
   "metadata": {},
   "outputs": [
    {
     "name": "stdout",
     "output_type": "stream",
     "text": [
      "number of second in a month : 2592000\n"
     ]
    }
   ],
   "source": [
    "#11 no of seconds in a 30 day month\n",
    "days=30\n",
    "hours=24\n",
    "minutes=60\n",
    "seconds=60\n",
    "print('number of second in a month :' , days*hours*minutes*seconds)"
   ]
  },
  {
   "cell_type": "code",
   "execution_count": 152,
   "id": "28f65aaa",
   "metadata": {},
   "outputs": [
    {
     "name": "stdout",
     "output_type": "stream",
     "text": [
      "number of second in a year : 31536000\n"
     ]
    }
   ],
   "source": [
    "#12no of seconds in a year\n",
    "days=365\n",
    "hours=24\n",
    "minutes=60\n",
    "seconds=60\n",
    "print('number of second in a year :' , days*hours*minutes*seconds)"
   ]
  },
  {
   "cell_type": "code",
   "execution_count": 154,
   "id": "0f63b0e4",
   "metadata": {},
   "outputs": [
    {
     "name": "stdout",
     "output_type": "stream",
     "text": [
      "2.76\n"
     ]
    }
   ],
   "source": [
    "#13 time ,distnace ,speed\n",
    "speed_milesperhr= 150\n",
    "\n",
    "distance_miles=414\n",
    "time= float(distance_miles/speed_milesperhr)\n",
    "\n",
    "print(time);"
   ]
  },
  {
   "cell_type": "code",
   "execution_count": 155,
   "id": "366e3bae",
   "metadata": {},
   "outputs": [
    {
     "name": "stdout",
     "output_type": "stream",
     "text": [
      "no of hours spend from 7 to 11 : 4608\n"
     ]
    }
   ],
   "source": [
    "#14 hours spend from 7 to 11\n",
    "days_in_each_school_year=192\n",
    "hours_eachday= 6\n",
    "\n",
    "total_days=4*192\n",
    "print(\"no of hours spend from 7 to 11 :\",total_days*hours_eachday)"
   ]
  },
  {
   "cell_type": "code",
   "execution_count": 170,
   "id": "f858388d",
   "metadata": {},
   "outputs": [
    {
     "name": "stdout",
     "output_type": "stream",
     "text": [
      "Enter ram age: 13\n",
      "Enter shyam age: 14\n",
      "Enter khan age: 15\n",
      "The eldest son is 15\n"
     ]
    }
   ],
   "source": [
    "#15\n",
    "# Python program to find the largest\n",
    "# number among the three numbers\n",
    "\n",
    "\n",
    "\n",
    "num1 = int(input(\"Enter ram age: \"))\n",
    "num2 = int(input(\"Enter shyam age: \"))\n",
    "num3 = int(input(\"Enter khan age: \"))\n",
    "\n",
    "if (num1 >= num2) and (num1 >= num3):\n",
    "    largest = num1\n",
    "elif (num2 >= num1) and (num2 >= num3):\n",
    "     largest = num2\n",
    "else:\n",
    "    largest = num3\n",
    "\n",
    "print(\"The eldest son is\", largest)\n"
   ]
  },
  {
   "cell_type": "code",
   "execution_count": 172,
   "id": "bb2a0c50",
   "metadata": {},
   "outputs": [
    {
     "name": "stdout",
     "output_type": "stream",
     "text": [
      "[5, 6, 1, 2, 3, 4]\n"
     ]
    }
   ],
   "source": [
    "#16 to rotate list by n times with and without slicing technique\n",
    "# Python program to right rotate\n",
    "# a list by n using list slicing\n",
    "n = 2\n",
    "\n",
    "list_1 = [1, 2, 3, 4, 5, 6]\n",
    "list_1 = (list_1[len(list_1) - n:len(list_1)]\n",
    "          + list_1[0:len(list_1) - n])\n",
    "print(list_1)\n",
    "\n"
   ]
  },
  {
   "cell_type": "code",
   "execution_count": 174,
   "id": "e347d9c8",
   "metadata": {},
   "outputs": [
    {
     "name": "stdout",
     "output_type": "stream",
     "text": [
      "* \n",
      "\n",
      "* * \n",
      "\n",
      "* * * \n",
      "\n",
      "* * * * \n",
      "\n",
      "* * * * * \n",
      "\n"
     ]
    }
   ],
   "source": [
    "\n",
    "def pypart(n):\n",
    "# outer loop to handle number of rows\n",
    "# n in this case\n",
    "    for i in range(0, n):\n",
    "\n",
    "# inner loop to handle number of columns\n",
    "# values changing acc. to outer loop\n",
    "        for j in range(0, i+1):\n",
    "\n",
    "# printing stars\n",
    "            print(\"* \",end=\"\")\n",
    "\n",
    "# ending line after each row\n",
    "        print(\"\\n\")\n",
    "\n",
    
    "n = 5\n",
    "pypart(n)\n"
   ]
  },
  {
   "cell_type": "code",
   "execution_count": 177,
   "id": "1a163ab4",
   "metadata": {},
   "outputs": [
    {
     "name": "stdout",
     "output_type": "stream",
     "text": [
      "    * \n",
      "\n",
      "   * * \n",
      "\n",
      "  * * * \n",
      "\n",
      " * * * * \n",
      "\n",
      "* * * * * \n",
      "\n"
     ]
    }
   ],
   "source": [
    "\n",
    "def triangle(n):\n",
    "\n",
    "# number of spaces\n",
    "    k = n - 1\n",
    "\n",
    "# outer loop to handle number of rows\n",
    "    for i in range(0, n):\n",
    "\n",
    "# inner loop to handle number spaces\n",
    "# values changing acc. to requirement\n",
    "        for j in range(0, k):\n",
    "            print(end=\" \")\n",
    "\n",
    "# decrementing k after each loop\n",
    "        k = k - 1\n",
    "\n",
    "# inner loop to handle number of columns\n",
    "# values changing acc. to outer loop\n",
    "        for j in range(0, i+1):\n",
    "\n",
    "# printing stars\n",
    "            print(\"* \", end=\"\")\n",
    "\n",
    "# ending line after each row\n",
    "        print(\"\\n\")\n",
    "\n",
    
    "n = 5\n",
    "triangle(n)\n"
   ]
  },
  {
   "cell_type": "code",
   "execution_count": null,
   "id": "56a4a159",
   "metadata": {},
   "outputs": [],
   "source": []
  }
 ],
 "metadata": {
  "kernelspec": {
   "display_name": "Python 3 (ipykernel)",
   "language": "python",
   "name": "python3"
  },
  "language_info": {
   "codemirror_mode": {
    "name": "ipython",
    "version": 3
   },
   "file_extension": ".py",
   "mimetype": "text/x-python",
   "name": "python",
   "nbconvert_exporter": "python",
   "pygments_lexer": "ipython3",
   "version": "3.11.4"
  }
 },
 "nbformat": 4,
 "nbformat_minor": 5
}
