{
 "cells": [
  {
   "cell_type": "code",
   "execution_count": 1,
   "id": "36a215cf",
   "metadata": {},
   "outputs": [
    {
     "name": "stdout",
     "output_type": "stream",
     "text": [
      "even :  [0, 2, 4, 6, 8, 10, 12, 14, 16, 18]\n",
      "odd :  [1, 3, 5, 7, 9, 11, 13, 15, 17, 19]\n"
     ]
    }
   ],
   "source": [
    "#1 write a python functions to list even and odd numbers in a list\n",
    "def lis(n):\n",
    "    ev=[]\n",
    "    od=[]\n",
    "    for i in range(n):\n",
    "        if i%2==0:\n",
    "            ev.append(i)\n",
    "        else:\n",
    "            od.append(i)\n",
    "            \n",
    "    print('even : ',ev)\n",
    "    print('odd : ' ,od)\n",
    "    \n",
    "lis(20)    \n",
    "        "
   ]
  },
  {
   "cell_type": "code",
   "execution_count": 20,
   "id": "dd8b5059",
   "metadata": {},
   "outputs": [
    {
     "name": "stdout",
     "output_type": "stream",
     "text": [
      "Enter: 19\n",
      "Enter: 6\n",
      "Enter: 9\n",
      "Enter: 20\n",
      "Enter: 13\n",
      "Enter: 7\n",
      "Enter: 6\n",
      "Enter: 1\n"
     ]
    }
   ],
   "source": [
    "#2 write and run a python program that asks te user to enter 8 integers (one at a time) and then prints \n",
    "#out how many of those integers were even numbers.\n",
    "#For example, if the user entered 19,6,9,20,13,7,6,1 then your program shuld print 3 as 3 of those numbers were even\n",
    "\n",
    "inputList = []\n",
    "for i in range(8):\n",
    "    inputList.append(input(\"Enter: \"))\n",
    "    \n",
    "\n",
    "        \n",
    "       \n",
    "    "
   ]
  },
  {
   "cell_type": "code",
   "execution_count": 21,
   "id": "3f367a45",
   "metadata": {},
   "outputs": [
    {
     "name": "stdout",
     "output_type": "stream",
     "text": [
      "Even numbers in the list:  3\n"
     ]
    }
   ],
   "source": [
    "\n",
    "# list of numbers\n",
    "input_list = [19,6,9,20,13,7,1,6]\n",
    "\n",
    "even_count = 0\n",
    "\n",
    "for num in list1:\n",
    "    if num % 2 == 0:\n",
    "        even_count += 1\n",
    "\n",
    "\n",
    "print(\"Even numbers in the list: \", even_count)\n",
    "\n"
   ]
  },
  {
   "cell_type": "code",
   "execution_count": 25,
   "id": "870631e3",
   "metadata": {},
   "outputs": [
    {
     "name": "stdout",
     "output_type": "stream",
     "text": [
      "enter a postive no: 6\n",
      "3.0\n",
      "10.0\n",
      "5.0\n",
      "16.0\n",
      "8.0\n",
      "4.0\n",
      "2.0\n",
      "1.0\n"
     ]
    }
   ],
   "source": [
    "#3write a python program where you take any postive no integer n,if n is even , divide it by 2 to get n /2. if n is odd , \n",
    "#multiply it by  3 and add 1 to obtain 3n+1 . repeat untill it reaches 1  \n",
    "n= int(input(\"enter a postive no: \"))\n",
    "while(n!=1):\n",
    "    if n % 2 == 0:\n",
    "        n = n / 2\n",
    "        print(n)\n",
    "    else:\n",
    "        n = n * 3 + 1\n",
    "        print(n)\n",
    "        \n",
    "        \n",
    "    \n",
    "    "
   ]
  },
  {
   "cell_type": "code",
   "execution_count": 28,
   "id": "26d05a6a",
   "metadata": {},
   "outputs": [
    {
     "name": "stdout",
     "output_type": "stream",
     "text": [
      "57918\n"
     ]
    }
   ],
   "source": [
    "#4write a python program to print sum of all multiples of 3 or 5 below 500\n",
    "sum=0\n",
    "    \n",
    "for x in range(1,500):\n",
    "        if x % 3 == 0 or x % 5 == 0:\n",
    "            sum +=x\n",
    "            \n",
    "            \n",
    "print(sum)         \n",
    "        \n",
    "    "
   ]
  },
  {
   "cell_type": "code",
   "execution_count": 29,
   "id": "da4b83d9",
   "metadata": {},
   "outputs": [
    {
     "name": "stdout",
     "output_type": "stream",
     "text": [
      "Please, Enter the Lowest Range Value: 1\n",
      "Please, Enter the Upper Range Value: 10\n",
      "The Prime Numbers in the range are: \n",
      "2 3 5 7 "
     ]
    }
   ],
   "source": [
    "#5write a python program to find the first 'n' primes from a list of given numbers\n",
    "start = int(input (\"Please, Enter the Lowest Range Value: \"))  \n",
    "stop = int(input (\"Please, Enter the Upper Range Value: \"))  \n",
    "  \n",
    "print (\"The Prime Numbers in the range are: \")  \n",
    "for number in range (start, stop + 1):  \n",
    "    if number > 1:  \n",
    "        for i in range (2, number):  \n",
    "            if (number % i) == 0:  \n",
    "                break  \n",
    "        else:  \n",
    "            print (number,end=' ')  "
   ]
  },
  {
   "cell_type": "code",
   "execution_count": 99,
   "id": "f38dddf9",
   "metadata": {},
   "outputs": [
    {
     "name": "stdout",
     "output_type": "stream",
     "text": [
      "Multiplied Matrix:\n",
      "[17, 26, 35, 44]\n",
      "[41, 62, 83, 104]\n",
      "[65, 98, 131, 164]\n"
     ]
    }
   ],
   "source": [
    "#6 write a python program  to compute matrix multiplication\n",
    "\n",
    "# Program to multiply two matrices using nested for loops\n",
    "# 3x3 matrix\n",
    "A = [[1,2,3],\n",
    "     [4,5,6],\n",
    "     [7,8,9]]\n",
    "# 3x4 matrix\n",
    "B = [[1,2,3,4],\n",
    "     [5,6,7,8],\n",
    "     [2,4,6,8]]\n",
    "# result is 3x4\n",
    "result = [[0,0,0,0],\n",
    "          [0,0,0,0],\n",
    "          [0,0,0,0]]\n",
    "\n",
    "# iterate through rows of Matrix A\n",
    "for i in range(len(A)):\n",
    "    # iterate through columns of Matrix B\n",
    "    for j in range(len(B[0])):\n",
    "        # iterate through rows of Matrix B\n",
    "        for k in range(len(B)):\n",
    "            result[i][j] += A[i][k] * B[k][j]\n",
    "\n",
    "print('Multiplied Matrix:')\n",
    "for r in result:\n",
    "    print(r)\n"
   ]
  },
  {
   "cell_type": "code",
   "execution_count": 38,
   "id": "329d01ea",
   "metadata": {},
   "outputs": [
    {
     "name": "stdout",
     "output_type": "stream",
     "text": [
      "No. of vowels : 4\n"
     ]
    }
   ],
   "source": [
    "#7 write a python program  to count vowels in a string\n",
    "\n",
    "\n",
    "\n",
    "def vowel_count(str):\n",
    "\n",
    "    count = 0\n",
    "\n",
    "    # Creating a set of vowels\n",
    "    vowel = set(\"aeiouAEIOU\")\n",
    "\n",
    "\n",
    "    for i in str:\n",
    "\n",
    "        if i in vowel:\n",
    "            count = count + 1\n",
    "\n",
    "    print(\"No. of vowels :\", count)\n",
    "\n",
    "\n",
    "str = \"i work in mphasis\"\n",
    "\n",
    "# Function Call\n",
    "vowel_count(str)\n",
    "\n",
    "    \n"
   ]
  },
  {
   "cell_type": "code",
   "execution_count": 41,
   "id": "7e97ffbf",
   "metadata": {},
   "outputs": [
    {
     "name": "stdout",
     "output_type": "stream",
     "text": [
      "120\n"
     ]
    }
   ],
   "source": [
    "#8 write a python program  function to find the factorial for the given no using a recursive function\n",
    "def factorial(n):\n",
    "        res = 1\n",
    "        \n",
    "        for i in range(2, n+1 ):\n",
    "            res = res * i\n",
    "            \n",
    "        return res\n",
    "    \n",
    "num=5\n",
    "print(factorial(num))    \n",
    "            "
   ]
  },
  {
   "cell_type": "code",
   "execution_count": 78,
   "id": "a0c836ba",
   "metadata": {},
   "outputs": [
    {
     "name": "stdout",
     "output_type": "stream",
     "text": [
      "Fibonacci sequence:\n",
      "0\n",
      "1\n",
      "1\n",
      "2\n",
      "3\n",
      "5\n",
      "8\n",
      "13\n",
      "21\n",
      "34\n"
     ]
    }
   ],
   "source": [
    "#9 write a python program fucntion to get fibonacci series\n",
    "\n",
    "\n",
    "def recur_fibo(n):\n",
    "    if n <= 1:\n",
    "        return n\n",
    "    else:\n",
    "        return(recur_fibo(n-1) + recur_fibo(n-2))\n",
    "\n",
    "nterms = 10\n",
    "\n",
    "# check if the number of terms is valid\n",
    "if nterms <= 0:\n",
    "    print(\"Plese enter a positive integer\")\n",
    "else:\n",
    "    print(\"Fibonacci sequence:\")\n",
    "    for i in range(nterms):\n",
    "        print(recur_fibo(i))\n",
    "        "
   ]
  },
  {
   "cell_type": "code",
   "execution_count": 62,
   "id": "3f0bf2e2",
   "metadata": {},
   "outputs": [
    {
     "name": "stdout",
     "output_type": "stream",
     "text": [
      "123\n"
     ]
    }
   ],
   "source": [
    "#10 write a python program function print the integer in reverse order \n",
    "\n",
    "def rev(n):\n",
    "    \n",
    "    rev = 0\n",
    "    \n",
    "    \n",
    "    while n > 0: \n",
    "        rem = n % 10\n",
    "        rev = rev * 10 + rem\n",
    "        n = n // 10\n",
    "    return rev      \n",
    "\n",
    "\n",
    "print(rev(321))\n",
    "\n",
    "\n",
    "\n"
   ]
  },
  {
   "cell_type": "code",
   "execution_count": 79,
   "id": "0f09d7c8",
   "metadata": {},
   "outputs": [
    {
     "name": "stdout",
     "output_type": "stream",
     "text": [
      "All Integers Within The Range 200-300 Whose Sum Of Digits Is An Even Number is = []\n"
     ]
    }
   ],
   "source": [
    "#11 write a python program to display all  integers bw 200-300 whose sum of digits is an even number\n",
    "\n",
    "def even_num():\n",
    "    list=[]\n",
    "    for i in range(200,300):\n",
    "        i = str(i)\n",
    "        sum = 0\n",
    "        for j in i:\n",
    "            j = int(j)\n",
    "            sum = sum + j\n",
    "            \n",
    "        if sum % 2 == 0:\n",
    "            return  list.append(i)\n",
    "        \n",
    "    even_num()         \n",
    "print('All Integers Within The Range 200-300 Whose Sum Of Digits Is An Even Number is =',list)           \n",
    "\n",
    "\n"
   ]
  },
  {
   "cell_type": "code",
   "execution_count": 77,
   "id": "517ac1b9",
   "metadata": {},
   "outputs": [
    {
     "data": {
      "text/plain": [
       "(3, 6)"
      ]
     },
     "execution_count": 77,
     "metadata": {},
     "output_type": "execute_result"
    }
   ],
   "source": [
    "#12 write a python program  function to print number of digits and sum of digits of  an integer\n",
    "def sum_num(n):\n",
    "    count = 0\n",
    "    sum = 0\n",
    "    \n",
    "    while n != 0:\n",
    "        digit = n % 10 \n",
    "        sum += digit\n",
    "        n = n // 10\n",
    "        count = count + 1\n",
    "    return count,sum\n",
    "\n",
    "sum_num(123)\n",
    "        \n",
    "        "
   ]
  },
  {
   "cell_type": "code",
   "execution_count": 87,
   "id": "b46836d6",
   "metadata": {},
   "outputs": [
    {
     "name": "stdout",
     "output_type": "stream",
     "text": [
      "[200, 202, 204, 206, 208, 211, 213, 215, 217, 219, 220, 222, 224, 226, 228, 231, 233, 235, 237, 239, 240, 242, 244, 246, 248, 251, 253, 255, 257, 259, 260, 262, 264, 266, 268, 271, 273, 275, 277, 279, 280, 282, 284, 286, 288, 291, 293, 295, 297, 299]\n"
     ]
    }
   ],
   "source": [
    "def sum(n):\n",
    "\n",
    "    s=0\n",
    "    while n !=0:\n",
    "        digits = n%10\n",
    "        s += digits  \n",
    "        n = n // 10\n",
    "    return s\n",
    "list=[]\n",
    "\n",
    "    \n",
    "       \n",
    "\n",
    "for i in range(200,301):\n",
    "       if (sum(i) % 2 == 0):\n",
    "            list.append(i)\n",
    "print(list)        \n",
    "        "
   ]
  },
  {
   "cell_type": "code",
   "execution_count": 90,
   "id": "28d5c5e6",
   "metadata": {},
   "outputs": [
    {
     "name": "stdout",
     "output_type": "stream",
     "text": [
      "True\n",
      "False\n",
      "True\n",
      "False\n"
     ]
    }
   ],
   "source": [
    "#13 write a  python function called  is_sorted that takes a list as a parameter and returns\n",
    "#True if the list is sorted in ascending order and False otherwise and\n",
    "#has_duplicates that takes a list and returns True if there is any element \n",
    "#that appears more than once . it should not modify the original list \n",
    "\n",
    "def is_sorted(lst):\n",
    "    # Check if the list is sorted in ascending order\n",
    "    for i in range(1, len(lst)):\n",
    "        if lst[i] < lst[i - 1]:\n",
    "            return False\n",
    "    return True\n",
    "\n",
    "def has_duplicates(lst):\n",
    "    # Create a set to keep track of unique elements\n",
    "    unique_elements = set()\n",
    "    \n",
    "    for item in lst:\n",
    "        if item in unique_elements:\n",
    "            return True\n",
    "        else:\n",
    "            unique_elements.add(item)\n",
    "    \n",
    "    return False\n",
    "\n",
    "\n",
    "l1 = [1, 2, 3, 4, 5]\n",
    "print(is_sorted(l1))  \n",
    "\n",
    "l1 = [5, 4, 3, 2, 1]\n",
    "print(is_sorted(l1)) \n",
    "\n",
    "l1 = [1, 2, 2, 3, 4]\n",
    "print(has_duplicates(l1))  \n",
    "\n",
    "l1 = [1, 2, 3, 4, 5]\n",
    "print(has_duplicates(l1))  \n"
   ]
  },
  {
   "cell_type": "code",
   "execution_count": 96,
   "id": "e6171d5a",
   "metadata": {},
   "outputs": [
    {
     "name": "stdout",
     "output_type": "stream",
     "text": [
      "Sum is: 15\n"
     ]
    }
   ],
   "source": [
    "#14 write a  python function nested_sum that takes a list of integers and adds up the elements from all the nested lists and cumsum that takes a list of numbers and returns and cummuative sum;\n",
    "#that is , a new list where the ith element is the sum of first i+1 elements from the original list\n",
    "def sum1(lst):\n",
    "    total = 0\n",
    "    for element in lst:\n",
    "        if (type(element) == type([])):\n",
    "            total = total + sum1(element)\n",
    "        else:\n",
    "            total = total + element\n",
    "    return total\n",
    "print( \"Sum is:\",sum1([[3,5],[3,4]]))"
   ]
  },
  {
   "cell_type": "code",
   "execution_count": null,
   "id": "4fa7ecd3",
   "metadata": {},
   "outputs": [],
   "source": []
  }
 ],
 "metadata": {
  "kernelspec": {
   "display_name": "Python 3 (ipykernel)",
   "language": "python",
   "name": "python3"
  },
  "language_info": {
   "codemirror_mode": {
    "name": "ipython",
    "version": 3
   },
   "file_extension": ".py",
   "mimetype": "text/x-python",
   "name": "python",
   "nbconvert_exporter": "python",
   "pygments_lexer": "ipython3",
   "version": "3.11.4"
  }
 },
 "nbformat": 4,
 "nbformat_minor": 5
}
