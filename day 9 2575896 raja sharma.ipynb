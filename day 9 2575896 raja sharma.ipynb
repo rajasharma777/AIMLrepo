{
 "cells": [
  {
   "cell_type": "code",
   "execution_count": 1,
   "id": "432dcfc0",
   "metadata": {},
   "outputs": [],
   "source": [
    "import numpy as np\n",
    "#Dataset\n",
    "\n",
    "                             "
   ]
  },
  {
   "cell_type": "markdown",
   "id": "ffa641aa",
   "metadata": {},
   "source": [
    "1.find the country index with maximum gold"
   ]
  },
  {
   "cell_type": "code",
   "execution_count": 6,
   "id": "423cefad",
   "metadata": {},
   "outputs": [
    {
     "name": "stdout",
     "output_type": "stream",
     "text": [
      "3\n"
     ]
    }
   ],
   "source": [
    "import numpy as np\n",
    "\n",
    "np_olympic_country = np.array(['GBR', 'China', 'RUS', 'US', 'KOR', 'OPN', 'GER'])\n",
    "np_olympic_country_gold = np.array([29, 38, 24, 46, 13, 7, 11])\n",
    "\n",
    "# Find the index of the country with the maximum gold medals\n",
    "max_gold_index = np.argmax(np_olympic_country_gold)\n",
    "\n",
    "print(max_gold_index )\n"
   ]
  },
  {
   "cell_type": "markdown",
   "id": "6a7fb5fe",
   "metadata": {},
   "source": [
    "2. Print Country with Maximum gold"
   ]
  },
  {
   "cell_type": "code",
   "execution_count": 9,
   "id": "138d1b9a",
   "metadata": {},
   "outputs": [
    {
     "name": "stdout",
     "output_type": "stream",
     "text": [
      "Country with the maximum gold medals: US\n"
     ]
    }
   ],
   "source": [
    "import numpy as np\n",
    "\n",
    "np_olympic_country = np.array(['GBR', 'China', 'RUS', 'US', 'KOR', 'OPN', 'GER'])\n",
    "np_olympic_country_gold = np.array([29, 38, 24, 46, 13, 7, 11])\n",
    "\n",
    "# Find the index of the country with the maximum gold medals\n",
    "max_gold_index = np.argmax(np_olympic_country_gold)\n",
    "\n",
    "# Find the country with the maximum gold medals\n",
    "country_with_max_gold = np_olympic_country[max_gold_index]\n",
    "\n",
    "print(\"Country with the maximum gold medals:\", country_with_max_gold)\n"
   ]
  },
  {
   "cell_type": "markdown",
   "id": "66b9d5de",
   "metadata": {},
   "source": [
    "3. Find countries with more than 20 gold\n",
    "\n",
    "medals"
   ]
  },
  {
   "cell_type": "code",
   "execution_count": 7,
   "id": "ed604d11",
   "metadata": {},
   "outputs": [
    {
     "name": "stdout",
     "output_type": "stream",
     "text": [
      "Countries with more than 20 gold medals: ['GBR' 'China' 'RUS' 'US']\n"
     ]
    }
   ],
   "source": [
    "import numpy as np\n",
    "\n",
    "np_olympic_country = np.array(['GBR', 'China', 'RUS', 'US', 'KOR', 'OPN', 'GER'])\n",
    "np_olympic_country_gold = np.array([29, 38, 24, 46, 13, 7, 11])\n",
    "\n",
    "# Find countries with more than 20 gold medals\n",
    "countries_with_more_than_20_gold = np_olympic_country[np_olympic_country_gold > 20]\n",
    "\n",
    "print(\"Countries with more than 20 gold medals:\", countries_with_more_than_20_gold)\n"
   ]
  },
  {
   "cell_type": "markdown",
   "id": "c1221f28",
   "metadata": {},
   "source": [
    "4. Evaluate the dataset and print the medal:\n",
    "\n",
    "1. print each country name with number of gold medals 2. print each country name with total number of medals"
   ]
  },
  {
   "cell_type": "code",
   "execution_count": 8,
   "id": "9046f7cd",
   "metadata": {},
   "outputs": [
    {
     "name": "stdout",
     "output_type": "stream",
     "text": [
      "Country Name\tGold Medals\n",
      "GBR\t\t29\n",
      "China\t\t38\n",
      "RUS\t\t24\n",
      "US\t\t46\n",
      "KOR\t\t13\n",
      "OPN\t\t7\n",
      "GER\t\t11\n",
      "\n",
      "Country Name\tTotal Medals\n",
      "GBR\t\t65\n",
      "China\t\t88\n",
      "RUS\t\t81\n",
      "US\t\t103\n",
      "KOR\t\t28\n",
      "OPN\t\t38\n",
      "GER\t\t36\n"
     ]
    }
   ],
   "source": [
    "import numpy as np\n",
    "\n",
    "np_olympic_country = np.array(['GBR', 'China', 'RUS', 'US', 'KOR', 'OPN', 'GER'])\n",
    "np_olympic_country_gold = np.array([29, 38, 24, 46, 13, 7, 11])\n",
    "np_olympic_country_silver = np.array([17, 28, 25, 28, 8, 14, 11])\n",
    "np_olympic_country_bronze = np.array([19, 22, 32, 29, 7, 17, 14])\n",
    "\n",
    "\n",
    "print(\"Country Name\\tGold Medals\")\n",
    "for country, gold_medals in zip(np_olympic_country, np_olympic_country_gold):\n",
    "    print(f\"{country}\\t\\t{gold_medals}\")\n",
    "\n",
    "\n",
    "total_medals = np_olympic_country_gold + np_olympic_country_silver + np_olympic_country_bronze\n",
    "print(\"\\nCountry Name\\tTotal Medals\")\n",
    "for country, total in zip(np_olympic_country, total_medals):\n",
    "    print(f\"{country}\\t\\t{total}\")\n"
   ]
  },
  {
   "cell_type": "markdown",
   "id": "1a55ffe2",
   "metadata": {},
   "source": [
    "1. Create a 3x3x3 array with random values"
   ]
  },
  {
   "cell_type": "code",
   "execution_count": 11,
   "id": "3059be6c",
   "metadata": {},
   "outputs": [
    {
     "name": "stdout",
     "output_type": "stream",
     "text": [
      "[[[0.17156442 0.51369532 0.35255134]\n",
      "  [0.4898636  0.48015267 0.64053607]\n",
      "  [0.39311214 0.66042337 0.66487236]]\n",
      "\n",
      " [[0.79346655 0.89735577 0.50719209]\n",
      "  [0.75085497 0.61499588 0.00868542]\n",
      "  [0.48627412 0.41561357 0.99472763]]\n",
      "\n",
      " [[0.53499197 0.02934323 0.04171402]\n",
      "  [0.71064083 0.01472229 0.03845901]\n",
      "  [0.04008423 0.58447597 0.79286897]]]\n"
     ]
    }
   ],
   "source": [
    "import numpy as np\n",
    "\n",
    "# Create a 3x3x3 array with random values between 0 and 1\n",
    "random_array = np.random.random((3, 3, 3))\n",
    "\n",
    "print(random_array)\n"
   ]
  },
  {
   "cell_type": "markdown",
   "id": "3b0a198a",
   "metadata": {},
   "source": [
    "2.Create a 5x5 matrix with values 1,2,3,4 just below the diagonal"
   ]
  },
  {
   "cell_type": "code",
   "execution_count": 17,
   "id": "b6a9c200",
   "metadata": {},
   "outputs": [
    {
     "name": "stdout",
     "output_type": "stream",
     "text": [
      "[[0. 0. 0. 0. 0.]\n",
      " [1. 0. 0. 0. 0.]\n",
      " [0. 2. 0. 0. 0.]\n",
      " [0. 0. 3. 0. 0.]\n",
      " [0. 0. 0. 4. 0.]]\n"
     ]
    }
   ],
   "source": [
    "import numpy as np\n",
    "\n",
    "# Create a 5x5 matrix filled with zeros\n",
    "matrix = np.zeros((5, 5))\n",
    "\n",
    "# Fill the values 1, 2, 3, 4 just below the diagonal\n",
    "np.fill_diagonal(matrix[1:], [1, 2, 3, 4])\n",
    "\n",
    "print(matrix)\n"
   ]
  },
  {
   "cell_type": "markdown",
   "id": "b04917e7",
   "metadata": {},
   "source": [
    "3.Create a 8x8 matrix and fill it with a checkerboard pattern"
   ]
  },
  {
   "cell_type": "code",
   "execution_count": 18,
   "id": "7ec6579c",
   "metadata": {},
   "outputs": [
    {
     "name": "stdout",
     "output_type": "stream",
     "text": [
      "[[0 1 0 1 0 1 0 1]\n",
      " [1 0 1 0 1 0 1 0]\n",
      " [0 1 0 1 0 1 0 1]\n",
      " [1 0 1 0 1 0 1 0]\n",
      " [0 1 0 1 0 1 0 1]\n",
      " [1 0 1 0 1 0 1 0]\n",
      " [0 1 0 1 0 1 0 1]\n",
      " [1 0 1 0 1 0 1 0]]\n"
     ]
    }
   ],
   "source": [
    "import numpy as np\n",
    "\n",
    "# Create an 8x8 matrix filled with zeros\n",
    "matrix = np.zeros((8, 8), dtype=int)\n",
    "\n",
    "# Fill the matrix with the checkerboard pattern\n",
    "matrix[1::2, ::2] = 1\n",
    "matrix[::2, 1::2] = 1\n",
    "\n",
    "print(matrix)\n"
   ]
  },
  {
   "cell_type": "markdown",
   "id": "61ea708a",
   "metadata": {},
   "source": [
    "\n",
    "4. Normalize a 5x5 random matri"
   ]
  },
  {
   "cell_type": "code",
   "execution_count": 20,
   "id": "975e1fdb",
   "metadata": {},
   "outputs": [
    {
     "name": "stdout",
     "output_type": "stream",
     "text": [
      "Original Matrix:\n",
      "[[0.9203157  0.49387504 0.75587203 0.84700251 0.53316464]\n",
      " [0.2869587  0.23247422 0.10032414 0.24620449 0.41659724]\n",
      " [0.17909284 0.43474582 0.84190151 0.62137739 0.37170906]\n",
      " [0.29545326 0.9078863  0.82890832 0.04255842 0.9229103 ]\n",
      " [0.4816192  0.75202143 0.83702448 0.31610178 0.92055068]]\n",
      "\n",
      "Normalized Matrix:\n",
      "[[ 1.32823354 -0.17478677  0.74864015  1.06983598 -0.03630782]\n",
      " [-0.90407806 -1.09611248 -1.56188481 -1.04771917 -0.44715785]\n",
      " [-1.28425893 -0.38319191  1.05185717  0.27460429 -0.60536944]\n",
      " [-0.8741384   1.28442521  1.00606174 -1.76548419  1.33737839]\n",
      " [-0.21798335  0.73506847  1.03466771 -0.80136121  1.32906172]]\n"
     ]
    }
   ],
   "source": [
    "import numpy as np\n",
    "\n",
    "# Create a 5x5 random matrix\n",
    "random_matrix = np.random.random((5, 5))\n",
    "\n",
    "# Calculate the mean and standard deviation of the matrix\n",
    "mean = random_matrix.mean()\n",
    "std_dev = random_matrix.std()\n",
    "\n",
    "# Normalize the matrix\n",
    "normalized_matrix = (random_matrix - mean) / std_dev\n",
    "\n",
    "print(\"Original Matrix:\")\n",
    "print(random_matrix)\n",
    "print(\"\\nNormalized Matrix:\")\n",
    "print(normalized_matrix)\n"
   ]
  },
  {
   "cell_type": "markdown",
   "id": "9cf67043",
   "metadata": {},
   "source": [
    "5. How to find common values between two arrays?"
   ]
  },
  {
   "cell_type": "code",
   "execution_count": 21,
   "id": "30d3e6ea",
   "metadata": {},
   "outputs": [
    {
     "name": "stdout",
     "output_type": "stream",
     "text": [
      "The common elements are: [1 3]\n"
     ]
    }
   ],
   "source": [
    "import numpy as np\n",
    "\n",
    "arr1 = np.array([1, 3, 4, 3])\n",
    "arr2 = np.array([3, 1, 2, 1])\n",
    "\n",
    "result = np.intersect1d(arr1, arr2)\n",
    "\n",
    "print(\"The common elements are:\", result)"
   ]
  },
  {
   "cell_type": "markdown",
   "id": "0251267a",
   "metadata": {},
   "source": [
    "6. How to get the dates of yesterday, today and tomorrow"
   ]
  },
  {
   "cell_type": "code",
   "execution_count": 22,
   "id": "7ad9a293",
   "metadata": {},
   "outputs": [
    {
     "name": "stdout",
     "output_type": "stream",
     "text": [
      "Yestraday:  2023-09-20\n",
      "Today:  2023-09-21\n",
      "Tomorrow:  2023-09-22\n"
     ]
    }
   ],
   "source": [
    "import numpy as np\n",
    "yesterday = np.datetime64('today', 'D') - np.timedelta64(1, 'D')\n",
    "print(\"Yestraday: \",yesterday)\n",
    "today     = np.datetime64('today', 'D')\n",
    "print(\"Today: \",today)\n",
    "tomorrow  = np.datetime64('today', 'D') + np.timedelta64(1, 'D')\n",
    "print(\"Tomorrow: \",tomorrow)\n"
   ]
  },
  {
   "cell_type": "markdown",
   "id": "9ada2906",
   "metadata": {},
   "source": [
    "7. Consider two random array A and B, check if they are equal"
   ]
  },
  {
   "cell_type": "code",
   "execution_count": 23,
   "id": "f4b74ce0",
   "metadata": {},
   "outputs": [
    {
     "name": "stdout",
     "output_type": "stream",
     "text": [
      "First array:\n",
      "[0 1 2 2 2 2]\n",
      "Second array:\n",
      "[1 0 1 2 1 0]\n",
      "Test above two arrays are equal or not!\n",
      "False\n"
     ]
    }
   ],
   "source": [
    "import numpy as np\n",
    "x = np.random.randint(0,3,6)\n",
    "print(\"First array:\")\n",
    "print(x)\n",
    "y = np.random.randint(0,3,6)\n",
    "print(\"Second array:\")\n",
    "print(y)\n",
    "print(\"Test above two arrays are equal or not!\")\n",
    "array_equal = np.allclose(x, y)\n",
    "print(array_equal)\n"
   ]
  },
  {
   "cell_type": "markdown",
   "id": "0899d8d6",
   "metadata": {},
   "source": [
    "8.Create random vector of size 10 and replace the maximum value by 0"
   ]
  },
  {
   "cell_type": "code",
   "execution_count": 24,
   "id": "b4015b35",
   "metadata": {},
   "outputs": [
    {
     "name": "stdout",
     "output_type": "stream",
     "text": [
      "Original array:\n",
      "[0.17176642 0.37001807 0.529574   0.06079148 0.01316151 0.75827831\n",
      " 0.55625344 0.90952061 0.89227822 0.89960389]\n",
      "Maximum value replaced by 0:\n",
      "[0.17176642 0.37001807 0.529574   0.06079148 0.01316151 0.75827831\n",
      " 0.55625344 0.         0.89227822 0.89960389]\n"
     ]
    }
   ],
   "source": [
    "import numpy as np\n",
    "x = np.random.random(10)\n",
    "print(\"Original array:\")\n",
    "print(x)\n",
    "x[x.argmax()] = 0\n",
    "print(\"Maximum value replaced by 0:\")\n",
    "print(x)\n"
   ]
  },
  {
   "cell_type": "markdown",
   "id": "9fb776b0",
   "metadata": {},
   "source": [
    "9. How to print all the values of an array?"
   ]
  },
  {
   "cell_type": "code",
   "execution_count": 26,
   "id": "d829d934",
   "metadata": {},
   "outputs": [
    {
     "name": "stdout",
     "output_type": "stream",
     "text": [
      "[1 2 3 4 5]\n"
     ]
    }
   ],
   "source": [
    "import numpy as np\n",
    "\n",
    "my_array = np.array([1, 2, 3, 4, 5])\n",
    "\n",
    "# Using print to display the entire NumPy array\n",
    "print(my_array)\n"
   ]
  },
  {
   "cell_type": "markdown",
   "id": "c8960028",
   "metadata": {},
   "source": [
    "10.Subtract the mean of each row of a matri"
   ]
  },
  {
   "cell_type": "code",
   "execution_count": 27,
   "id": "bd8cd4c3",
   "metadata": {},
   "outputs": [
    {
     "name": "stdout",
     "output_type": "stream",
     "text": [
      "Original matrix:\n",
      "[[1 2 3]\n",
      " [4 5 6]\n",
      " [7 8 9]]\n",
      "Matrix with row means subtracted:\n",
      "[[-1.  0.  1.]\n",
      " [-1.  0.  1.]\n",
      " [-1.  0.  1.]]\n"
     ]
    }
   ],
   "source": [
    "import numpy as np\n",
    "\n",
    "\n",
    "matrix = np.array([[1, 2, 3],\n",
    "                  [4, 5, 6],\n",
    "                  [7, 8, 9]])\n",
    "\n",
    "# Calculate the mean of each row\n",
    "row_means = np.mean(matrix, axis=1, keepdims=True)\n",
    "\n",
    "# Subtract the row means from the matrix\n",
    "result_matrix = matrix - row_means\n",
    "\n",
    "print(\"Original matrix:\")\n",
    "print(matrix)\n",
    "print(\"Matrix with row means subtracted:\")\n",
    "print(result_matrix)\n"
   ]
  },
  {
   "cell_type": "markdown",
   "id": "fb821fd2",
   "metadata": {},
   "source": [
    "12.How to get the diagonal of a dot product?"
   ]
  },
  {
   "cell_type": "code",
   "execution_count": 28,
   "id": "0d962c31",
   "metadata": {},
   "outputs": [
    {
     "name": "stdout",
     "output_type": "stream",
     "text": [
      "Given vector:\n",
      "[10 20 30 40 50]\n",
      "Result vector with 1 added to unique indices:\n",
      "[11 21 31 40 50]\n"
     ]
    }
   ],
   "source": [
    "import numpy as np\n",
    "\n",
    "\n",
    "given_vector = np.array([10, 20, 30, 40, 50])\n",
    "\n",
    "# Second vector with indices\n",
    "indices_vector = np.array([1, 2, 0, 2, 1])\n",
    "\n",
    "# Create an array of unique indices\n",
    "unique_indices = np.unique(indices_vector)\n",
    "\n",
    "# Create a zero-filled result vector\n",
    "result_vector = np.zeros_like(given_vector)\n",
    "\n",
    "# Add 1 to the elements at unique indices\n",
    "result_vector[unique_indices] += 1\n",
    "\n",
    "# Add the updated result_vector to the given_vector\n",
    "result_vector += given_vector\n",
    "\n",
    "print(\"Given vector:\")\n",
    "print(given_vector)\n",
    "print(\"Result vector with 1 added to unique indices:\")\n",
    "print(result_vector)\n"
   ]
  },
  {
   "cell_type": "markdown",
   "id": "649fa73b",
   "metadata": {},
   "source": [
    "12.How to get the diagonal of a dot product?"
   ]
  },
  {
   "cell_type": "code",
   "execution_count": 29,
   "id": "a3f5b7c1",
   "metadata": {},
   "outputs": [
    {
     "name": "stdout",
     "output_type": "stream",
     "text": [
      "Matrix A:\n",
      "[[1 2]\n",
      " [3 4]]\n",
      "Matrix B:\n",
      "[[5 6]\n",
      " [7 8]]\n",
      "Dot product of A and B:\n",
      "[[19 22]\n",
      " [43 50]]\n",
      "Diagonal elements of the dot product:\n",
      "[19 50]\n"
     ]
    }
   ],
   "source": [
    "import numpy as np\n",
    "\n",
    "\n",
    "A = np.array([[1, 2],\n",
    "              [3, 4]])\n",
    "B = np.array([[5, 6],\n",
    "              [7, 8]])\n",
    "\n",
    "\n",
    "dot_product = np.dot(A, B)\n",
    "\n",
    "# Get the diagonal elements of the dot product\n",
    "diagonal = np.diag(dot_product)\n",
    "\n",
    "print(\"Matrix A:\")\n",
    "print(A)\n",
    "print(\"Matrix B:\")\n",
    "print(B)\n",
    "print(\"Dot product of A and B:\")\n",
    "print(dot_product)\n",
    "print(\"Diagonal elements of the dot product:\")\n",
    "print(diagonal)\n"
   ]
  },
  {
   "cell_type": "markdown",
   "id": "7aa4e79d",
   "metadata": {},
   "source": [
    "13.How to find the most frequent value in an array"
   ]
  },
  {
   "cell_type": "code",
   "execution_count": 31,
   "id": "680101ce",
   "metadata": {},
   "outputs": [
    {
     "data": {
      "text/plain": [
       "array([2, 0, 5, 2, 0, 1, 0, 4, 9, 3, 3, 3, 2, 0, 8, 7, 7, 9, 6, 8, 3, 4,\n",
       "       5, 3, 1, 8, 8, 1, 7, 1, 7, 8, 9, 9, 4, 5, 3, 8, 7, 6, 9, 5, 7, 4,\n",
       "       0, 3, 6, 4, 8, 3])"
      ]
     },
     "execution_count": 31,
     "metadata": {},
     "output_type": "execute_result"
    }
   ],
   "source": [
    "import numpy as np\n",
    "x= np.random.randint(0,10,50)\n",
    "x"
   ]
  },
  {
   "cell_type": "code",
   "execution_count": 33,
   "id": "50000645",
   "metadata": {},
   "outputs": [
    {
     "name": "stdout",
     "output_type": "stream",
     "text": [
      "Most frequent value: 3\n",
      "Frequency: 8\n"
     ]
    }
   ],
   "source": [
    "\n",
    "\n",
    "# Use numpy's unique function to get unique values and their counts\n",
    "unique_values, counts = np.unique(x, return_counts=True)\n",
    "\n",
    "# Find the index of the maximum count, which corresponds to the most frequent value\n",
    "most_frequent_index = np.argmax(counts)\n",
    "\n",
    "# Get the most frequent value\n",
    "most_frequent_value = unique_values[most_frequent_index]\n",
    "\n",
    "print(\"Most frequent value:\", most_frequent_value)\n",
    "print(\"Frequency:\", counts[most_frequent_index])\n"
   ]
  },
  {
   "cell_type": "markdown",
   "id": "c9900273",
   "metadata": {},
   "source": [
    "14.How to get the n largest values of an array"
   ]
  },
  {
   "cell_type": "code",
   "execution_count": 34,
   "id": "f6db66ee",
   "metadata": {},
   "outputs": [
    {
     "name": "stdout",
     "output_type": "stream",
     "text": [
      "Original array:\n",
      "[0 1 2 3 4 5 6 7 8 9]\n",
      "[9]\n"
     ]
    }
   ],
   "source": [
    "import numpy as np\n",
    "x = np.arange(10) #0 TO 9\n",
    "print(\"Original array:\")\n",
    "print(x)\n",
    "np.random.shuffle(x)\n",
    "n = 1\n",
    "print (x[np.argsort(x)[-n:]])\n"
   ]
  },
  {
   "cell_type": "markdown",
   "id": "30e60e8b",
   "metadata": {},
   "source": [
    "15.How to create a record array from a regular array?"
   ]
  },
  {
   "cell_type": "code",
   "execution_count": 35,
   "id": "c38f804b",
   "metadata": {},
   "outputs": [
    {
     "name": "stdout",
     "output_type": "stream",
     "text": [
      "Regular Array:\n",
      "[(1, 'Raja', 25) (2, 'Shikhar', 30) (3, 'Sanu', 22)]\n",
      "First element - ID: 1\n",
      "First element - Name: Raja\n",
      "First element - Age: 25\n"
     ]
    }
   ],
   "source": [
    "import numpy as np\n",
    "\n",
    "regular_array = np.array([(1, 'Raja', 25),\n",
    "                          (2, 'Shikhar', 30),\n",
    "                          (3, 'Sanu', 22)],\n",
    "                         dtype=[('id', int), ('name', 'U10'), ('age', int)])\n",
    "\n",
    "# Print the regular array\n",
    "print(\"Regular Array:\")\n",
    "print(regular_array)\n",
    "\n",
    "# Access elements using field names\n",
    "print(\"First element - ID:\", regular_array['id'][0])\n",
    "print(\"First element - Name:\", regular_array['name'][0])\n",
    "print(\"First element - Age:\", regular_array['age'][0])\n"
   ]
  },
  {
   "cell_type": "markdown",
   "id": "d0f7cca0",
   "metadata": {},
   "source": [
    "16. How to swap two rows of an array?"
   ]
  },
  {
   "cell_type": "code",
   "execution_count": 36,
   "id": "7fa71f7a",
   "metadata": {},
   "outputs": [
    {
     "name": "stdout",
     "output_type": "stream",
     "text": [
      "Original aarray:\n",
      " [[4 3 1]\n",
      " [5 7 0]\n",
      " [9 9 3]\n",
      " [8 2 4]] \n",
      "\n",
      "Result:\n",
      " [[9 9 3]\n",
      " [5 7 0]\n",
      " [4 3 1]\n",
      " [8 2 4]]\n"
     ]
    }
   ],
   "source": [
    "# Import numpy\n",
    "import numpy as np\n",
    "\n",
    "# Creating a numpy array\n",
    "arr = np.array([[4,3,1], [5,7,0], [9,9,3], [8,2,4]])\n",
    "\n",
    "# Display original array\n",
    "print(\"Original aarray:\\n\",arr,\"\\n\")\n",
    "\n",
    "# Swapping rows 0th and 2nd\n",
    "arr[[0,2]] = arr[[2,0]]\n",
    "\n",
    "# Display result\n",
    "print(\"Result:\\n\",arr)\n"
   ]
  },
  {
   "cell_type": "markdown",
   "id": "1bef0246",
   "metadata": {},
   "source": [
    "17. Write python code to reshape to the next dimension of numpy array"
   ]
  },
  {
   "cell_type": "code",
   "execution_count": 38,
   "id": "10371833",
   "metadata": {},
   "outputs": [
    {
     "name": "stdout",
     "output_type": "stream",
     "text": [
      "[11 22 33 44 55] (5,) 1\n"
     ]
    }
   ],
   "source": [
    "data=np.array([11,22,33,44,55]) \n",
    "print(data, data.shape, data.ndim)"
   ]
  },
  {
   "cell_type": "code",
   "execution_count": 39,
   "id": "c8dd841b",
   "metadata": {},
   "outputs": [
    {
     "name": "stdout",
     "output_type": "stream",
     "text": [
      "[[11 22]\n",
      " [33 44]\n",
      " [55 66]] 2\n"
     ]
    }
   ],
   "source": [
    "data2=np.array([[11,22], [33,44], [55,66]]) \n",
    "print(data2, data2.ndim)"
   ]
  },
  {
   "cell_type": "code",
   "execution_count": 40,
   "id": "e6c13307",
   "metadata": {},
   "outputs": [
    {
     "data": {
      "text/plain": [
       "array([[11],\n",
       "       [22],\n",
       "       [33],\n",
       "       [44],\n",
       "       [55]])"
      ]
     },
     "execution_count": 40,
     "metadata": {},
     "output_type": "execute_result"
    }
   ],
   "source": [
    "d2=data.reshape((data.shape[0],1))\n",
    "d2"
   ]
  },
  {
   "cell_type": "code",
   "execution_count": null,
   "id": "31909fce",
   "metadata": {},
   "outputs": [],
   "source": []
  }
 ],
 "metadata": {
  "kernelspec": {
   "display_name": "Python 3 (ipykernel)",
   "language": "python",
   "name": "python3"
  },
  "language_info": {
   "codemirror_mode": {
    "name": "ipython",
    "version": 3
   },
   "file_extension": ".py",
   "mimetype": "text/x-python",
   "name": "python",
   "nbconvert_exporter": "python",
   "pygments_lexer": "ipython3",
   "version": "3.11.4"
  }
 },
 "nbformat": 4,
 "nbformat_minor": 5
}
