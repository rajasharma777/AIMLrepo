{
 "cells": [
  {
   "cell_type": "code",
   "execution_count": 1,
   "id": "60f79624",
   "metadata": {},
   "outputs": [
    {
     "name": "stdout",
     "output_type": "stream",
     "text": [
      "Predicted output for input [0, 1]: [[0.95035159]]\n"
     ]
    }
   ],
   "source": [
    "import numpy as np\n",
    "\n",
    "class NeuralNetwork:\n",
    "    def __init__(self, input_size, hidden_size, output_size):\n",
    "        # Initialize weights and biases for input layer, hidden layer, and output layer\n",
    "        self.hidden_weights = np.random.randn(input_size, hidden_size)\n",
    "        self.hidden_biases = np.zeros((1, hidden_size))\n",
    "        self.output_weights = np.random.randn(hidden_size, output_size)\n",
    "        self.output_biases = np.zeros((1, output_size))\n",
    "\n",
    "    def sigmoid(self, x):\n",
    "        # Sigmoid activation function\n",
    "        return 1 / (1 + np.exp(-x))\n",
    "\n",
    "    def sigmoid_derivative(self, x):\n",
    "        # Derivative of sigmoid function\n",
    "        return x * (1 - x)\n",
    "\n",
    "    def feedforward(self, inputs):\n",
    "        # Compute the forward pass of the neural network\n",
    "        hidden_layer_input = np.dot(inputs, self.hidden_weights) + self.hidden_biases\n",
    "        hidden_layer_output = self.sigmoid(hidden_layer_input)\n",
    "        output_layer_input = np.dot(hidden_layer_output, self.output_weights) + self.output_biases\n",
    "        predicted_output = self.sigmoid(output_layer_input)\n",
    "        return predicted_output\n",
    "\n",
    "    def train(self, inputs, targets, epochs, learning_rate):\n",
    "        for epoch in range(epochs):\n",
    "            # Forward pass\n",
    "            hidden_layer_input = np.dot(inputs, self.hidden_weights) + self.hidden_biases\n",
    "            hidden_layer_output = self.sigmoid(hidden_layer_input)\n",
    "            output_layer_input = np.dot(hidden_layer_output, self.output_weights) + self.output_biases\n",
    "            predicted_output = self.sigmoid(output_layer_input)\n",
    "\n",
    "            # Compute loss\n",
    "            loss = targets - predicted_output\n",
    "\n",
    "            # Backpropagation\n",
    "            output_error = loss * self.sigmoid_derivative(predicted_output)\n",
    "            hidden_layer_error = output_error.dot(self.output_weights.T) * self.sigmoid_derivative(hidden_layer_output)\n",
    "\n",
    "            # Update weights and biases using gradients and learning rate\n",
    "            self.output_weights += hidden_layer_output.T.dot(output_error) * learning_rate\n",
    "            self.output_biases += np.sum(output_error, axis=0, keepdims=True) * learning_rate\n",
    "            self.hidden_weights += inputs.T.dot(hidden_layer_error) * learning_rate\n",
    "            self.hidden_biases += np.sum(hidden_layer_error, axis=0, keepdims=True) * learning_rate\n",
    "\n",
    "if __name__ == '__main__':\n",
    "    # Example usage\n",
    "    # Define the neural network architecture\n",
    "    input_size = 2\n",
    "    hidden_size = 4\n",
    "    output_size = 1\n",
    "\n",
    "    # Create a neural network\n",
    "    neural_network = NeuralNetwork(input_size, hidden_size, output_size)\n",
    "\n",
    "    # Training data (inputs)\n",
    "    inputs = np.array([[0, 0],\n",
    "                       [0, 1],\n",
    "                       [1, 0],\n",
    "                       [1, 1]])\n",
    "\n",
    "    # Target data (outputs)\n",
    "    targets = np.array([[0], [1], [1], [0]])\n",
    "\n",
    "    # Train the neural network\n",
    "    epochs = 10000\n",
    "    learning_rate = 0.1\n",
    "    neural_network.train(inputs, targets, epochs, learning_rate)\n",
    "\n",
    "    # Test the trained neural network\n",
    "    test_input = np.array([0, 1])\n",
    "    predicted_output = neural_network.feedforward(test_input)\n",
    "    print(\"Predicted output for input [0, 1]:\", predicted_output)\n"
   ]
  },
  {
   "cell_type": "code",
   "execution_count": null,
   "id": "ba49db3c",
   "metadata": {},
   "outputs": [],
   "source": []
  }
 ],
 "metadata": {
  "kernelspec": {
   "display_name": "Python 3 (ipykernel)",
   "language": "python",
   "name": "python3"
  },
  "language_info": {
   "codemirror_mode": {
    "name": "ipython",
    "version": 3
   },
   "file_extension": ".py",
   "mimetype": "text/x-python",
   "name": "python",
   "nbconvert_exporter": "python",
   "pygments_lexer": "ipython3",
   "version": "3.11.4"
  }
 },
 "nbformat": 4,
 "nbformat_minor": 5
}
