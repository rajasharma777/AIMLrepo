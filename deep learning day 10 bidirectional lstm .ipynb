{
 "cells": [
  {
   "cell_type": "code",
   "execution_count": 29,
   "id": "075536a0",
   "metadata": {},
   "outputs": [
    {
     "name": "stdout",
     "output_type": "stream",
     "text": [
      "Input Sequence-x:\n",
      " [0.4552125  0.91263408 0.49852148 0.1709662  0.22105185 0.75745518\n",
      " 0.10196059 0.89552489 0.29291812 0.77853923 0.15747767 0.79311411\n",
      " 0.12579638 0.98865109 0.5576534 ]\n",
      "\n",
      "Output-y:\n",
      " [0 0 0 0 0 0 0 1 1 1 1 1 1 1 1]\n"
     ]
    }
   ],
   "source": [
    "from random import random\n",
    "from numpy import array\n",
    "from numpy import cumsum\n",
    "def get_sequence(n_timesteps):\n",
    " \n",
    "    x=array([random() for _ in range(n_timesteps)])\n",
    "    limit=n_timesteps/4.0\n",
    "    y=array([0 if x<limit else 1 for x in cumsum(x)])\n",
    "    return x,y\n",
    "x,y=get_sequence(15)\n",
    "print('Input Sequence-x:\\n',x)\n",
    "print()\n",
    "print('Output-y:\\n',y)\n"
   ]
  },
  {
   "cell_type": "code",
   "execution_count": 30,
   "id": "42628ebf",
   "metadata": {},
   "outputs": [],
   "source": [
    "#Generate Multiple Sequences\n",
    "def get_sequences(n_sequences,n_timesteps):\n",
    "    seq_x,seq_y=list(),list()\n",
    " \n",
    "    for _ in range(n_sequences):\n",
    "        \n",
    "        x,y=get_sequence(n_timesteps)\n",
    "        seq_x.append(x)\n",
    "        seq_y.append(y)\n",
    " \n",
    "    seq_x=array(seq_x).reshape(n_sequences,n_timesteps,1)\n",
    "    seq_y=array(seq_y).reshape(n_sequences,n_timesteps,1)\n",
    "    return seq_x,seq_y \n"
   ]
  },
  {
   "cell_type": "code",
   "execution_count": 31,
   "id": "ed40ce24",
   "metadata": {},
   "outputs": [
    {
     "data": {
      "text/plain": [
       "(array([[[0.22985048],\n",
       "         [0.79974722],\n",
       "         [0.07581553],\n",
       "         [0.5035688 ],\n",
       "         [0.23645881],\n",
       "         [0.04968387],\n",
       "         [0.18460319],\n",
       "         [0.20898302],\n",
       "         [0.63409143],\n",
       "         [0.63808609],\n",
       "         [0.39964123],\n",
       "         [0.08746439],\n",
       "         [0.96568291],\n",
       "         [0.82932751],\n",
       "         [0.37294615]],\n",
       " \n",
       "        [[0.65078276],\n",
       "         [0.20638263],\n",
       "         [0.6100204 ],\n",
       "         [0.72378644],\n",
       "         [0.72795446],\n",
       "         [0.2029781 ],\n",
       "         [0.46181597],\n",
       "         [0.31365666],\n",
       "         [0.65608576],\n",
       "         [0.98205614],\n",
       "         [0.95214864],\n",
       "         [0.46256541],\n",
       "         [0.31274677],\n",
       "         [0.38975876],\n",
       "         [0.38119594]]]),\n",
       " array([[[0],\n",
       "         [0],\n",
       "         [0],\n",
       "         [0],\n",
       "         [0],\n",
       "         [0],\n",
       "         [0],\n",
       "         [0],\n",
       "         [0],\n",
       "         [0],\n",
       "         [1],\n",
       "         [1],\n",
       "         [1],\n",
       "         [1],\n",
       "         [1]],\n",
       " \n",
       "        [[0],\n",
       "         [0],\n",
       "         [0],\n",
       "         [0],\n",
       "         [0],\n",
       "         [0],\n",
       "         [0],\n",
       "         [1],\n",
       "         [1],\n",
       "         [1],\n",
       "         [1],\n",
       "         [1],\n",
       "         [1],\n",
       "         [1],\n",
       "         [1]]]))"
      ]
     },
     "execution_count": 31,
     "metadata": {},
     "output_type": "execute_result"
    }
   ],
   "source": [
    "get_sequences(2,15)"
   ]
  },
  {
   "cell_type": "code",
   "execution_count": 32,
   "id": "cf20cf7f",
   "metadata": {},
   "outputs": [],
   "source": [
    "\n",
    "n_timesteps=15"
   ]
  },
  {
   "cell_type": "markdown",
   "id": "32c41619",
   "metadata": {},
   "source": [
    "Build a Bidirectional model\n"
   ]
  },
  {
   "cell_type": "code",
   "execution_count": 33,
   "id": "6aca92d9",
   "metadata": {},
   "outputs": [
    {
     "name": "stdout",
     "output_type": "stream",
     "text": [
      "Model: \"sequential_2\"\n",
      "_________________________________________________________________\n",
      " Layer (type)                Output Shape              Param #   \n",
      "=================================================================\n",
      " bidirectional_2 (Bidirecti  (None, 15, 100)           20800     \n",
      " onal)                                                           \n",
      "                                                                 \n",
      " time_distributed_2 (TimeDi  (None, 15, 1)             101       \n",
      " stributed)                                                      \n",
      "                                                                 \n",
      "=================================================================\n",
      "Total params: 20901 (81.64 KB)\n",
      "Trainable params: 20901 (81.64 KB)\n",
      "Non-trainable params: 0 (0.00 Byte)\n",
      "_________________________________________________________________\n",
      "None\n"
     ]
    }
   ],
   "source": [
    "from keras.models import Sequential\n",
    "from keras.layers import Bidirectional\n",
    "from keras.layers import TimeDistributed\n",
    "from keras.layers import Dense,LSTM\n",
    "model=Sequential()\n",
    "#bidirectional layer\n",
    "model.add(Bidirectional(LSTM(50,return_sequences=True),input_shape=(n_timesteps,1)))\n",
    "#Output layer - time distributed layer\n",
    "model.add(TimeDistributed(Dense(1,activation='sigmoid')))\n",
    "#compile the model\n",
    "model.compile(optimizer='adam',loss='binary_crossentropy',metrics=['accuracy'])\n",
    "print(model.summary())\n"
   ]
  },
  {
   "cell_type": "code",
   "execution_count": 34,
   "id": "d96add5a",
   "metadata": {},
   "outputs": [
    {
     "name": "stdout",
     "output_type": "stream",
     "text": [
      "Epoch 1/10\n",
      "4000/4000 [==============================] - 25s 5ms/step - loss: 0.0507 - accuracy: 0.9818\n",
      "Epoch 2/10\n",
      "4000/4000 [==============================] - 21s 5ms/step - loss: 0.0193 - accuracy: 0.9931\n",
      "Epoch 3/10\n",
      "4000/4000 [==============================] - 23s 6ms/step - loss: 0.0150 - accuracy: 0.9943\n",
      "Epoch 4/10\n",
      "4000/4000 [==============================] - 28s 7ms/step - loss: 0.0131 - accuracy: 0.9949\n",
      "Epoch 5/10\n",
      "4000/4000 [==============================] - 31s 8ms/step - loss: 0.0123 - accuracy: 0.9951\n",
      "Epoch 6/10\n",
      "4000/4000 [==============================] - 29s 7ms/step - loss: 0.0111 - accuracy: 0.9957\n",
      "Epoch 7/10\n",
      "4000/4000 [==============================] - 26s 7ms/step - loss: 0.0107 - accuracy: 0.9957\n",
      "Epoch 8/10\n",
      "4000/4000 [==============================] - 28s 7ms/step - loss: 0.0097 - accuracy: 0.9961\n",
      "Epoch 9/10\n",
      "4000/4000 [==============================] - 26s 7ms/step - loss: 0.0095 - accuracy: 0.9962\n",
      "Epoch 10/10\n",
      "4000/4000 [==============================] - 26s 6ms/step - loss: 0.0091 - accuracy: 0.9964\n"
     ]
    },
    {
     "data": {
      "text/plain": [
       "<keras.src.callbacks.History at 0x2297a465150>"
      ]
     },
     "execution_count": 34,
     "metadata": {},
     "output_type": "execute_result"
    }
   ],
   "source": [
    "#train the model\n",
    "x,y=get_sequences(40000,n_timesteps)\n",
    "model.fit(x,y,epochs=10,batch_size=10)\n"
   ]
  },
  {
   "cell_type": "code",
   "execution_count": 35,
   "id": "4f329dbb",
   "metadata": {},
   "outputs": [
    {
     "name": "stdout",
     "output_type": "stream",
     "text": [
      "4/4 [==============================] - 1s 5ms/step - loss: 0.0066 - accuracy: 0.9987\n",
      "\n",
      "Loss: 0.006610, Accuracy: 99.866664\n"
     ]
    }
   ],
   "source": [
    "#Evaluate the model\n",
    "x,y=get_sequences(100,n_timesteps)\n",
    "loss,acc=model.evaluate(x,y,verbose=1)\n",
    "print()\n",
    "print('Loss: %f, Accuracy: %f'%(loss,acc*100))\n"
   ]
  },
  {
   "cell_type": "code",
   "execution_count": 36,
   "id": "12e3b885",
   "metadata": {},
   "outputs": [
    {
     "name": "stdout",
     "output_type": "stream",
     "text": [
      "y=[0 0 0 0 0 0 0 1 1 1 1 1 1 1 1], yhat=[7.1137130e-08 1.0862354e-11 4.0433317e-13 4.0518549e-13 7.7467234e-11\n",
      " 3.3324105e-10 1.7157155e-01 1.0000000e+00 1.0000000e+00 1.0000000e+00\n",
      " 1.0000000e+00 1.0000000e+00 1.0000000e+00 1.0000000e+00 1.0000000e+00],correct=False\n",
      "y=[0 0 0 0 0 0 1 1 1 1 1 1 1 1 1], yhat=[8.0940931e-12 1.4078472e-08 2.4612391e-12 4.1751834e-13 1.7234577e-11\n",
      " 3.9963504e-07 9.9999809e-01 1.0000000e+00 1.0000000e+00 1.0000000e+00\n",
      " 1.0000000e+00 1.0000000e+00 1.0000000e+00 1.0000000e+00 1.0000000e+00],correct=False\n",
      "y=[0 0 0 0 0 0 1 1 1 1 1 1 1 1 1], yhat=[9.7830783e-09 4.7878899e-11 4.6860484e-12 3.8858855e-12 1.0431052e-07\n",
      " 5.3631067e-07 9.4823986e-01 1.0000000e+00 1.0000000e+00 1.0000000e+00\n",
      " 1.0000000e+00 1.0000000e+00 1.0000000e+00 1.0000000e+00 1.0000000e+00],correct=False\n",
      "y=[0 0 0 0 0 0 0 1 1 1 1 1 1 1 1], yhat=[2.79620923e-12 1.48061712e-13 1.59153489e-11 5.11264425e-13\n",
      " 1.04028683e-13 3.38187824e-08 7.57356035e-03 7.94099867e-01\n",
      " 9.98938084e-01 9.99999821e-01 1.00000000e+00 1.00000000e+00\n",
      " 1.00000000e+00 1.00000000e+00 1.00000000e+00],correct=False\n",
      "y=[0 0 0 0 0 1 1 1 1 1 1 1 1 1 1], yhat=[9.1854351e-11 4.8619967e-12 1.9096655e-09 9.8919259e-07 5.3368993e-03\n",
      " 1.0000000e+00 1.0000000e+00 1.0000000e+00 1.0000000e+00 1.0000000e+00\n",
      " 1.0000000e+00 1.0000000e+00 1.0000000e+00 1.0000000e+00 1.0000000e+00],correct=False\n",
      "y=[0 0 0 0 0 0 0 1 1 1 1 1 1 1 1], yhat=[5.29289998e-08 1.02196645e-11 1.86212612e-12 1.83489378e-12\n",
      " 2.76204108e-08 5.59522984e-11 3.89496074e-12 9.94712412e-01\n",
      " 1.00000000e+00 1.00000000e+00 1.00000000e+00 1.00000000e+00\n",
      " 1.00000000e+00 1.00000000e+00 1.00000000e+00],correct=False\n",
      "y=[0 0 0 0 0 0 0 0 1 1 1 1 1 1 1], yhat=[4.7849936e-12 1.5379205e-08 2.8205530e-13 1.3561481e-13 3.1213574e-14\n",
      " 2.5658039e-12 1.5195727e-10 1.5386591e-05 9.9999988e-01 1.0000000e+00\n",
      " 1.0000000e+00 1.0000000e+00 1.0000000e+00 1.0000000e+00 1.0000000e+00],correct=False\n",
      "y=[0 0 0 0 0 0 1 1 1 1 1 1 1 1 1], yhat=[1.3959843e-10 2.0004770e-12 1.0029967e-12 3.2335242e-11 3.1670740e-07\n",
      " 9.3712220e-09 9.5660967e-01 1.0000000e+00 1.0000000e+00 1.0000000e+00\n",
      " 1.0000000e+00 1.0000000e+00 1.0000000e+00 1.0000000e+00 1.0000000e+00],correct=False\n",
      "y=[0 0 0 0 0 0 0 0 1 1 1 1 1 1 1], yhat=[1.3214977e-13 7.2999664e-14 3.1417165e-12 1.9022821e-09 1.5918915e-13\n",
      " 3.4553148e-12 2.2218608e-06 2.8070787e-02 1.0000000e+00 1.0000000e+00\n",
      " 1.0000000e+00 1.0000000e+00 1.0000000e+00 1.0000000e+00 1.0000000e+00],correct=False\n",
      "y=[0 0 0 0 0 0 0 0 0 1 1 1 1 1 1], yhat=[2.1607873e-13 3.4804874e-13 1.7789752e-13 5.3915572e-10 1.7607379e-11\n",
      " 3.7541981e-10 7.4507821e-13 1.7106030e-08 2.5788013e-02 1.0000000e+00\n",
      " 1.0000000e+00 1.0000000e+00 1.0000000e+00 1.0000000e+00 1.0000000e+00],correct=False\n"
     ]
    }
   ],
   "source": [
    "# Make prediction\n",
    "import numpy as np\n",
    "for _ in range(10):\n",
    "    x,y=get_sequences(1,n_timesteps)\n",
    "    yhat=model.predict(x,verbose=0)\n",
    "    exp,pred=y.reshape(n_timesteps),yhat.reshape(n_timesteps)\n",
    " \n",
    "    print('y=%s, yhat=%s,correct=%s' % (exp,pred,np.array_equal(exp,pred)))\n"
   ]
  },
  {
   "cell_type": "code",
   "execution_count": 37,
   "id": "892d1b28",
   "metadata": {},
   "outputs": [
    {
     "name": "stdout",
     "output_type": "stream",
     "text": [
      "Epoch 1/10\n",
      "4000/4000 [==============================] - 25s 6ms/step - loss: 0.0091 - accuracy: 0.9963\n",
      "Epoch 2/10\n",
      "4000/4000 [==============================] - 29s 7ms/step - loss: 0.0087 - accuracy: 0.9964\n",
      "Epoch 3/10\n",
      "4000/4000 [==============================] - 29s 7ms/step - loss: 0.0086 - accuracy: 0.9964\n",
      "Epoch 4/10\n",
      "4000/4000 [==============================] - 27s 7ms/step - loss: 0.0083 - accuracy: 0.9966\n",
      "Epoch 5/10\n",
      "4000/4000 [==============================] - 26s 7ms/step - loss: 0.0082 - accuracy: 0.9967\n",
      "Epoch 6/10\n",
      "4000/4000 [==============================] - 26s 6ms/step - loss: 0.0075 - accuracy: 0.9969\n",
      "Epoch 7/10\n",
      "4000/4000 [==============================] - 25s 6ms/step - loss: 0.0075 - accuracy: 0.9970\n",
      "Epoch 8/10\n",
      "4000/4000 [==============================] - 25s 6ms/step - loss: 0.0073 - accuracy: 0.9970\n",
      "Epoch 9/10\n",
      "4000/4000 [==============================] - 25s 6ms/step - loss: 0.0074 - accuracy: 0.9970\n",
      "Epoch 10/10\n",
      "4000/4000 [==============================] - 26s 7ms/step - loss: 0.0072 - accuracy: 0.9970\n"
     ]
    },
    {
     "data": {
      "text/plain": [
       "<keras.src.callbacks.History at 0x2297174ec50>"
      ]
     },
     "execution_count": 37,
     "metadata": {},
     "output_type": "execute_result"
    }
   ],
   "source": [
    "#train the model\n",
    "x,y=get_sequences(40000,n_timesteps)\n",
    "model.fit(x,y,epochs=10,batch_size=10)"
   ]
  },
  {
   "cell_type": "code",
   "execution_count": 38,
   "id": "c97d773e",
   "metadata": {},
   "outputs": [
    {
     "name": "stdout",
     "output_type": "stream",
     "text": [
      "y=[0 0 0 0 0 0 0 0 1 1 1 1 1 1 1], ypred=[3.8960735e-13 6.3818111e-09 4.6424626e-13 3.7229172e-13 6.9832673e-09\n",
      " 4.3525774e-06 9.6855396e-03 3.8579595e-03 9.9999976e-01 1.0000000e+00\n",
      " 1.0000000e+00 1.0000000e+00 1.0000000e+00 1.0000000e+00 1.0000000e+00],correct=False\n",
      "y=[0 0 0 0 0 0 0 1 1 1 1 1 1 1 1], ypred=[1.9045827e-10 1.7039963e-11 3.8465205e-13 1.5463077e-10 2.1476258e-10\n",
      " 2.3255720e-14 7.6210815e-11 7.8184831e-01 1.0000000e+00 1.0000000e+00\n",
      " 1.0000000e+00 1.0000000e+00 1.0000000e+00 1.0000000e+00 1.0000000e+00],correct=False\n",
      "y=[0 0 0 0 0 1 1 1 1 1 1 1 1 1 1], ypred=[2.3310369e-08 1.4446129e-12 2.0794472e-10 3.3395322e-09 3.8911580e-04\n",
      " 3.0836806e-01 1.0000000e+00 1.0000000e+00 1.0000000e+00 1.0000000e+00\n",
      " 1.0000000e+00 1.0000000e+00 1.0000000e+00 1.0000000e+00 1.0000000e+00],correct=False\n",
      "y=[0 0 0 0 0 0 0 1 1 1 1 1 1 1 1], ypred=[4.8401363e-14 2.3379540e-10 1.2191246e-12 9.6756514e-09 1.3166703e-12\n",
      " 6.7951810e-06 4.4919401e-02 1.0000000e+00 1.0000000e+00 1.0000000e+00\n",
      " 1.0000000e+00 1.0000000e+00 1.0000000e+00 1.0000000e+00 1.0000000e+00],correct=False\n",
      "y=[0 0 0 0 0 0 0 1 1 1 1 1 1 1 1], ypred=[1.3741506e-13 5.9636844e-11 1.6749406e-11 1.9898930e-13 1.6392479e-12\n",
      " 4.8709654e-11 9.3152665e-02 7.0822531e-01 1.0000000e+00 1.0000000e+00\n",
      " 1.0000000e+00 1.0000000e+00 1.0000000e+00 1.0000000e+00 1.0000000e+00],correct=False\n",
      "y=[0 0 0 0 0 0 1 1 1 1 1 1 1 1 1], ypred=[5.6042154e-10 3.3972245e-09 1.0452613e-09 6.6022517e-12 2.4124306e-14\n",
      " 7.0441719e-10 1.0000000e+00 1.0000000e+00 1.0000000e+00 1.0000000e+00\n",
      " 1.0000000e+00 1.0000000e+00 1.0000000e+00 1.0000000e+00 1.0000000e+00],correct=False\n",
      "y=[0 0 0 0 0 1 1 1 1 1 1 1 1 1 1], ypred=[4.0054285e-13 1.1204138e-13 3.2200476e-10 1.2176733e-10 5.6547396e-08\n",
      " 9.9817967e-01 1.0000000e+00 1.0000000e+00 1.0000000e+00 1.0000000e+00\n",
      " 1.0000000e+00 1.0000000e+00 1.0000000e+00 1.0000000e+00 1.0000000e+00],correct=False\n",
      "y=[0 0 0 0 0 0 1 1 1 1 1 1 1 1 1], ypred=[2.7536981e-12 1.8196626e-09 1.9802252e-11 2.0520998e-13 3.5691845e-11\n",
      " 4.2227825e-08 9.9999815e-01 1.0000000e+00 1.0000000e+00 1.0000000e+00\n",
      " 1.0000000e+00 1.0000000e+00 1.0000000e+00 1.0000000e+00 1.0000000e+00],correct=False\n",
      "y=[0 0 0 0 0 0 0 0 0 1 1 1 1 1 1], ypred=[1.0722001e-13 6.2066437e-12 4.6690611e-12 4.9037202e-12 6.2486534e-13\n",
      " 2.7066530e-14 1.2372641e-14 8.9157008e-13 2.9430107e-06 1.0000000e+00\n",
      " 1.0000000e+00 1.0000000e+00 1.0000000e+00 1.0000000e+00 1.0000000e+00],correct=False\n",
      "y=[0 0 0 0 0 0 0 0 1 1 1 1 1 1 1], ypred=[4.0388322e-12 2.6484091e-11 2.0797277e-11 1.9123451e-12 8.2946962e-14\n",
      " 5.9814527e-12 1.6069808e-03 1.5407868e-04 1.0000000e+00 1.0000000e+00\n",
      " 1.0000000e+00 1.0000000e+00 1.0000000e+00 1.0000000e+00 1.0000000e+00],correct=False\n"
     ]
    }
   ],
   "source": [
    "# Make prediction\n",
    "import numpy as np\n",
    "for _ in range(10):\n",
    "    x,y=get_sequences(1,n_timesteps)\n",
    "    ypred=model.predict(x,verbose=0)\n",
    "    actual,pred=y.reshape(n_timesteps),ypred.reshape(n_timesteps)\n",
    " \n",
    "    print('y=%s, ypred=%s,correct=%s' % (actual,pred,np.array_equal(actual,ypred)))\n"
   ]
  },
  {
   "cell_type": "code",
   "execution_count": null,
   "id": "fb604ce2",
   "metadata": {},
   "outputs": [],
   "source": []
  },
  {
   "cell_type": "code",
   "execution_count": null,
   "id": "8f48ea0d",
   "metadata": {},
   "outputs": [],
   "source": []
  }
 ],
 "metadata": {
  "kernelspec": {
   "display_name": "Python 3 (ipykernel)",
   "language": "python",
   "name": "python3"
  },
  "language_info": {
   "codemirror_mode": {
    "name": "ipython",
    "version": 3
   },
   "file_extension": ".py",
   "mimetype": "text/x-python",
   "name": "python",
   "nbconvert_exporter": "python",
   "pygments_lexer": "ipython3",
   "version": "3.11.4"
  }
 },
 "nbformat": 4,
 "nbformat_minor": 5
}
