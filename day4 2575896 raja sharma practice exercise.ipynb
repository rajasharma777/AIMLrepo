{
 "cells": [
  {
   "cell_type": "markdown",
   "id": "3b0308b1",
   "metadata": {},
   "source": [
    "# Exceptions and Command-Line Arguments\n",
    "\n",
    "1.# Write a python program with Exception handling to input marks for five subjects Physics,\n",
    "#Chemistry, Biology, Mathematics, and Computer.\n",
    "Calculate the percentage and grade according to the following:\n",
    "\n",
    "1.Percentage>90%: Grade A\n",
    "\n",
    "2.Percentage >= 80%: Grade B\n",
    "\n",
    "3.Percentage >= 70%: Grade C\n",
    "\n",
    "iv) Percentage >= 60%: Grade D\n",
    "\n",
    "v) Percentage >= 40% : Grade E\n",
    "\n",
    "vi) Percentage < 40% : Grade F"
   ]
  },
  {
   "cell_type": "code",
   "execution_count": 5,
   "id": "33d9d1b5",
   "metadata": {},
   "outputs": [
    {
     "name": "stdout",
     "output_type": "stream",
     "text": [
      "Enter Physics marks: 54.43\n",
      "Enter Chemistry marks: 67.0000432\n",
      "Enter Biology marks: 45.32\n",
      "Enter Mathematics marks: 4.33\n",
      "Enter Computer marks: 93.42\n",
      "Percentage: 52.90%\n",
      "Grade: E\n"
     ]
    }
   ],
   "source": [
    "try:\n",
    "    physics = float(input(\"Enter Physics marks: \"))\n",
    "    chemistry = float(input(\"Enter Chemistry marks: \"))\n",
    "    biology = float(input(\"Enter Biology marks: \"))\n",
    "    mathematics = float(input(\"Enter Mathematics marks: \"))\n",
    "    computer = float(input(\"Enter Computer marks: \"))\n",
    "\n",
    "   \n",
    "    if any(x < 0 or x > 100 for x in [physics, chemistry, biology, mathematics, computer]):\n",
    "        raise ValueError(\"Invalid marks! Marks must lie in 0-100.\")\n",
    "\n",
    "    total_marks = physics + chemistry + biology + mathematics + computer\n",
    "    percentage = (total_marks / 500) * 100\n",
    "\n",
    "    if percentage > 90:\n",
    "        grade = 'A'\n",
    "    elif percentage >= 80:\n",
    "        grade = 'B'\n",
    "    elif percentage >= 70:\n",
    "        grade = 'C'\n",
    "    elif percentage >= 60:\n",
    "        grade = 'D'\n",
    "    elif percentage >= 40:\n",
    "        grade = 'E'\n",
    "    else:\n",
    "        grade = 'F'\n",
    "\n",
    "    print(f\"Percentage: {percentage:.2f}%\")\n",
    "    print(f\"Grade: {grade}\")\n",
    "\n",
    "except ValueError as ve:\n",
    "    print(f\"Error: {ve}\")\n",
    "except Exception as e:\n",
    "    print(f\"An error occurred: {e}\")\n"
   ]
  },
  {
   "cell_type": "markdown",
   "id": "7a1634e2",
   "metadata": {},
   "source": [
    "# 2. Write a python program with Exception handling to input electricity unit charges and calculate the total electricity bill according to the given condition:\n",
    "\n",
    "For the first 50 units Rs. 0.50/unit For the next 100 units Rs. 0.75/unit 11)\n",
    "\n",
    "For the next 100 units Rs. 1.20/unit\n",
    "\n",
    "iv)For units above 250 Rs. 1.50/unit\n",
    "\n",
    "v)An additional surcharge of 20% is added to the bill.\n",
    "\n",
    "\n"
   ]
  },
  {
   "cell_type": "code",
   "execution_count": 7,
   "id": "4620890f",
   "metadata": {},
   "outputs": [
    {
     "name": "stdout",
     "output_type": "stream",
     "text": [
      "enter the units574\n",
      "total electricity bill with surcharge : rs 3817.20\n"
     ]
    }
   ],
   "source": [
    "try:\n",
    "    units= float(input(\"enter the units\"))\n",
    "    if units < 0:\n",
    "        raise ValueError(\"invalid units\")\n",
    "        \n",
    "    if units<=50:\n",
    "        total_bill=units*0.50\n",
    "    elif units<=150:\n",
    "        total_bill=50*0.50 + (units-50)*0.75\n",
    "    elif units<=250:\n",
    "        total_bill=50*0.50 + 100*0.75 + (units-150)*1.20\n",
    "    else :\n",
    "        total_bill=50*50 + 100*0.75 + 100 *1.20 +(units-250)*1.50\n",
    "     \n",
    "    total_bill_surcharge=total_bill + (total_bill * 0.20)\n",
    "    \n",
    "    print(f\"total electricity bill with surcharge : rs {total_bill_surcharge:.2f}\")\n",
    "except ValueError as ve:\n",
    "    print(f\"Error: {ve}\")\n",
    "except Exception as e:\n",
    "    print(f\" somethig went wrong : {e}\")"
   ]
  },
  {
   "cell_type": "markdown",
   "id": "911ec31b",
   "metadata": {},
   "source": [
    "# 3. Write a python program with Exception handling to input the week number and print the weekday."
   ]
  },
  {
   "cell_type": "code",
   "execution_count": 11,
   "id": "2b01e6aa",
   "metadata": {},
   "outputs": [
    {
     "name": "stdout",
     "output_type": "stream",
     "text": [
      "Enter the week number (1-7): 6\n",
      "Weekday for week 6 is Saturday\n"
     ]
    }
   ],
   "source": [
    "try:\n",
    "    # Input the weeknumber\n",
    "    week_number = int(input(\"Enter the week number (1-7): \"))\n",
    "\n",
    "   \n",
    "    if week_number < 1 or week_number > 7:\n",
    "        raise ValueError(\"Invalid weeknumber!\")\n",
    "\n",
    "    \n",
    "    weekdays = [\"Monday\",\"Tuesday\",\"Wednesday\",\"Thursday\",\"Friday\",\"Saturday\",\"Sunday\"]\n",
    "\n",
    "    # Print the corresponding weekday\n",
    "    print(f\"Weekday for week {week_number} is {weekdays[week_number - 1]}\")\n",
    "\n",
    "except ValueError as ve:\n",
    "    print(f\"Error: {ve}\")\n",
    "except Exception as e:\n",
    "    print(f\"something went wrong: {e}\")\n"
   ]
  },
  {
   "cell_type": "markdown",
   "id": "0d88b04e",
   "metadata": {},
   "source": [
    "#5Write a Python program for finding the most frequent words in a text read from a file.\n",
    "\n",
    "i) Initially open the text file in read mode.\n",
    "\n",
    "ii) Make all the letters in the document into lowercase letters and split the words in each line\n",
    "\n",
    "(iii)Count the number of words using command line arguments.\n",
    "\n",
    "\n",
    "iii) Get the words in an order.\n",
    "\n",
    "iv) Sort the words for finding the most frequent words in the file.\n",
    "\n",
    "V)print the most frequent words in the file"
   ]
  },
  {
   "cell_type": "code",
   "execution_count": 4,
   "id": "311ae4af",
   "metadata": {},
   "outputs": [
    {
     "name": "stdout",
     "output_type": "stream",
     "text": [
      "Most frequent words in 'lorem.txt':\n",
      "ut: 3 times\n",
      "in: 3 times\n",
      "dolor: 2 times\n",
      "dolore: 2 times\n",
      "lorem: 1 times\n",
      "ipsum: 1 times\n",
      "sit: 1 times\n",
      "amet,: 1 times\n",
      "consectetur: 1 times\n",
      "adipiscing: 1 times\n"
     ]
    }
   ],
   "source": [
    "import sys\n",
    "from collections import Counter\n",
    "\n",
    "# Check if the correct number of command-line arguments are provided\n",
    "\n",
    "filename = \"lorem.txt\"\n",
    "\n",
    "try:\n",
    "    # Open the text file in read mode\n",
    "    with open(filename, 'r') as file:\n",
    "        # Read the content of the file and make it lowercase\n",
    "        content = file.read().lower()\n",
    "\n",
    "        # Split the text into words\n",
    "        words = content.split()\n",
    "\n",
    "        # Count the frequency of each word\n",
    "        word_counts = Counter(words)\n",
    "\n",
    "        # Sort the words by their frequency in descending order\n",
    "        sorted_words = sorted(word_counts.items(), key=lambda x: x[1], reverse=True)\n",
    "\n",
    "        # Print the most frequent words\n",
    "        num_words_to_print = min(10, len(sorted_words))  # Print the top 10 words or all if there are fewer\n",
    "        print(f\"Most frequent words in '{filename}':\")\n",
    "        for word, count in sorted_words[:num_words_to_print]:\n",
    "            print(f\"{word}: {count} times\")\n",
    "\n",
    "except FileNotFoundError:\n",
    "    print(f\"Error: File '{filename}' not found.\")\n",
    "except Exception as e:\n",
    "    print(f\"An error occurred: {e}\")"
   ]
  },
  {
   "cell_type": "markdown",
   "id": "0b3e4c53",
   "metadata": {},
   "source": [
    "#4Write a Python program to implement word count using command line arguments.\n",
    "\n",
    "1) Create a text document \"apple.txt\" whch contains text for wordcount.\n",
    "\n",
    "ii) Create a wordcount program which calls the \"apple.txt\" document by opening the file.\n",
    "\n",
    "(iii)If the word is present again in the \"aaple.txt\",the wordcount is incremented by 1 until all\n",
    "\n",
    "the words are counted in the document.(iv) Close the file.\n",
    "\n",
    "(v)Create a command.py program which imports the wordcount.py program.(vi)count the number of words using line arguments (vii)print each word count"
   ]
  },
  {
   "cell_type": "code",
   "execution_count": null,
   "id": "8c181268",
   "metadata": {},
   "outputs": [],
   "source": [
    "#word count\n",
    "import sys\n",
    "\n",
    "if len(sys.argv) != 2:\n",
    "    sys.exit('Error: Please provide exactly one filename as an argument')\n",
    "\n",
    "filename = sys.argv[1]\n",
    "\n",
    "try:\n",
    "    with open(filename, 'r') as file:\n",
    "        content = file.read()\n",
    "        words = content.split()\n",
    "        word_count = len(words)\n",
    "        print(f\"Word count in '{filename}': {word_count}\")\n",
    "except FileNotFoundError:\n",
    "    print(f\"Error: File '{filename}' not found\")\n",
    "except Exception as e:\n",
    "    print(f\"An error occurred: {str(e)}\")\n"
   ]
  },
  {
   "cell_type": "code",
   "execution_count": 1,
   "id": "aa2ba30e",
   "metadata": {},
   "outputs": [],
   "source": [
    "# command.py\n",
    "\n",
    "import wordcount\n",
    "import sys\n",
    "\n",
    "if len(sys.argv) != 2:\n",
    "    print(\"Usage: python command.py <filename>\")\n",
    "else:\n",
    "    filename = sys.argv[1]\n",
    "    word_counts = wordcount.count_words(filename)\n",
    "    for word, count in word_counts.items():\n",
    "        print(f\"{word}: {count}\")"
   ]
  },
  {
   "cell_type": "code",
   "execution_count": null,
   "id": "88968f1f",
   "metadata": {},
   "outputs": [],
   "source": [
    "#6File Processing with Command-Line Arguments- Scenario: You are developing a command-line utility that processes text files. Users can specify input and output file paths as command-line arguments. Your program should handle exceptions gracefully.\n",
    "\n",
    "Design a Python program that takes two command-line arguments: the input file path and the output file path. Ensure that the program checks if both arguments are provided and that the input file exists.\n",
    "\n",
    "Implement error handling to deal with scenarios such as missing input files, invalid file paths, or permission issues when writing to the output file.\n",
    "\n",
    "iii. If an error occurs during file processing, display a user-friendly error message,\n",
    "\n",
    "and exit the program with a non-zero exit code.\n",
    "\n",
    "Write test cases that cover various scenarios, including providing valid and\n",
    "\n",
    "invalid file paths as command-line arguments."
   ]
  },
  {
   "cell_type": "code",
   "execution_count": null,
   "id": "ad6e7dcf",
   "metadata": {},
   "outputs": [],
   "source": [
    "import sys\n",
    "import os\n",
    "def process_files(input_file, output_file):\n",
    "    try:\n",
    "        if not input_file_path or not output_file_path:\n",
    "            raise ValueError(\"Both input and output file paths must be provided.\")\n",
    "        if not os.path.isfile(input_file):\n",
    "            raise FileNotFoundError(f\"Input file '{input_file}' not found.\")\n",
    "        with open(input_file, 'r') as input_file:\n",
    "            data = input_file.read()\n",
    "        processed_data = data.upper()\n",
    "        with open(output_file, 'w') as output_file:\n",
    "            output_file.write(processed_data)\n",
    "    except FileNotFoundError as e:\n",
    "        print(f\"Error: {e}\")\n",
    "        sys.exit(1)\n",
    "    except PermissionError as e:\n",
    "        print(f\"Error: Permission denied while writing to '{output_file}'.\")\n",
    "        sys.exit(1)\n",
    "    except Exception as e:\n",
    "        print(f\"An error occurred: {e}\")\n",
    "        sys.exit(1)\n",
    "\n",
    "if _name_ == \"__main__\":\n",
    "    if len(sys.argv) != 3:\n",
    "        print(\"Usage: python program.py <input_file_path> <output_file_path>\")\n",
    "        sys.exit(1)\n",
    "\n",
    "    input_file_path = sys.argv[1]\n",
    "    output_file_path = sys.argv[2]\n",
    "\n",
    "    process_files(input_file_path, output_file_path)"
   ]
  }
 ],
 "metadata": {
  "kernelspec": {
   "display_name": "Python 3 (ipykernel)",
   "language": "python",
   "name": "python3"
  },
  "language_info": {
   "codemirror_mode": {
    "name": "ipython",
    "version": 3
   },
   "file_extension": ".py",
   "mimetype": "text/x-python",
   "name": "python",
   "nbconvert_exporter": "python",
   "pygments_lexer": "ipython3",
   "version": "3.11.4"
  }
 },
 "nbformat": 4,
 "nbformat_minor": 5
}
