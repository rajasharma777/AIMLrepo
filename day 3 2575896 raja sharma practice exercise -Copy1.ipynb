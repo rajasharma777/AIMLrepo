{
 "cells": [
  {
   "cell_type": "code",
   "execution_count": 46,
   "id": "05fb1e8a",
   "metadata": {},
   "outputs": [],
   "source": [
    "#1 write a python function  that copies a file reading and writing upto 50 characheters at a time\n",
    "def copy():\n",
    "    file=open('test1.txt','r')\n",
    "    a = file.read(50)\n",
    "    \n",
    "    file=open('sample.txt','w')\n",
    "    file.write(a)\n",
    "    \n",
    "    file.close()\n",
    "copy()    "
   ]
  },
  {
   "cell_type": "code",
   "execution_count": 45,
   "id": "687be166",
   "metadata": {},
   "outputs": [],
   "source": []
  },
  {
   "cell_type": "code",
   "execution_count": 32,
   "id": "be8382a7",
   "metadata": {},
   "outputs": [
    {
     "name": "stdout",
     "output_type": "stream",
     "text": [
      "3\n"
     ]
    }
   ],
   "source": [
    "#2 to print all numbers and blank space in text file\n",
    "file = open(\"gen.txt\", \"r\")\n",
    "\n",
    "count = 0\n",
    "while True:\n",
    "\n",
    "# this will read each character\n",
    "# and store in char\n",
    "    char = file.read(1)\n",
    "\n",
    "    if char.isspace():\n",
    "        count += 1\n",
    "    if not char:\n",
    "        break\n",
    "\n",
    "print(count)\n",
    "file.close()"
   ]
  },
  {
   "cell_type": "code",
   "execution_count": 21,
   "id": "3823c128",
   "metadata": {},
   "outputs": [
    {
     "name": "stdout",
     "output_type": "stream",
     "text": [
      "The sum is: 12\n"
     ]
    }
   ],
   "source": [
    "\n",
    "#2 to print all numbers  in text file\n",
    "\n",
    "h = open('gen.txt', 'r')\n",
    "\n",
    "# Reading from the file\n",
    "content = h.readlines()\n",
    "\n",
    "# Variable for storing the sum\n",
    "a = 0\n",
    "\n",
    "# Iterating through the content\n",
    "# Of the file\n",
    "for line in content:\n",
    "    for i in line:\n",
    "        if i.isdigit() == True:\n",
    "            a += 1\n",
    "\n",
    "print(\"The sum is:\", a)\n"
   ]
  },
  {
   "cell_type": "code",
   "execution_count": 29,
   "id": "2a4fcd1a",
   "metadata": {},
   "outputs": [],
   "source": [
    "#3\n",
    "#write a function call sed that takes place as arguments a pattern string, \n",
    "#a replcement string , and two filenames; it should read the first file and\n",
    "#write the contents into second file (creating if necessary ) . If the pattern\n",
    "#string appears in anywhere in the file, it should be replaced with the replcement string .\n",
    "#if error occurs while openeing, reading, writing \n",
    "#or closing files, your program should catch the exception , print error messages , and exit\n"
   ]
  },
  {
   "cell_type": "code",
   "execution_count": 49,
   "id": "95ca33fc",
   "metadata": {},
   "outputs": [
    {
     "name": "stdout",
     "output_type": "stream",
     "text": [
      "Replacement completed. Output written to 'test2.txt'\n"
     ]
    }
   ],
   "source": [
    "def sed(pattern, replacement, test1, test2):\n",
    "    try:\n",
    "        \n",
    "        with open(test1, 'r') as file:\n",
    "            \n",
    "            file_content = file.read()\n",
    "\n",
    "   \n",
    "        modified_content = file_content.replace(pattern, replacement)\n",
    "\n",
    "     \n",
    "        with open(test2, 'w') as outfile:\n",
    "            # Write the modified content to the output file\n",
    "            outfile.write(modified_content)\n",
    "\n",
    "        print(f\"Replacement completed. Output written to '{test2}'\")\n",
    "    except FileNotFoundError:\n",
    "        print(f\"Error: File '{test1}' not found.\")\n",
    "\n",
    "sed(' ', '$', 'test1.txt', 'test2.txt')\n"
   ]
  },
  {
   "cell_type": "markdown",
   "id": "f8026096",
   "metadata": {},
   "source": [
    "# 4. Log File Analysis: You have a log file containing records of user activities on a website\n",
    "   Each line in the file represents a log entry with details like timestamp, user ID, and action performedYour task is to analyze this log file. a)Write Python code to read the log file and extract specific information, such as thenumber of unique users or the most common action.\n",
    "\n",
    "b). How would you handle large log files efficiently without loading the entire file into memory? "
   ]
  },
  {
   "cell_type": "code",
   "execution_count": null,
   "id": "52b9f14a",
   "metadata": {},
   "outputs": [],
   "source": [
    "import collections\n",
    "\n",
    "def analyze_log_file(log_file):\n",
    "    try:\n",
    "        with open(log_file, 'r') as file:\n",
    "            lines = file.readlines()\n",
    "\n",
    "        actions = []\n",
    "        user_ids = set()\n",
    "\n",
    "        for line in lines:\n",
    "            parts = line.strip().split(',')\n",
    "            if len(parts) >= 3:\n",
    "                timestamp, user_id, action = parts[0], parts[1], parts[2]\n",
    "                actions.append(action)\n",
    "                user_ids.add(user_id)\n",
    "\n",
    "        # Count the most common action\n",
    "        most_common_action = collections.Counter(actions).most_common(1)\n",
    "\n",
    "        print(f\"Number of unique users: {len(user_ids)}\")\n",
    "        print(f\"Most common action: {most_common_action[0][0]}\")\n",
    "    except FileNotFoundError:\n",
    "        print(f\"Error: File '{log_file}' not found.\")\n",
    "    except Exception as e:\n",
    "        print(f\"An error occurred: {str(e)}\")\n",
    "\n",
    "\n",
    "    log_file = input(\"Enter the log file name: \")\n",
    "    analyze_log_file(log_file)\n"
   ]
  },
  {
   "cell_type": "code",
   "execution_count": 50,
   "id": "64a91e58",
   "metadata": {},
   "outputs": [
    {
     "name": "stdout",
     "output_type": "stream",
     "text": [
      "Text replaced\n"
     ]
    }
   ],
   "source": [
    "#5a) write a pythpn code to search and replace text within a text file.\n",
    "#how would you handle cases where you need to perform multiple replacements in a single pass\n",
    "search_text = \"am\"\n",
    "replace_text = \"replaced\"\n",
    "\n",
    "with open(r'sample.txt', 'r') as file:\n",
    "    data = file.read()\n",
    "    data = data.replace(search_text, replace_text)\n",
    "    \n",
    "with open(r'sample.txt', 'w') as file:\n",
    "    file.write(data)\n",
    "\n",
    "print(\"Text replaced\")\n"
   ]
  },
  {
   "cell_type": "code",
   "execution_count": 86,
   "id": "da961f35",
   "metadata": {},
   "outputs": [
    {
     "name": "stdout",
     "output_type": "stream",
     "text": [
      "Text replaced successfully in text2.txt\n"
     ]
    }
   ],
   "source": [
    "#5b)\n",
    "def search_replace_in_file(input_file, output_file, search_text, replace_text):\n",
    "    try:\n",
    "        with open(input_file, 'r') as file:\n",
    "            file_data = file.read()\n",
    "            file_data = file_data.replace(search_text, replace_text)\n",
    "\n",
    "        with open(output_file, 'w') as file:\n",
    "            file.write(file_data)\n",
    "            \n",
    "        print(f\"Text replaced successfully in {output_file}\")\n",
    "    \n",
    "    except FileNotFoundError:\n",
    "        print(\"Input file not found.\")\n",
    "    except Exception as e:\n",
    "        print(f\"An error occurred: {str(e)}\")\n",
    "\n",
    "# Example usage:\n",
    "input_file = 'text1.txt'\n",
    "output_file = 'text2.txt'\n",
    "search_text = 'ranchi'\n",
    "replace_text = 'chennai'\n",
    "search_replace_in_file(input_file, output_file, search_text, replace_text)\n"
   ]
  },
  {
   "cell_type": "code",
   "execution_count": 55,
   "id": "3d5c0155",
   "metadata": {},
   "outputs": [],
   "source": [
    "#6 write a python scrpt that concatenates the text of multiple \n",
    "#text files into single outputfile. allow the user to specify input and output files\n",
    "  \n"
   ]
  },
  {
   "cell_type": "code",
   "execution_count": 71,
   "id": "66f0ae01",
   "metadata": {},
   "outputs": [
    {
     "name": "stdout",
     "output_type": "stream",
     "text": [
      "enter file name text1\n",
      "want to add another file?(y/n)y\n",
      "enter file name text2\n",
      "want to add another file?(y/n)n\n",
      "i  am from ranchi\n",
      "i am from bangalore\n",
      "\n",
      "\n",
      "merging is done\n"
     ]
    }
   ],
   "source": [
    "files=[]\n",
    "merged_data=\"\"\n",
    "while True:\n",
    "    f_name=input(\"enter file name \")\n",
    "    files.append(f_name)\n",
    "    ans=input(\"want to add another file?(y/n)\").lower()\n",
    "    if ans!='y':\n",
    "        break\n",
    "        \n",
    "for file in files:\n",
    "    filename=file+'.txt'\n",
    "    f=open(filename,mode='r')\n",
    "    merged_data=merged_data+f.read()+'\\n'\n",
    "    f.close()\n",
    "print(merged_data)\n",
    "\n",
    "with open(r'sample.txt',mode='w') as f:\n",
    "    f.write(merged_data)\n",
    "    print(\"merging is done\")\n",
    "\n",
    "\n",
    "    "
   ]
  },
  {
   "cell_type": "markdown",
   "id": "1ff4ab4b",
   "metadata": {},
   "source": [
    "# 7. You are given a text file named input.txt containing a list of words, one word per line. Your task is to create a Python program that reads the contents of input.txt, processes the words, and writes the result to an output filenamed output.txt. aThe program should perform the following operations:\n",
    "\n",
    "(i)Read the words from input.txt.\n",
    "\n",
    "(ii.) For each word in the input file, calculate the length of the word and store it in a dictionary where the word is the key, and the length is the value. iii. Write the word-length dictionary to output.txt in the following format:\n",
    "\n",
    "Word1: Length1\n",
    "\n",
    "Word2: Length2\n",
    "\n",
    "ivClose both input and output files properly. vWrite Python code to accomplish this task. Ensure proper error handling\n",
    "\n",
    "for file operations\n",
    "\n",
    "Sample Input('input.txt')\n",
    "\n",
    "apple\n",
    "\n",
    "banana cherry date\n",
    "\n",
    "Sample Output(\"output.txt')\n",
    "\n",
    "apple: 5\n",
    "\n",
    "banana: 6\n",
    "\n",
    "cherry: 6\n",
    "\n",
    "date: 4\n",
    "\n",
    "Note: Your code should work for any input file containing words and produce the corresponding word-length dictionary in the output file."
   ]
  },
  {
   "cell_type": "code",
   "execution_count": 87,
   "id": "55d6b14b",
   "metadata": {},
   "outputs": [
    {
     "name": "stdout",
     "output_type": "stream",
     "text": [
      "Operation completed successfully.\n"
     ]
    }
   ],
   "source": [
    "try:\n",
    "    with open('input.txt', 'r') as input_file:\n",
    "        word_lengths = {}\n",
    "        \n",
    "        for line in input_file:\n",
    "            words = line.strip().split()\n",
    "            for word in words:\n",
    "                word_lengths[word] = len(word)\n",
    "\n",
    "   \n",
    "    with open('output.txt', 'w') as output_file:\n",
    "        for word, length in word_lengths.items():\n",
    "            output_file.write(f'{word}: {length}\\n')\n",
    "            \n",
    "\n",
    "    print(\"Operation completed successfully.\")\n",
    "\n",
    "except FileNotFoundError:\n",
    "    print(\"Input file 'input.txt' not found.\")\n",
    "except IOError:\n",
    "    print(\"An error occurred while reading/writing the files.\")\n",
    "except Exception as e:\n",
    "    print(f\"An unexpected error occurred: {str(e)}\")"
   ]
  },
  {
   "cell_type": "code",
   "execution_count": null,
   "id": "b9d0938c",
   "metadata": {},
   "outputs": [],
   "source": [
    "#8design a pythom program that accomlishes   \n",
    "#(i) Teachers should be able to input grades for differnet subjects  \n",
    "#(ii) Store the student grade data in sparate text files for each student    \n",
    "#(iii) Students should be able to view their grades for each subject      \n",
    "#(iv) Implement error handling for file operations , such as file not found or permission issues"
   ]
  },
  {
   "cell_type": "code",
   "execution_count": null,
   "id": "1d84184a",
   "metadata": {},
   "outputs": [
    {
     "name": "stdout",
     "output_type": "stream",
     "text": [
      "Options:\n",
      "1. Input Grades\n",
      "2. View Grades\n",
      "3. Quit\n"
     ]
    }
   ],
   "source": [
    "def input_grades():\n",
    "    subject = input(\"Enter the subject: \")\n",
    "    student_name = input(\"Enter student's name: \")\n",
    "    grade = input(\"Enter the grade: \")\n",
    "\n",
    "  \n",
    "    if not os.path.exists(subject):\n",
    "           os.mkdir(subject)\n",
    "\n",
    "    file_path = os.path.join(subject, student_name + \".txt\")\n",
    "    with open(file_path, \"w\") as file:\n",
    "        file.write(grade)\n",
    "\n",
    "\n",
    "def view_grades():\n",
    "    subject = input(\"Enter the subject to view grades: \")\n",
    "    student_name = input(\"Enter your name: \")\n",
    "\n",
    "    file_path = os.path.join(subject, student_name + \".txt\")\n",
    "    try:\n",
    "        with open(file_path, \"r\") as file:\n",
    "            grade = file.read()\n",
    "            print(f\"Your grade in {subject}: {grade}\")\n",
    "    except FileNotFoundError:\n",
    "        print(\"File not found.\")\n",
    "    except PermissionError:\n",
    "        print(\"Permission issue while accessing the file.\")\n",
    "\n",
    "\n",
    "while True:\n",
    "    print(\"Options:\")\n",
    "    print(\"1. Input Grades\")\n",
    "    print(\"2. View Grades\")\n",
    "    print(\"3. Quit\")\n",
    "\n",
    "    choice = input(\"Enter your choice (1/2/3): \")\n",
    "\n",
    "    if choice == \"1\":\n",
    "        input_grades()\n",
    "    elif choice == \"2\":\n",
    "        view_grades()\n",
    "    elif choice == \"3\":\n",
    "        break\n",
    "    else:\n",
    "        print(\"Invalid choice. Please select 1, 2, or 3.\")"
   ]
  },
  {
   "cell_type": "code",
   "execution_count": null,
   "id": "2d75da34",
   "metadata": {},
   "outputs": [],
   "source": []
  }
 ],
 "metadata": {
  "kernelspec": {
   "display_name": "Python 3 (ipykernel)",
   "language": "python",
   "name": "python3"
  },
  "language_info": {
   "codemirror_mode": {
    "name": "ipython",
    "version": 3
   },
   "file_extension": ".py",
   "mimetype": "text/x-python",
   "name": "python",
   "nbconvert_exporter": "python",
   "pygments_lexer": "ipython3",
   "version": "3.11.4"
  }
 },
 "nbformat": 4,
 "nbformat_minor": 5
}
