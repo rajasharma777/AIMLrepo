{
  "nbformat": 4,
  "nbformat_minor": 0,
  "metadata": {
    "colab": {
      "provenance": []
    },
    "kernelspec": {
      "name": "python3",
      "display_name": "Python 3"
    },
    "language_info": {
      "name": "python"
    }
  },
  "cells": [
    {
      "cell_type": "code",
      "source": [
        "import re\n",
        "import nltk\n",
        "import numpy as np\n",
        "from sklearn.model_selection import train_test_split\n",
        "from sklearn.feature_extraction.text import CountVectorizer\n",
        "from sklearn.naive_bayes import MultinomialNB\n",
        "from sklearn.metrics import accuracy_score,confusion_matrix,classification_report"
      ],
      "metadata": {
        "id": "i1bSGeAX7w8B"
      },
      "execution_count": 29,
      "outputs": []
    },
    {
      "cell_type": "code",
      "source": [
        "#sample dataset of correctly spelled and misspelled words\n",
        "correct_words=['hello','world','python','spell','language','model','check']\n",
        "misspelled_words=['helo','worl','pythoon','spl','langage','moel','chek']\n",
        "print(correct_words)\n",
        "print()\n",
        "print(misspelled_words)\n"
      ],
      "metadata": {
        "colab": {
          "base_uri": "https://localhost:8080/"
        },
        "id": "CJsRoq4677g3",
        "outputId": "29e45ebb-81e7-4835-b0ca-c441c90d13bd"
      },
      "execution_count": 30,
      "outputs": [
        {
          "output_type": "stream",
          "name": "stdout",
          "text": [
            "['hello', 'world', 'python', 'spell', 'language', 'model', 'check']\n",
            "\n",
            "['helo', 'worl', 'pythoon', 'spl', 'langage', 'moel', 'chek']\n"
          ]
        }
      ]
    },
    {
      "cell_type": "code",
      "source": [
        "#combile correct & misspelled into a single dataset\n",
        "all_words=correct_words+misspelled_words\n",
        "print(all_words)"
      ],
      "metadata": {
        "colab": {
          "base_uri": "https://localhost:8080/"
        },
        "id": "TpeGYDaY774Y",
        "outputId": "ed0b69f7-a442-4945-920f-5046091b23d8"
      },
      "execution_count": 31,
      "outputs": [
        {
          "output_type": "stream",
          "name": "stdout",
          "text": [
            "['hello', 'world', 'python', 'spell', 'language', 'model', 'check', 'helo', 'worl', 'pythoon', 'spl', 'langage', 'moel', 'chek']\n"
          ]
        }
      ]
    },
    {
      "cell_type": "code",
      "source": [
        "labels=[1] *len(correct_words)+[0] *len(misspelled_words)\n",
        "labels\n"
      ],
      "metadata": {
        "colab": {
          "base_uri": "https://localhost:8080/"
        },
        "id": "H5jTLRoJ8DfY",
        "outputId": "0a370a50-eecc-44f3-e538-1a9d141042b2"
      },
      "execution_count": 32,
      "outputs": [
        {
          "output_type": "execute_result",
          "data": {
            "text/plain": [
              "[1, 1, 1, 1, 1, 1, 1, 0, 0, 0, 0, 0, 0, 0]"
            ]
          },
          "metadata": {},
          "execution_count": 32
        }
      ]
    },
    {
      "cell_type": "code",
      "source": [
        "#Preprocess the data\n",
        "def preprocess_text(text):\n",
        " text=re.sub(r'\\b\\w\\b','',text) #remove single characters\n",
        " return text.lower()\n",
        "all_words=[preprocess_text(word) for word in all_words]\n",
        "print(all_words)\n"
      ],
      "metadata": {
        "colab": {
          "base_uri": "https://localhost:8080/"
        },
        "id": "h_iotLiG8J1A",
        "outputId": "bbbeea81-ee77-4b0d-eb9d-1605c6c633fb"
      },
      "execution_count": 33,
      "outputs": [
        {
          "output_type": "stream",
          "name": "stdout",
          "text": [
            "['hello', 'world', 'python', 'spell', 'language', 'model', 'check', 'helo', 'worl', 'pythoon', 'spl', 'langage', 'moel', 'chek']\n"
          ]
        }
      ]
    },
    {
      "cell_type": "code",
      "source": [
        "#Split the dataset into train & test\n",
        "xtrain,xtest,ytrain,ytest=train_test_split(all_words,labels,test_size=0.2,random_state=4)\n",
        "xtrain,ytrain"
      ],
      "metadata": {
        "colab": {
          "base_uri": "https://localhost:8080/"
        },
        "id": "z_bWkwss8Ld4",
        "outputId": "519c5f7d-efc8-4e2e-bff1-b3ceb9a970f9"
      },
      "execution_count": 34,
      "outputs": [
        {
          "output_type": "execute_result",
          "data": {
            "text/plain": [
              "(['pythoon',\n",
              "  'check',\n",
              "  'chek',\n",
              "  'python',\n",
              "  'hello',\n",
              "  'moel',\n",
              "  'worl',\n",
              "  'world',\n",
              "  'model',\n",
              "  'helo',\n",
              "  'spl'],\n",
              " [0, 1, 0, 1, 1, 0, 0, 1, 1, 0, 0])"
            ]
          },
          "metadata": {},
          "execution_count": 34
        }
      ]
    },
    {
      "cell_type": "code",
      "source": [
        "xtest,ytest"
      ],
      "metadata": {
        "colab": {
          "base_uri": "https://localhost:8080/"
        },
        "id": "y0g6x9nS8P2A",
        "outputId": "c9432247-6652-4056-f172-65b762ab995e"
      },
      "execution_count": 35,
      "outputs": [
        {
          "output_type": "execute_result",
          "data": {
            "text/plain": [
              "(['language', 'spell', 'langage'], [1, 1, 0])"
            ]
          },
          "metadata": {},
          "execution_count": 35
        }
      ]
    },
    {
      "cell_type": "code",
      "source": [
        "\n",
        "#Vectorize the words with BOW repr\n",
        "cv=CountVectorizer()\n",
        "xtrain_cv=cv.fit_transform(xtrain)\n",
        "xtest_cv=cv.transform(xtest)\n",
        "print(xtrain_cv)"
      ],
      "metadata": {
        "colab": {
          "base_uri": "https://localhost:8080/"
        },
        "id": "8PdwQsh68P88",
        "outputId": "3a3e853a-3499-422a-d8e7-5d6c54d131fc"
      },
      "execution_count": 36,
      "outputs": [
        {
          "output_type": "stream",
          "name": "stdout",
          "text": [
            "  (0, 7)\t1\n",
            "  (1, 0)\t1\n",
            "  (2, 1)\t1\n",
            "  (3, 6)\t1\n",
            "  (4, 2)\t1\n",
            "  (5, 5)\t1\n",
            "  (6, 9)\t1\n",
            "  (7, 10)\t1\n",
            "  (8, 4)\t1\n",
            "  (9, 3)\t1\n",
            "  (10, 8)\t1\n"
          ]
        }
      ]
    },
    {
      "cell_type": "code",
      "source": [],
      "metadata": {
        "id": "dQC0ocgq8Wd2"
      },
      "execution_count": null,
      "outputs": []
    },
    {
      "cell_type": "code",
      "source": [
        "!pip install language_tool_python"
      ],
      "metadata": {
        "colab": {
          "base_uri": "https://localhost:8080/"
        },
        "id": "kG_-LLzC6To3",
        "outputId": "3340a01a-04e0-4907-e309-80c781acc88e"
      },
      "execution_count": 23,
      "outputs": [
        {
          "output_type": "stream",
          "name": "stdout",
          "text": [
            "Collecting language_tool_python\n",
            "  Downloading language_tool_python-2.7.1-py3-none-any.whl (34 kB)\n",
            "Requirement already satisfied: requests in /usr/local/lib/python3.10/dist-packages (from language_tool_python) (2.31.0)\n",
            "Requirement already satisfied: tqdm in /usr/local/lib/python3.10/dist-packages (from language_tool_python) (4.66.1)\n",
            "Requirement already satisfied: charset-normalizer<4,>=2 in /usr/local/lib/python3.10/dist-packages (from requests->language_tool_python) (3.3.2)\n",
            "Requirement already satisfied: idna<4,>=2.5 in /usr/local/lib/python3.10/dist-packages (from requests->language_tool_python) (3.4)\n",
            "Requirement already satisfied: urllib3<3,>=1.21.1 in /usr/local/lib/python3.10/dist-packages (from requests->language_tool_python) (2.0.7)\n",
            "Requirement already satisfied: certifi>=2017.4.17 in /usr/local/lib/python3.10/dist-packages (from requests->language_tool_python) (2023.7.22)\n",
            "Installing collected packages: language_tool_python\n",
            "Successfully installed language_tool_python-2.7.1\n"
          ]
        }
      ]
    },
    {
      "cell_type": "code",
      "source": [
        "print(xtest_cv)\n"
      ],
      "metadata": {
        "colab": {
          "base_uri": "https://localhost:8080/"
        },
        "id": "fwn18lv-6_v_",
        "outputId": "81532432-013f-4e0f-cd6d-cd0ca9016031"
      },
      "execution_count": 37,
      "outputs": [
        {
          "output_type": "stream",
          "name": "stdout",
          "text": [
            "\n"
          ]
        }
      ]
    },
    {
      "cell_type": "code",
      "source": [
        "#Classifier model with Naive Bayes Algorithm\n",
        "clf=MultinomialNB()\n",
        "clf.fit(xtrain_cv,ytrain)\n",
        "#test\n",
        "ypred=clf.predict(xtest_cv)\n",
        "#Evaluate\n",
        "accuracy=accuracy_score(ytest,ypred)\n",
        "print(f\"Accuracy: {accuracy*100:.2f}%\")\n"
      ],
      "metadata": {
        "colab": {
          "base_uri": "https://localhost:8080/"
        },
        "id": "IeHgQTcY8bpI",
        "outputId": "cdd4fc39-8dc0-4922-817d-4f2e848f54c6"
      },
      "execution_count": 39,
      "outputs": [
        {
          "output_type": "stream",
          "name": "stdout",
          "text": [
            "Accuracy: 33.33%\n"
          ]
        }
      ]
    },
    {
      "cell_type": "code",
      "source": [
        "#Test the spell check\n",
        "def spell_check(test_word):\n",
        " test_word_vector=cv.transform([preprocess_text(test_word)])\n",
        " prediction=clf.predict(test_word_vector)\n",
        "\n",
        " if prediction[0]==1:\n",
        "  print(f\"{test_word} is spelled correctly.\")\n",
        " else:\n",
        "  print(f\"{test_word} is likely misspelled \")\n",
        "\n"
      ],
      "metadata": {
        "id": "v7duuKuC8fap"
      },
      "execution_count": 42,
      "outputs": []
    },
    {
      "cell_type": "code",
      "source": [
        "spell_check('helo')"
      ],
      "metadata": {
        "colab": {
          "base_uri": "https://localhost:8080/"
        },
        "id": "66_C1xxB8pq2",
        "outputId": "6d616c0f-f0ac-4c7b-d3f8-f7190fb9a494"
      },
      "execution_count": 43,
      "outputs": [
        {
          "output_type": "stream",
          "name": "stdout",
          "text": [
            "helo is likely misspelled \n"
          ]
        }
      ]
    },
    {
      "cell_type": "code",
      "source": [
        "!pip install pyspellchecker\n",
        "\n",
        "\n"
      ],
      "metadata": {
        "colab": {
          "base_uri": "https://localhost:8080/"
        },
        "id": "gKGXaXbd804o",
        "outputId": "093bd626-98bc-4fa8-e7f1-24d13d13ac44"
      },
      "execution_count": 47,
      "outputs": [
        {
          "output_type": "stream",
          "name": "stdout",
          "text": [
            "Requirement already satisfied: pyspellchecker in /usr/local/lib/python3.10/dist-packages (0.7.2)\n"
          ]
        }
      ]
    },
    {
      "cell_type": "code",
      "source": [
        "spell_check('python')\n"
      ],
      "metadata": {
        "colab": {
          "base_uri": "https://localhost:8080/"
        },
        "id": "R5FZA_R96jxo",
        "outputId": "31ed79b6-9cfd-4636-f63c-a380eb949038"
      },
      "execution_count": 45,
      "outputs": [
        {
          "output_type": "stream",
          "name": "stdout",
          "text": [
            "python is spelled correctly.\n"
          ]
        }
      ]
    },
    {
      "cell_type": "code",
      "source": [
        "import language_tool_python\n",
        "from spellchecker import SpellChecker\n",
        "\n",
        "# Initialize language tool and spell checker\n",
        "tool = language_tool_python.LanguageTool('en-GB')\n",
        "spell_checker = SpellChecker()\n",
        "\n",
        "# Function to detect and correct errors in a sentence\n",
        "def correct_errors(sentence):\n",
        "    # Detect errors using language tool\n",
        "    matches = tool.check(sentence)\n",
        "\n",
        "    # Correct errors using spell checker\n",
        "    corrected_sentence = sentence\n",
        "    for mistake in matches:\n",
        "        start, end = mistake.offset, mistake.offset + mistake.errorLength\n",
        "        incorrect_word = sentence[start:end]\n",
        "        corrected_word = spell_checker.correction(incorrect_word)\n",
        "        corrected_sentence = corrected_sentence[:start] + corrected_word + corrected_sentence[end:]\n",
        "\n",
        "    return corrected_sentence\n",
        "\n",
        "# Example usage\n",
        "text = \"This is an exemple sentece.\"\n",
        "corrected_text = correct_errors(text)\n",
        "print(\"Original Text:\", text)\n",
        "print(\"Corrected Text:\", corrected_text)\n"
      ],
      "metadata": {
        "colab": {
          "base_uri": "https://localhost:8080/"
        },
        "id": "OHyooyBY6RA3",
        "outputId": "60c63712-f275-4311-9c96-fda4af3c1476"
      },
      "execution_count": 48,
      "outputs": [
        {
          "output_type": "stream",
          "name": "stdout",
          "text": [
            "Original Text: This is an exemple sentece.\n",
            "Corrected Text: This is an example sentence.\n"
          ]
        }
      ]
    },
    {
      "cell_type": "markdown",
      "source": [],
      "metadata": {
        "id": "c8O3_eGf7vAo"
      }
    }
  ]
}